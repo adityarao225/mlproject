{
  "nbformat": 4,
  "nbformat_minor": 0,
  "metadata": {
    "colab": {
      "provenance": []
    },
    "kernelspec": {
      "name": "python3",
      "display_name": "Python 3"
    },
    "language_info": {
      "name": "python"
    }
  },
  "cells": [
    {
      "cell_type": "markdown",
      "source": [
        "**Imports**"
      ],
      "metadata": {
        "id": "sHSC4q9C6erQ"
      }
    },
    {
      "cell_type": "code",
      "source": [
        "import numpy as np\n",
        "import pandas as pd\n",
        "import matplotlib.pyplot as plt\n",
        "import seaborn as sns\n",
        "import os\n",
        "import sys\n",
        "%matplotlib inline\n",
        "from sklearn.metrics import confusion_matrix, f1_score, accuracy_score\n",
        "import warnings\n",
        "warnings.filterwarnings('ignore')\n",
        "from imblearn.over_sampling import SMOTE\n",
        "from sklearn.preprocessing import StandardScaler\n",
        "from sklearn.model_selection import GridSearchCV, cross_val_score\n",
        "from sklearn.neighbors import NearestCentroid\n",
        "from sklearn.dummy import DummyClassifier\n",
        "from xgboost import XGBClassifier\n",
        "from sklearn.model_selection import train_test_split\n",
        "from sklearn.decomposition import PCA\n",
        "from sklearn.discriminant_analysis import LinearDiscriminantAnalysis\n",
        "from sklearn.svm import SVC\n",
        "\n",
        "import xgboost as xgb\n",
        "from sklearn.linear_model import LogisticRegression\n",
        "from sklearn.metrics import confusion_matrix, f1_score\n"
      ],
      "metadata": {
        "id": "NWaci6l23Dgo"
      },
      "execution_count": null,
      "outputs": []
    },
    {
      "cell_type": "markdown",
      "source": [
        "**Reading Data**"
      ],
      "metadata": {
        "id": "ix4ohpGA6hc7"
      }
    },
    {
      "cell_type": "code",
      "source": [
        "# Importing the Credit Card Default Dataset\n",
        "data_train = pd.read_csv('/content/credit_card_dataset_train.csv')\n",
        "data_train = data_train.sample(n=2000,replace =False,random_state=1)"
      ],
      "metadata": {
        "id": "3N9hegpy7VGV"
      },
      "execution_count": null,
      "outputs": []
    },
    {
      "cell_type": "code",
      "source": [
        "data_train.shape"
      ],
      "metadata": {
        "colab": {
          "base_uri": "https://localhost:8080/"
        },
        "id": "KvGEXyiG39Ko",
        "outputId": "6b59b931-dfcb-49cb-c3b1-379e2405e8be"
      },
      "execution_count": null,
      "outputs": [
        {
          "output_type": "execute_result",
          "data": {
            "text/plain": [
              "(2000, 24)"
            ]
          },
          "metadata": {},
          "execution_count": 68
        }
      ]
    },
    {
      "cell_type": "markdown",
      "source": [
        "**Data Analysis**"
      ],
      "metadata": {
        "id": "YlDXcLFj6qhE"
      }
    },
    {
      "cell_type": "code",
      "source": [
        "data_train.head(5)"
      ],
      "metadata": {
        "colab": {
          "base_uri": "https://localhost:8080/",
          "height": 351
        },
        "id": "3UyuU3ToCqRS",
        "outputId": "480d6649-900e-4b04-904d-fa5073f5326b"
      },
      "execution_count": null,
      "outputs": [
        {
          "output_type": "execute_result",
          "data": {
            "text/plain": [
              "       LIMIT_BAL  SEX  EDUCATION  MARRIAGE  AGE  PAY_0  PAY_2  PAY_3  PAY_4  \\\n",
              "1755       50000    2          2         2   23      0      0      0      0   \n",
              "1548       20000    2          2         1   26      0      0      0      0   \n",
              "25944     130000    1          1         1   29      1      2      0      0   \n",
              "5112      290000    2          2         1   49     -1     -1     -1     -1   \n",
              "9218       40000    2          2         2   25      2      0      0      0   \n",
              "\n",
              "       PAY_5  ...  BILL_AMT4  BILL_AMT5  BILL_AMT6  PAY_AMT1  PAY_AMT2  \\\n",
              "1755      -1  ...       8713       1781       1615      1400      1000   \n",
              "1548       0  ...      18623      15692      15215      1600      1700   \n",
              "25944      0  ...      99119     101535      89883         5      6000   \n",
              "5112      -1  ...       2135       1591       5392      2334       707   \n",
              "9218       2  ...      29333      29816      30577      1750      1772   \n",
              "\n",
              "       PAY_AMT3  PAY_AMT4  PAY_AMT5  PAY_AMT6  default payment next month  \n",
              "1755        500      1781         0         0                           0  \n",
              "1548       1509      1000       670       740                           0  \n",
              "25944      5000      5000    100207      1622                           1  \n",
              "5112       2145      1599      5419      5039                           1  \n",
              "9218       2311      1100      1400         0                           1  \n",
              "\n",
              "[5 rows x 24 columns]"
            ],
            "text/html": [
              "\n",
              "  <div id=\"df-7f94d35c-c537-4f64-9e7c-5cf820f8f9d1\">\n",
              "    <div class=\"colab-df-container\">\n",
              "      <div>\n",
              "<style scoped>\n",
              "    .dataframe tbody tr th:only-of-type {\n",
              "        vertical-align: middle;\n",
              "    }\n",
              "\n",
              "    .dataframe tbody tr th {\n",
              "        vertical-align: top;\n",
              "    }\n",
              "\n",
              "    .dataframe thead th {\n",
              "        text-align: right;\n",
              "    }\n",
              "</style>\n",
              "<table border=\"1\" class=\"dataframe\">\n",
              "  <thead>\n",
              "    <tr style=\"text-align: right;\">\n",
              "      <th></th>\n",
              "      <th>LIMIT_BAL</th>\n",
              "      <th>SEX</th>\n",
              "      <th>EDUCATION</th>\n",
              "      <th>MARRIAGE</th>\n",
              "      <th>AGE</th>\n",
              "      <th>PAY_0</th>\n",
              "      <th>PAY_2</th>\n",
              "      <th>PAY_3</th>\n",
              "      <th>PAY_4</th>\n",
              "      <th>PAY_5</th>\n",
              "      <th>...</th>\n",
              "      <th>BILL_AMT4</th>\n",
              "      <th>BILL_AMT5</th>\n",
              "      <th>BILL_AMT6</th>\n",
              "      <th>PAY_AMT1</th>\n",
              "      <th>PAY_AMT2</th>\n",
              "      <th>PAY_AMT3</th>\n",
              "      <th>PAY_AMT4</th>\n",
              "      <th>PAY_AMT5</th>\n",
              "      <th>PAY_AMT6</th>\n",
              "      <th>default payment next month</th>\n",
              "    </tr>\n",
              "  </thead>\n",
              "  <tbody>\n",
              "    <tr>\n",
              "      <th>1755</th>\n",
              "      <td>50000</td>\n",
              "      <td>2</td>\n",
              "      <td>2</td>\n",
              "      <td>2</td>\n",
              "      <td>23</td>\n",
              "      <td>0</td>\n",
              "      <td>0</td>\n",
              "      <td>0</td>\n",
              "      <td>0</td>\n",
              "      <td>-1</td>\n",
              "      <td>...</td>\n",
              "      <td>8713</td>\n",
              "      <td>1781</td>\n",
              "      <td>1615</td>\n",
              "      <td>1400</td>\n",
              "      <td>1000</td>\n",
              "      <td>500</td>\n",
              "      <td>1781</td>\n",
              "      <td>0</td>\n",
              "      <td>0</td>\n",
              "      <td>0</td>\n",
              "    </tr>\n",
              "    <tr>\n",
              "      <th>1548</th>\n",
              "      <td>20000</td>\n",
              "      <td>2</td>\n",
              "      <td>2</td>\n",
              "      <td>1</td>\n",
              "      <td>26</td>\n",
              "      <td>0</td>\n",
              "      <td>0</td>\n",
              "      <td>0</td>\n",
              "      <td>0</td>\n",
              "      <td>0</td>\n",
              "      <td>...</td>\n",
              "      <td>18623</td>\n",
              "      <td>15692</td>\n",
              "      <td>15215</td>\n",
              "      <td>1600</td>\n",
              "      <td>1700</td>\n",
              "      <td>1509</td>\n",
              "      <td>1000</td>\n",
              "      <td>670</td>\n",
              "      <td>740</td>\n",
              "      <td>0</td>\n",
              "    </tr>\n",
              "    <tr>\n",
              "      <th>25944</th>\n",
              "      <td>130000</td>\n",
              "      <td>1</td>\n",
              "      <td>1</td>\n",
              "      <td>1</td>\n",
              "      <td>29</td>\n",
              "      <td>1</td>\n",
              "      <td>2</td>\n",
              "      <td>0</td>\n",
              "      <td>0</td>\n",
              "      <td>0</td>\n",
              "      <td>...</td>\n",
              "      <td>99119</td>\n",
              "      <td>101535</td>\n",
              "      <td>89883</td>\n",
              "      <td>5</td>\n",
              "      <td>6000</td>\n",
              "      <td>5000</td>\n",
              "      <td>5000</td>\n",
              "      <td>100207</td>\n",
              "      <td>1622</td>\n",
              "      <td>1</td>\n",
              "    </tr>\n",
              "    <tr>\n",
              "      <th>5112</th>\n",
              "      <td>290000</td>\n",
              "      <td>2</td>\n",
              "      <td>2</td>\n",
              "      <td>1</td>\n",
              "      <td>49</td>\n",
              "      <td>-1</td>\n",
              "      <td>-1</td>\n",
              "      <td>-1</td>\n",
              "      <td>-1</td>\n",
              "      <td>-1</td>\n",
              "      <td>...</td>\n",
              "      <td>2135</td>\n",
              "      <td>1591</td>\n",
              "      <td>5392</td>\n",
              "      <td>2334</td>\n",
              "      <td>707</td>\n",
              "      <td>2145</td>\n",
              "      <td>1599</td>\n",
              "      <td>5419</td>\n",
              "      <td>5039</td>\n",
              "      <td>1</td>\n",
              "    </tr>\n",
              "    <tr>\n",
              "      <th>9218</th>\n",
              "      <td>40000</td>\n",
              "      <td>2</td>\n",
              "      <td>2</td>\n",
              "      <td>2</td>\n",
              "      <td>25</td>\n",
              "      <td>2</td>\n",
              "      <td>0</td>\n",
              "      <td>0</td>\n",
              "      <td>0</td>\n",
              "      <td>2</td>\n",
              "      <td>...</td>\n",
              "      <td>29333</td>\n",
              "      <td>29816</td>\n",
              "      <td>30577</td>\n",
              "      <td>1750</td>\n",
              "      <td>1772</td>\n",
              "      <td>2311</td>\n",
              "      <td>1100</td>\n",
              "      <td>1400</td>\n",
              "      <td>0</td>\n",
              "      <td>1</td>\n",
              "    </tr>\n",
              "  </tbody>\n",
              "</table>\n",
              "<p>5 rows × 24 columns</p>\n",
              "</div>\n",
              "      <button class=\"colab-df-convert\" onclick=\"convertToInteractive('df-7f94d35c-c537-4f64-9e7c-5cf820f8f9d1')\"\n",
              "              title=\"Convert this dataframe to an interactive table.\"\n",
              "              style=\"display:none;\">\n",
              "        \n",
              "  <svg xmlns=\"http://www.w3.org/2000/svg\" height=\"24px\"viewBox=\"0 0 24 24\"\n",
              "       width=\"24px\">\n",
              "    <path d=\"M0 0h24v24H0V0z\" fill=\"none\"/>\n",
              "    <path d=\"M18.56 5.44l.94 2.06.94-2.06 2.06-.94-2.06-.94-.94-2.06-.94 2.06-2.06.94zm-11 1L8.5 8.5l.94-2.06 2.06-.94-2.06-.94L8.5 2.5l-.94 2.06-2.06.94zm10 10l.94 2.06.94-2.06 2.06-.94-2.06-.94-.94-2.06-.94 2.06-2.06.94z\"/><path d=\"M17.41 7.96l-1.37-1.37c-.4-.4-.92-.59-1.43-.59-.52 0-1.04.2-1.43.59L10.3 9.45l-7.72 7.72c-.78.78-.78 2.05 0 2.83L4 21.41c.39.39.9.59 1.41.59.51 0 1.02-.2 1.41-.59l7.78-7.78 2.81-2.81c.8-.78.8-2.07 0-2.86zM5.41 20L4 18.59l7.72-7.72 1.47 1.35L5.41 20z\"/>\n",
              "  </svg>\n",
              "      </button>\n",
              "      \n",
              "  <style>\n",
              "    .colab-df-container {\n",
              "      display:flex;\n",
              "      flex-wrap:wrap;\n",
              "      gap: 12px;\n",
              "    }\n",
              "\n",
              "    .colab-df-convert {\n",
              "      background-color: #E8F0FE;\n",
              "      border: none;\n",
              "      border-radius: 50%;\n",
              "      cursor: pointer;\n",
              "      display: none;\n",
              "      fill: #1967D2;\n",
              "      height: 32px;\n",
              "      padding: 0 0 0 0;\n",
              "      width: 32px;\n",
              "    }\n",
              "\n",
              "    .colab-df-convert:hover {\n",
              "      background-color: #E2EBFA;\n",
              "      box-shadow: 0px 1px 2px rgba(60, 64, 67, 0.3), 0px 1px 3px 1px rgba(60, 64, 67, 0.15);\n",
              "      fill: #174EA6;\n",
              "    }\n",
              "\n",
              "    [theme=dark] .colab-df-convert {\n",
              "      background-color: #3B4455;\n",
              "      fill: #D2E3FC;\n",
              "    }\n",
              "\n",
              "    [theme=dark] .colab-df-convert:hover {\n",
              "      background-color: #434B5C;\n",
              "      box-shadow: 0px 1px 3px 1px rgba(0, 0, 0, 0.15);\n",
              "      filter: drop-shadow(0px 1px 2px rgba(0, 0, 0, 0.3));\n",
              "      fill: #FFFFFF;\n",
              "    }\n",
              "  </style>\n",
              "\n",
              "      <script>\n",
              "        const buttonEl =\n",
              "          document.querySelector('#df-7f94d35c-c537-4f64-9e7c-5cf820f8f9d1 button.colab-df-convert');\n",
              "        buttonEl.style.display =\n",
              "          google.colab.kernel.accessAllowed ? 'block' : 'none';\n",
              "\n",
              "        async function convertToInteractive(key) {\n",
              "          const element = document.querySelector('#df-7f94d35c-c537-4f64-9e7c-5cf820f8f9d1');\n",
              "          const dataTable =\n",
              "            await google.colab.kernel.invokeFunction('convertToInteractive',\n",
              "                                                     [key], {});\n",
              "          if (!dataTable) return;\n",
              "\n",
              "          const docLinkHtml = 'Like what you see? Visit the ' +\n",
              "            '<a target=\"_blank\" href=https://colab.research.google.com/notebooks/data_table.ipynb>data table notebook</a>'\n",
              "            + ' to learn more about interactive tables.';\n",
              "          element.innerHTML = '';\n",
              "          dataTable['output_type'] = 'display_data';\n",
              "          await google.colab.output.renderOutput(dataTable, element);\n",
              "          const docLink = document.createElement('div');\n",
              "          docLink.innerHTML = docLinkHtml;\n",
              "          element.appendChild(docLink);\n",
              "        }\n",
              "      </script>\n",
              "    </div>\n",
              "  </div>\n",
              "  "
            ]
          },
          "metadata": {},
          "execution_count": 5
        }
      ]
    },
    {
      "cell_type": "code",
      "source": [
        "data_train.info()"
      ],
      "metadata": {
        "colab": {
          "base_uri": "https://localhost:8080/"
        },
        "id": "eOnNGafGC3Ga",
        "outputId": "81eb579f-95b9-40d6-85bb-84333e84720f"
      },
      "execution_count": null,
      "outputs": [
        {
          "output_type": "stream",
          "name": "stdout",
          "text": [
            "<class 'pandas.core.frame.DataFrame'>\n",
            "Int64Index: 2000 entries, 1755 to 21029\n",
            "Data columns (total 24 columns):\n",
            " #   Column                      Non-Null Count  Dtype\n",
            "---  ------                      --------------  -----\n",
            " 0   LIMIT_BAL                   2000 non-null   int64\n",
            " 1   SEX                         2000 non-null   int64\n",
            " 2   EDUCATION                   2000 non-null   int64\n",
            " 3   MARRIAGE                    2000 non-null   int64\n",
            " 4   AGE                         2000 non-null   int64\n",
            " 5   PAY_0                       2000 non-null   int64\n",
            " 6   PAY_2                       2000 non-null   int64\n",
            " 7   PAY_3                       2000 non-null   int64\n",
            " 8   PAY_4                       2000 non-null   int64\n",
            " 9   PAY_5                       2000 non-null   int64\n",
            " 10  PAY_6                       2000 non-null   int64\n",
            " 11  BILL_AMT1                   2000 non-null   int64\n",
            " 12  BILL_AMT2                   2000 non-null   int64\n",
            " 13  BILL_AMT3                   2000 non-null   int64\n",
            " 14  BILL_AMT4                   2000 non-null   int64\n",
            " 15  BILL_AMT5                   2000 non-null   int64\n",
            " 16  BILL_AMT6                   2000 non-null   int64\n",
            " 17  PAY_AMT1                    2000 non-null   int64\n",
            " 18  PAY_AMT2                    2000 non-null   int64\n",
            " 19  PAY_AMT3                    2000 non-null   int64\n",
            " 20  PAY_AMT4                    2000 non-null   int64\n",
            " 21  PAY_AMT5                    2000 non-null   int64\n",
            " 22  PAY_AMT6                    2000 non-null   int64\n",
            " 23  default payment next month  2000 non-null   int64\n",
            "dtypes: int64(24)\n",
            "memory usage: 390.6 KB\n"
          ]
        }
      ]
    },
    {
      "cell_type": "code",
      "source": [
        "data_train.describe()"
      ],
      "metadata": {
        "colab": {
          "base_uri": "https://localhost:8080/",
          "height": 428
        },
        "id": "Hji3mDsrDBAV",
        "outputId": "0b0fd16f-e76b-4dd4-e34d-f3e9afeabc21"
      },
      "execution_count": null,
      "outputs": [
        {
          "output_type": "execute_result",
          "data": {
            "text/plain": [
              "           LIMIT_BAL         SEX    EDUCATION     MARRIAGE          AGE  \\\n",
              "count    2000.000000  2000.00000  2000.000000  2000.000000  2000.000000   \n",
              "mean   165965.000000     1.61600     1.842500     1.558500    35.521500   \n",
              "std    128316.410976     0.48648     0.797503     0.519339     9.266524   \n",
              "min     10000.000000     1.00000     1.000000     0.000000    21.000000   \n",
              "25%     50000.000000     1.00000     1.000000     1.000000    28.000000   \n",
              "50%    140000.000000     2.00000     2.000000     2.000000    34.000000   \n",
              "75%    230000.000000     2.00000     2.000000     2.000000    42.000000   \n",
              "max    750000.000000     2.00000     6.000000     3.000000    70.000000   \n",
              "\n",
              "             PAY_0        PAY_2        PAY_3        PAY_4        PAY_5  ...  \\\n",
              "count  2000.000000  2000.000000  2000.000000  2000.000000  2000.000000  ...   \n",
              "mean     -0.037000    -0.146000    -0.171500    -0.236500    -0.294500  ...   \n",
              "std       1.115909     1.186334     1.185238     1.115433     1.077195  ...   \n",
              "min      -2.000000    -2.000000    -2.000000    -2.000000    -2.000000  ...   \n",
              "25%      -1.000000    -1.000000    -1.000000    -1.000000    -1.000000  ...   \n",
              "50%       0.000000     0.000000     0.000000     0.000000     0.000000  ...   \n",
              "75%       0.000000     0.000000     0.000000     0.000000     0.000000  ...   \n",
              "max       7.000000     6.000000     7.000000     7.000000     7.000000  ...   \n",
              "\n",
              "           BILL_AMT4      BILL_AMT5      BILL_AMT6       PAY_AMT1  \\\n",
              "count    2000.000000    2000.000000    2000.000000    2000.000000   \n",
              "mean    43548.159500   40234.428500   38573.999000    5380.694000   \n",
              "std     62027.587876   58594.641138   58588.614162   13916.224981   \n",
              "min    -34503.000000  -28335.000000  -51183.000000       0.000000   \n",
              "25%      2134.500000    1493.500000    1127.500000    1000.000000   \n",
              "50%     19144.000000   18117.500000   16463.000000    2200.000000   \n",
              "75%     54583.250000   50832.500000   48705.750000    5341.250000   \n",
              "max    399493.000000  400993.000000  409615.000000  276698.000000   \n",
              "\n",
              "            PAY_AMT2       PAY_AMT3       PAY_AMT4       PAY_AMT5  \\\n",
              "count    2000.000000    2000.000000    2000.000000    2000.000000   \n",
              "mean     5681.640500    5160.995000    4653.205500    4483.259500   \n",
              "std     20027.200167   13919.334389   12767.236671   15486.976643   \n",
              "min         0.000000       0.000000       0.000000       0.000000   \n",
              "25%       780.000000     445.000000     293.500000     186.250000   \n",
              "50%      2000.000000    1711.000000    1482.500000    1474.000000   \n",
              "75%      5000.000000    4709.000000    4167.250000    4000.000000   \n",
              "max    415552.000000  202129.000000  232242.000000  417990.000000   \n",
              "\n",
              "            PAY_AMT6  default payment next month  \n",
              "count    2000.000000                 2000.000000  \n",
              "mean     5338.475500                    0.211500  \n",
              "std     17731.989985                    0.408474  \n",
              "min         0.000000                    0.000000  \n",
              "25%       246.500000                    0.000000  \n",
              "50%      1500.000000                    0.000000  \n",
              "75%      4006.500000                    0.000000  \n",
              "max    351282.000000                    1.000000  \n",
              "\n",
              "[8 rows x 24 columns]"
            ],
            "text/html": [
              "\n",
              "  <div id=\"df-59434edc-132e-43df-8868-7039de131499\">\n",
              "    <div class=\"colab-df-container\">\n",
              "      <div>\n",
              "<style scoped>\n",
              "    .dataframe tbody tr th:only-of-type {\n",
              "        vertical-align: middle;\n",
              "    }\n",
              "\n",
              "    .dataframe tbody tr th {\n",
              "        vertical-align: top;\n",
              "    }\n",
              "\n",
              "    .dataframe thead th {\n",
              "        text-align: right;\n",
              "    }\n",
              "</style>\n",
              "<table border=\"1\" class=\"dataframe\">\n",
              "  <thead>\n",
              "    <tr style=\"text-align: right;\">\n",
              "      <th></th>\n",
              "      <th>LIMIT_BAL</th>\n",
              "      <th>SEX</th>\n",
              "      <th>EDUCATION</th>\n",
              "      <th>MARRIAGE</th>\n",
              "      <th>AGE</th>\n",
              "      <th>PAY_0</th>\n",
              "      <th>PAY_2</th>\n",
              "      <th>PAY_3</th>\n",
              "      <th>PAY_4</th>\n",
              "      <th>PAY_5</th>\n",
              "      <th>...</th>\n",
              "      <th>BILL_AMT4</th>\n",
              "      <th>BILL_AMT5</th>\n",
              "      <th>BILL_AMT6</th>\n",
              "      <th>PAY_AMT1</th>\n",
              "      <th>PAY_AMT2</th>\n",
              "      <th>PAY_AMT3</th>\n",
              "      <th>PAY_AMT4</th>\n",
              "      <th>PAY_AMT5</th>\n",
              "      <th>PAY_AMT6</th>\n",
              "      <th>default payment next month</th>\n",
              "    </tr>\n",
              "  </thead>\n",
              "  <tbody>\n",
              "    <tr>\n",
              "      <th>count</th>\n",
              "      <td>2000.000000</td>\n",
              "      <td>2000.00000</td>\n",
              "      <td>2000.000000</td>\n",
              "      <td>2000.000000</td>\n",
              "      <td>2000.000000</td>\n",
              "      <td>2000.000000</td>\n",
              "      <td>2000.000000</td>\n",
              "      <td>2000.000000</td>\n",
              "      <td>2000.000000</td>\n",
              "      <td>2000.000000</td>\n",
              "      <td>...</td>\n",
              "      <td>2000.000000</td>\n",
              "      <td>2000.000000</td>\n",
              "      <td>2000.000000</td>\n",
              "      <td>2000.000000</td>\n",
              "      <td>2000.000000</td>\n",
              "      <td>2000.000000</td>\n",
              "      <td>2000.000000</td>\n",
              "      <td>2000.000000</td>\n",
              "      <td>2000.000000</td>\n",
              "      <td>2000.000000</td>\n",
              "    </tr>\n",
              "    <tr>\n",
              "      <th>mean</th>\n",
              "      <td>165965.000000</td>\n",
              "      <td>1.61600</td>\n",
              "      <td>1.842500</td>\n",
              "      <td>1.558500</td>\n",
              "      <td>35.521500</td>\n",
              "      <td>-0.037000</td>\n",
              "      <td>-0.146000</td>\n",
              "      <td>-0.171500</td>\n",
              "      <td>-0.236500</td>\n",
              "      <td>-0.294500</td>\n",
              "      <td>...</td>\n",
              "      <td>43548.159500</td>\n",
              "      <td>40234.428500</td>\n",
              "      <td>38573.999000</td>\n",
              "      <td>5380.694000</td>\n",
              "      <td>5681.640500</td>\n",
              "      <td>5160.995000</td>\n",
              "      <td>4653.205500</td>\n",
              "      <td>4483.259500</td>\n",
              "      <td>5338.475500</td>\n",
              "      <td>0.211500</td>\n",
              "    </tr>\n",
              "    <tr>\n",
              "      <th>std</th>\n",
              "      <td>128316.410976</td>\n",
              "      <td>0.48648</td>\n",
              "      <td>0.797503</td>\n",
              "      <td>0.519339</td>\n",
              "      <td>9.266524</td>\n",
              "      <td>1.115909</td>\n",
              "      <td>1.186334</td>\n",
              "      <td>1.185238</td>\n",
              "      <td>1.115433</td>\n",
              "      <td>1.077195</td>\n",
              "      <td>...</td>\n",
              "      <td>62027.587876</td>\n",
              "      <td>58594.641138</td>\n",
              "      <td>58588.614162</td>\n",
              "      <td>13916.224981</td>\n",
              "      <td>20027.200167</td>\n",
              "      <td>13919.334389</td>\n",
              "      <td>12767.236671</td>\n",
              "      <td>15486.976643</td>\n",
              "      <td>17731.989985</td>\n",
              "      <td>0.408474</td>\n",
              "    </tr>\n",
              "    <tr>\n",
              "      <th>min</th>\n",
              "      <td>10000.000000</td>\n",
              "      <td>1.00000</td>\n",
              "      <td>1.000000</td>\n",
              "      <td>0.000000</td>\n",
              "      <td>21.000000</td>\n",
              "      <td>-2.000000</td>\n",
              "      <td>-2.000000</td>\n",
              "      <td>-2.000000</td>\n",
              "      <td>-2.000000</td>\n",
              "      <td>-2.000000</td>\n",
              "      <td>...</td>\n",
              "      <td>-34503.000000</td>\n",
              "      <td>-28335.000000</td>\n",
              "      <td>-51183.000000</td>\n",
              "      <td>0.000000</td>\n",
              "      <td>0.000000</td>\n",
              "      <td>0.000000</td>\n",
              "      <td>0.000000</td>\n",
              "      <td>0.000000</td>\n",
              "      <td>0.000000</td>\n",
              "      <td>0.000000</td>\n",
              "    </tr>\n",
              "    <tr>\n",
              "      <th>25%</th>\n",
              "      <td>50000.000000</td>\n",
              "      <td>1.00000</td>\n",
              "      <td>1.000000</td>\n",
              "      <td>1.000000</td>\n",
              "      <td>28.000000</td>\n",
              "      <td>-1.000000</td>\n",
              "      <td>-1.000000</td>\n",
              "      <td>-1.000000</td>\n",
              "      <td>-1.000000</td>\n",
              "      <td>-1.000000</td>\n",
              "      <td>...</td>\n",
              "      <td>2134.500000</td>\n",
              "      <td>1493.500000</td>\n",
              "      <td>1127.500000</td>\n",
              "      <td>1000.000000</td>\n",
              "      <td>780.000000</td>\n",
              "      <td>445.000000</td>\n",
              "      <td>293.500000</td>\n",
              "      <td>186.250000</td>\n",
              "      <td>246.500000</td>\n",
              "      <td>0.000000</td>\n",
              "    </tr>\n",
              "    <tr>\n",
              "      <th>50%</th>\n",
              "      <td>140000.000000</td>\n",
              "      <td>2.00000</td>\n",
              "      <td>2.000000</td>\n",
              "      <td>2.000000</td>\n",
              "      <td>34.000000</td>\n",
              "      <td>0.000000</td>\n",
              "      <td>0.000000</td>\n",
              "      <td>0.000000</td>\n",
              "      <td>0.000000</td>\n",
              "      <td>0.000000</td>\n",
              "      <td>...</td>\n",
              "      <td>19144.000000</td>\n",
              "      <td>18117.500000</td>\n",
              "      <td>16463.000000</td>\n",
              "      <td>2200.000000</td>\n",
              "      <td>2000.000000</td>\n",
              "      <td>1711.000000</td>\n",
              "      <td>1482.500000</td>\n",
              "      <td>1474.000000</td>\n",
              "      <td>1500.000000</td>\n",
              "      <td>0.000000</td>\n",
              "    </tr>\n",
              "    <tr>\n",
              "      <th>75%</th>\n",
              "      <td>230000.000000</td>\n",
              "      <td>2.00000</td>\n",
              "      <td>2.000000</td>\n",
              "      <td>2.000000</td>\n",
              "      <td>42.000000</td>\n",
              "      <td>0.000000</td>\n",
              "      <td>0.000000</td>\n",
              "      <td>0.000000</td>\n",
              "      <td>0.000000</td>\n",
              "      <td>0.000000</td>\n",
              "      <td>...</td>\n",
              "      <td>54583.250000</td>\n",
              "      <td>50832.500000</td>\n",
              "      <td>48705.750000</td>\n",
              "      <td>5341.250000</td>\n",
              "      <td>5000.000000</td>\n",
              "      <td>4709.000000</td>\n",
              "      <td>4167.250000</td>\n",
              "      <td>4000.000000</td>\n",
              "      <td>4006.500000</td>\n",
              "      <td>0.000000</td>\n",
              "    </tr>\n",
              "    <tr>\n",
              "      <th>max</th>\n",
              "      <td>750000.000000</td>\n",
              "      <td>2.00000</td>\n",
              "      <td>6.000000</td>\n",
              "      <td>3.000000</td>\n",
              "      <td>70.000000</td>\n",
              "      <td>7.000000</td>\n",
              "      <td>6.000000</td>\n",
              "      <td>7.000000</td>\n",
              "      <td>7.000000</td>\n",
              "      <td>7.000000</td>\n",
              "      <td>...</td>\n",
              "      <td>399493.000000</td>\n",
              "      <td>400993.000000</td>\n",
              "      <td>409615.000000</td>\n",
              "      <td>276698.000000</td>\n",
              "      <td>415552.000000</td>\n",
              "      <td>202129.000000</td>\n",
              "      <td>232242.000000</td>\n",
              "      <td>417990.000000</td>\n",
              "      <td>351282.000000</td>\n",
              "      <td>1.000000</td>\n",
              "    </tr>\n",
              "  </tbody>\n",
              "</table>\n",
              "<p>8 rows × 24 columns</p>\n",
              "</div>\n",
              "      <button class=\"colab-df-convert\" onclick=\"convertToInteractive('df-59434edc-132e-43df-8868-7039de131499')\"\n",
              "              title=\"Convert this dataframe to an interactive table.\"\n",
              "              style=\"display:none;\">\n",
              "        \n",
              "  <svg xmlns=\"http://www.w3.org/2000/svg\" height=\"24px\"viewBox=\"0 0 24 24\"\n",
              "       width=\"24px\">\n",
              "    <path d=\"M0 0h24v24H0V0z\" fill=\"none\"/>\n",
              "    <path d=\"M18.56 5.44l.94 2.06.94-2.06 2.06-.94-2.06-.94-.94-2.06-.94 2.06-2.06.94zm-11 1L8.5 8.5l.94-2.06 2.06-.94-2.06-.94L8.5 2.5l-.94 2.06-2.06.94zm10 10l.94 2.06.94-2.06 2.06-.94-2.06-.94-.94-2.06-.94 2.06-2.06.94z\"/><path d=\"M17.41 7.96l-1.37-1.37c-.4-.4-.92-.59-1.43-.59-.52 0-1.04.2-1.43.59L10.3 9.45l-7.72 7.72c-.78.78-.78 2.05 0 2.83L4 21.41c.39.39.9.59 1.41.59.51 0 1.02-.2 1.41-.59l7.78-7.78 2.81-2.81c.8-.78.8-2.07 0-2.86zM5.41 20L4 18.59l7.72-7.72 1.47 1.35L5.41 20z\"/>\n",
              "  </svg>\n",
              "      </button>\n",
              "      \n",
              "  <style>\n",
              "    .colab-df-container {\n",
              "      display:flex;\n",
              "      flex-wrap:wrap;\n",
              "      gap: 12px;\n",
              "    }\n",
              "\n",
              "    .colab-df-convert {\n",
              "      background-color: #E8F0FE;\n",
              "      border: none;\n",
              "      border-radius: 50%;\n",
              "      cursor: pointer;\n",
              "      display: none;\n",
              "      fill: #1967D2;\n",
              "      height: 32px;\n",
              "      padding: 0 0 0 0;\n",
              "      width: 32px;\n",
              "    }\n",
              "\n",
              "    .colab-df-convert:hover {\n",
              "      background-color: #E2EBFA;\n",
              "      box-shadow: 0px 1px 2px rgba(60, 64, 67, 0.3), 0px 1px 3px 1px rgba(60, 64, 67, 0.15);\n",
              "      fill: #174EA6;\n",
              "    }\n",
              "\n",
              "    [theme=dark] .colab-df-convert {\n",
              "      background-color: #3B4455;\n",
              "      fill: #D2E3FC;\n",
              "    }\n",
              "\n",
              "    [theme=dark] .colab-df-convert:hover {\n",
              "      background-color: #434B5C;\n",
              "      box-shadow: 0px 1px 3px 1px rgba(0, 0, 0, 0.15);\n",
              "      filter: drop-shadow(0px 1px 2px rgba(0, 0, 0, 0.3));\n",
              "      fill: #FFFFFF;\n",
              "    }\n",
              "  </style>\n",
              "\n",
              "      <script>\n",
              "        const buttonEl =\n",
              "          document.querySelector('#df-59434edc-132e-43df-8868-7039de131499 button.colab-df-convert');\n",
              "        buttonEl.style.display =\n",
              "          google.colab.kernel.accessAllowed ? 'block' : 'none';\n",
              "\n",
              "        async function convertToInteractive(key) {\n",
              "          const element = document.querySelector('#df-59434edc-132e-43df-8868-7039de131499');\n",
              "          const dataTable =\n",
              "            await google.colab.kernel.invokeFunction('convertToInteractive',\n",
              "                                                     [key], {});\n",
              "          if (!dataTable) return;\n",
              "\n",
              "          const docLinkHtml = 'Like what you see? Visit the ' +\n",
              "            '<a target=\"_blank\" href=https://colab.research.google.com/notebooks/data_table.ipynb>data table notebook</a>'\n",
              "            + ' to learn more about interactive tables.';\n",
              "          element.innerHTML = '';\n",
              "          dataTable['output_type'] = 'display_data';\n",
              "          await google.colab.output.renderOutput(dataTable, element);\n",
              "          const docLink = document.createElement('div');\n",
              "          docLink.innerHTML = docLinkHtml;\n",
              "          element.appendChild(docLink);\n",
              "        }\n",
              "      </script>\n",
              "    </div>\n",
              "  </div>\n",
              "  "
            ]
          },
          "metadata": {},
          "execution_count": 7
        }
      ]
    },
    {
      "cell_type": "code",
      "source": [
        "df = data_train.copy()"
      ],
      "metadata": {
        "id": "OMqMaouNQHsP"
      },
      "execution_count": null,
      "outputs": []
    },
    {
      "cell_type": "code",
      "source": [
        "df.isnull().sum()"
      ],
      "metadata": {
        "colab": {
          "base_uri": "https://localhost:8080/"
        },
        "id": "uBRGZpj-FX_3",
        "outputId": "e9eb245a-efc1-4d9f-a6c3-3c6aed878ddb"
      },
      "execution_count": null,
      "outputs": [
        {
          "output_type": "execute_result",
          "data": {
            "text/plain": [
              "LIMIT_BAL                     0\n",
              "SEX                           0\n",
              "EDUCATION                     0\n",
              "MARRIAGE                      0\n",
              "AGE                           0\n",
              "PAY_0                         0\n",
              "PAY_2                         0\n",
              "PAY_3                         0\n",
              "PAY_4                         0\n",
              "PAY_5                         0\n",
              "PAY_6                         0\n",
              "BILL_AMT1                     0\n",
              "BILL_AMT2                     0\n",
              "BILL_AMT3                     0\n",
              "BILL_AMT4                     0\n",
              "BILL_AMT5                     0\n",
              "BILL_AMT6                     0\n",
              "PAY_AMT1                      0\n",
              "PAY_AMT2                      0\n",
              "PAY_AMT3                      0\n",
              "PAY_AMT4                      0\n",
              "PAY_AMT5                      0\n",
              "PAY_AMT6                      0\n",
              "default payment next month    0\n",
              "dtype: int64"
            ]
          },
          "metadata": {},
          "execution_count": 9
        }
      ]
    },
    {
      "cell_type": "code",
      "source": [
        "df['SEX'].value_counts(dropna=False)"
      ],
      "metadata": {
        "colab": {
          "base_uri": "https://localhost:8080/"
        },
        "id": "lHrl4aNNFhlc",
        "outputId": "4dd68b93-f1b1-4702-e881-0e7ef3915fc6"
      },
      "execution_count": null,
      "outputs": [
        {
          "output_type": "execute_result",
          "data": {
            "text/plain": [
              "2    1232\n",
              "1     768\n",
              "Name: SEX, dtype: int64"
            ]
          },
          "metadata": {},
          "execution_count": 10
        }
      ]
    },
    {
      "cell_type": "code",
      "source": [
        "df['EDUCATION'].value_counts(dropna=False)"
      ],
      "metadata": {
        "colab": {
          "base_uri": "https://localhost:8080/"
        },
        "id": "5L23RaXiFpBy",
        "outputId": "b7abf6ca-fb38-438d-be3d-5159d6d6acef"
      },
      "execution_count": null,
      "outputs": [
        {
          "output_type": "execute_result",
          "data": {
            "text/plain": [
              "2    930\n",
              "1    724\n",
              "3    311\n",
              "5     22\n",
              "4     10\n",
              "6      3\n",
              "Name: EDUCATION, dtype: int64"
            ]
          },
          "metadata": {},
          "execution_count": 11
        }
      ]
    },
    {
      "cell_type": "code",
      "source": [
        "#changing variable names for ease\n",
        "df = df.rename(columns={'default payment next month': 'default_payment',\n",
        "                        'PAY_0': 'PAY_1'})\n",
        "df.head()"
      ],
      "metadata": {
        "colab": {
          "base_uri": "https://localhost:8080/",
          "height": 299
        },
        "id": "VF8i-4ecF19y",
        "outputId": "7d856ed7-1cf7-4236-e1c0-afaecde325f3"
      },
      "execution_count": null,
      "outputs": [
        {
          "output_type": "execute_result",
          "data": {
            "text/plain": [
              "       LIMIT_BAL  SEX  EDUCATION  MARRIAGE  AGE  PAY_1  PAY_2  PAY_3  PAY_4  \\\n",
              "1755       50000    2          2         2   23      0      0      0      0   \n",
              "1548       20000    2          2         1   26      0      0      0      0   \n",
              "25944     130000    1          1         1   29      1      2      0      0   \n",
              "5112      290000    2          2         1   49     -1     -1     -1     -1   \n",
              "9218       40000    2          2         2   25      2      0      0      0   \n",
              "\n",
              "       PAY_5  ...  BILL_AMT4  BILL_AMT5  BILL_AMT6  PAY_AMT1  PAY_AMT2  \\\n",
              "1755      -1  ...       8713       1781       1615      1400      1000   \n",
              "1548       0  ...      18623      15692      15215      1600      1700   \n",
              "25944      0  ...      99119     101535      89883         5      6000   \n",
              "5112      -1  ...       2135       1591       5392      2334       707   \n",
              "9218       2  ...      29333      29816      30577      1750      1772   \n",
              "\n",
              "       PAY_AMT3  PAY_AMT4  PAY_AMT5  PAY_AMT6  default_payment  \n",
              "1755        500      1781         0         0                0  \n",
              "1548       1509      1000       670       740                0  \n",
              "25944      5000      5000    100207      1622                1  \n",
              "5112       2145      1599      5419      5039                1  \n",
              "9218       2311      1100      1400         0                1  \n",
              "\n",
              "[5 rows x 24 columns]"
            ],
            "text/html": [
              "\n",
              "  <div id=\"df-ad68761f-67a1-49cc-bf5b-4f11cf47e32b\">\n",
              "    <div class=\"colab-df-container\">\n",
              "      <div>\n",
              "<style scoped>\n",
              "    .dataframe tbody tr th:only-of-type {\n",
              "        vertical-align: middle;\n",
              "    }\n",
              "\n",
              "    .dataframe tbody tr th {\n",
              "        vertical-align: top;\n",
              "    }\n",
              "\n",
              "    .dataframe thead th {\n",
              "        text-align: right;\n",
              "    }\n",
              "</style>\n",
              "<table border=\"1\" class=\"dataframe\">\n",
              "  <thead>\n",
              "    <tr style=\"text-align: right;\">\n",
              "      <th></th>\n",
              "      <th>LIMIT_BAL</th>\n",
              "      <th>SEX</th>\n",
              "      <th>EDUCATION</th>\n",
              "      <th>MARRIAGE</th>\n",
              "      <th>AGE</th>\n",
              "      <th>PAY_1</th>\n",
              "      <th>PAY_2</th>\n",
              "      <th>PAY_3</th>\n",
              "      <th>PAY_4</th>\n",
              "      <th>PAY_5</th>\n",
              "      <th>...</th>\n",
              "      <th>BILL_AMT4</th>\n",
              "      <th>BILL_AMT5</th>\n",
              "      <th>BILL_AMT6</th>\n",
              "      <th>PAY_AMT1</th>\n",
              "      <th>PAY_AMT2</th>\n",
              "      <th>PAY_AMT3</th>\n",
              "      <th>PAY_AMT4</th>\n",
              "      <th>PAY_AMT5</th>\n",
              "      <th>PAY_AMT6</th>\n",
              "      <th>default_payment</th>\n",
              "    </tr>\n",
              "  </thead>\n",
              "  <tbody>\n",
              "    <tr>\n",
              "      <th>1755</th>\n",
              "      <td>50000</td>\n",
              "      <td>2</td>\n",
              "      <td>2</td>\n",
              "      <td>2</td>\n",
              "      <td>23</td>\n",
              "      <td>0</td>\n",
              "      <td>0</td>\n",
              "      <td>0</td>\n",
              "      <td>0</td>\n",
              "      <td>-1</td>\n",
              "      <td>...</td>\n",
              "      <td>8713</td>\n",
              "      <td>1781</td>\n",
              "      <td>1615</td>\n",
              "      <td>1400</td>\n",
              "      <td>1000</td>\n",
              "      <td>500</td>\n",
              "      <td>1781</td>\n",
              "      <td>0</td>\n",
              "      <td>0</td>\n",
              "      <td>0</td>\n",
              "    </tr>\n",
              "    <tr>\n",
              "      <th>1548</th>\n",
              "      <td>20000</td>\n",
              "      <td>2</td>\n",
              "      <td>2</td>\n",
              "      <td>1</td>\n",
              "      <td>26</td>\n",
              "      <td>0</td>\n",
              "      <td>0</td>\n",
              "      <td>0</td>\n",
              "      <td>0</td>\n",
              "      <td>0</td>\n",
              "      <td>...</td>\n",
              "      <td>18623</td>\n",
              "      <td>15692</td>\n",
              "      <td>15215</td>\n",
              "      <td>1600</td>\n",
              "      <td>1700</td>\n",
              "      <td>1509</td>\n",
              "      <td>1000</td>\n",
              "      <td>670</td>\n",
              "      <td>740</td>\n",
              "      <td>0</td>\n",
              "    </tr>\n",
              "    <tr>\n",
              "      <th>25944</th>\n",
              "      <td>130000</td>\n",
              "      <td>1</td>\n",
              "      <td>1</td>\n",
              "      <td>1</td>\n",
              "      <td>29</td>\n",
              "      <td>1</td>\n",
              "      <td>2</td>\n",
              "      <td>0</td>\n",
              "      <td>0</td>\n",
              "      <td>0</td>\n",
              "      <td>...</td>\n",
              "      <td>99119</td>\n",
              "      <td>101535</td>\n",
              "      <td>89883</td>\n",
              "      <td>5</td>\n",
              "      <td>6000</td>\n",
              "      <td>5000</td>\n",
              "      <td>5000</td>\n",
              "      <td>100207</td>\n",
              "      <td>1622</td>\n",
              "      <td>1</td>\n",
              "    </tr>\n",
              "    <tr>\n",
              "      <th>5112</th>\n",
              "      <td>290000</td>\n",
              "      <td>2</td>\n",
              "      <td>2</td>\n",
              "      <td>1</td>\n",
              "      <td>49</td>\n",
              "      <td>-1</td>\n",
              "      <td>-1</td>\n",
              "      <td>-1</td>\n",
              "      <td>-1</td>\n",
              "      <td>-1</td>\n",
              "      <td>...</td>\n",
              "      <td>2135</td>\n",
              "      <td>1591</td>\n",
              "      <td>5392</td>\n",
              "      <td>2334</td>\n",
              "      <td>707</td>\n",
              "      <td>2145</td>\n",
              "      <td>1599</td>\n",
              "      <td>5419</td>\n",
              "      <td>5039</td>\n",
              "      <td>1</td>\n",
              "    </tr>\n",
              "    <tr>\n",
              "      <th>9218</th>\n",
              "      <td>40000</td>\n",
              "      <td>2</td>\n",
              "      <td>2</td>\n",
              "      <td>2</td>\n",
              "      <td>25</td>\n",
              "      <td>2</td>\n",
              "      <td>0</td>\n",
              "      <td>0</td>\n",
              "      <td>0</td>\n",
              "      <td>2</td>\n",
              "      <td>...</td>\n",
              "      <td>29333</td>\n",
              "      <td>29816</td>\n",
              "      <td>30577</td>\n",
              "      <td>1750</td>\n",
              "      <td>1772</td>\n",
              "      <td>2311</td>\n",
              "      <td>1100</td>\n",
              "      <td>1400</td>\n",
              "      <td>0</td>\n",
              "      <td>1</td>\n",
              "    </tr>\n",
              "  </tbody>\n",
              "</table>\n",
              "<p>5 rows × 24 columns</p>\n",
              "</div>\n",
              "      <button class=\"colab-df-convert\" onclick=\"convertToInteractive('df-ad68761f-67a1-49cc-bf5b-4f11cf47e32b')\"\n",
              "              title=\"Convert this dataframe to an interactive table.\"\n",
              "              style=\"display:none;\">\n",
              "        \n",
              "  <svg xmlns=\"http://www.w3.org/2000/svg\" height=\"24px\"viewBox=\"0 0 24 24\"\n",
              "       width=\"24px\">\n",
              "    <path d=\"M0 0h24v24H0V0z\" fill=\"none\"/>\n",
              "    <path d=\"M18.56 5.44l.94 2.06.94-2.06 2.06-.94-2.06-.94-.94-2.06-.94 2.06-2.06.94zm-11 1L8.5 8.5l.94-2.06 2.06-.94-2.06-.94L8.5 2.5l-.94 2.06-2.06.94zm10 10l.94 2.06.94-2.06 2.06-.94-2.06-.94-.94-2.06-.94 2.06-2.06.94z\"/><path d=\"M17.41 7.96l-1.37-1.37c-.4-.4-.92-.59-1.43-.59-.52 0-1.04.2-1.43.59L10.3 9.45l-7.72 7.72c-.78.78-.78 2.05 0 2.83L4 21.41c.39.39.9.59 1.41.59.51 0 1.02-.2 1.41-.59l7.78-7.78 2.81-2.81c.8-.78.8-2.07 0-2.86zM5.41 20L4 18.59l7.72-7.72 1.47 1.35L5.41 20z\"/>\n",
              "  </svg>\n",
              "      </button>\n",
              "      \n",
              "  <style>\n",
              "    .colab-df-container {\n",
              "      display:flex;\n",
              "      flex-wrap:wrap;\n",
              "      gap: 12px;\n",
              "    }\n",
              "\n",
              "    .colab-df-convert {\n",
              "      background-color: #E8F0FE;\n",
              "      border: none;\n",
              "      border-radius: 50%;\n",
              "      cursor: pointer;\n",
              "      display: none;\n",
              "      fill: #1967D2;\n",
              "      height: 32px;\n",
              "      padding: 0 0 0 0;\n",
              "      width: 32px;\n",
              "    }\n",
              "\n",
              "    .colab-df-convert:hover {\n",
              "      background-color: #E2EBFA;\n",
              "      box-shadow: 0px 1px 2px rgba(60, 64, 67, 0.3), 0px 1px 3px 1px rgba(60, 64, 67, 0.15);\n",
              "      fill: #174EA6;\n",
              "    }\n",
              "\n",
              "    [theme=dark] .colab-df-convert {\n",
              "      background-color: #3B4455;\n",
              "      fill: #D2E3FC;\n",
              "    }\n",
              "\n",
              "    [theme=dark] .colab-df-convert:hover {\n",
              "      background-color: #434B5C;\n",
              "      box-shadow: 0px 1px 3px 1px rgba(0, 0, 0, 0.15);\n",
              "      filter: drop-shadow(0px 1px 2px rgba(0, 0, 0, 0.3));\n",
              "      fill: #FFFFFF;\n",
              "    }\n",
              "  </style>\n",
              "\n",
              "      <script>\n",
              "        const buttonEl =\n",
              "          document.querySelector('#df-ad68761f-67a1-49cc-bf5b-4f11cf47e32b button.colab-df-convert');\n",
              "        buttonEl.style.display =\n",
              "          google.colab.kernel.accessAllowed ? 'block' : 'none';\n",
              "\n",
              "        async function convertToInteractive(key) {\n",
              "          const element = document.querySelector('#df-ad68761f-67a1-49cc-bf5b-4f11cf47e32b');\n",
              "          const dataTable =\n",
              "            await google.colab.kernel.invokeFunction('convertToInteractive',\n",
              "                                                     [key], {});\n",
              "          if (!dataTable) return;\n",
              "\n",
              "          const docLinkHtml = 'Like what you see? Visit the ' +\n",
              "            '<a target=\"_blank\" href=https://colab.research.google.com/notebooks/data_table.ipynb>data table notebook</a>'\n",
              "            + ' to learn more about interactive tables.';\n",
              "          element.innerHTML = '';\n",
              "          dataTable['output_type'] = 'display_data';\n",
              "          await google.colab.output.renderOutput(dataTable, element);\n",
              "          const docLink = document.createElement('div');\n",
              "          docLink.innerHTML = docLinkHtml;\n",
              "          element.appendChild(docLink);\n",
              "        }\n",
              "      </script>\n",
              "    </div>\n",
              "  </div>\n",
              "  "
            ]
          },
          "metadata": {},
          "execution_count": 12
        }
      ]
    },
    {
      "cell_type": "code",
      "source": [
        "\n",
        "#Histogram for default payments\n",
        "\n",
        "sns.histplot(data=df, x='default_payment', kde=False)\n",
        "plt.xlabel('DEFAULT_PAY')\n",
        "plt.ylabel('COUNT')\n",
        "plt.title('Default Payment Histogram')\n",
        "plt.xticks([0, 1], ['Not Default', 'Default'])\n",
        "plt.show()\n"
      ],
      "metadata": {
        "colab": {
          "base_uri": "https://localhost:8080/",
          "height": 472
        },
        "id": "0BFC-Qg0F-pw",
        "outputId": "b39d8ef7-1eb8-467d-e964-29656260d097"
      },
      "execution_count": null,
      "outputs": [
        {
          "output_type": "display_data",
          "data": {
            "text/plain": [
              "<Figure size 640x480 with 1 Axes>"
            ],
            "image/png": "[encoded data removed]"
          },
          "metadata": {}
        }
      ]
    },
    {
      "cell_type": "code",
      "source": [
        "#Marriage distribution\n",
        "\n",
        "sns.histplot(data=df, x='MARRIAGE', kde=False)\n",
        "plt.xlabel('MARRIAGE')\n",
        "plt.ylabel('COUNT')\n",
        "plt.title('Marriage Distribution')\n",
        "plt.xticks([0, 1, 2, 3], ['Unknown', 'Married', 'Single', 'Other'])\n",
        "plt.show()\n"
      ],
      "metadata": {
        "colab": {
          "base_uri": "https://localhost:8080/",
          "height": 472
        },
        "id": "7CtWMXRsxABu",
        "outputId": "0cb9e7c4-4e64-41f3-ebee-ae88bf9de59c"
      },
      "execution_count": null,
      "outputs": [
        {
          "output_type": "display_data",
          "data": {
            "text/plain": [
              "<Figure size 640x480 with 1 Axes>"
            ],
            "image/png": "[encoded data removed]"
          },
          "metadata": {}
        }
      ]
    },
    {
      "cell_type": "code",
      "source": [
        "#Education distribution\n",
        "sns.histplot(data=df, x='EDUCATION', kde=False)\n",
        "plt.xlabel('EDUCATION')\n",
        "plt.ylabel('COUNT')\n",
        "plt.title('Education Distribution')\n",
        "plt.xticks([0, 1, 2, 3, 4, 5, 6], ['Unknown', 'Graduate', 'University', 'High School', 'Other', 'Other', 'Other'])\n",
        "plt.show()\n"
      ],
      "metadata": {
        "colab": {
          "base_uri": "https://localhost:8080/",
          "height": 472
        },
        "id": "t8lZCBof8N09",
        "outputId": "8a979fe9-f8e4-4bb3-dd44-c49b8310d00c"
      },
      "execution_count": null,
      "outputs": [
        {
          "output_type": "display_data",
          "data": {
            "text/plain": [
              "<Figure size 640x480 with 1 Axes>"
            ],
            "image/png": "[encoded data removed]"
          },
          "metadata": {}
        }
      ]
    },
    {
      "cell_type": "markdown",
      "source": [
        "There are more female non default"
      ],
      "metadata": {
        "id": "iTm9kTgN7p9j"
      }
    },
    {
      "cell_type": "code",
      "source": [
        "#Default payment by sex\n",
        "sns.countplot(x='SEX', data=df, hue='default_payment', palette='muted')\n",
        "plt.xlabel('Sex')\n",
        "plt.ylabel('Count')\n",
        "plt.title('Default Payment by Sex')\n",
        "plt.legend(['Not Default', 'Default'])\n",
        "plt.xticks([0, 1], ['Male', 'Female'])\n",
        "plt.show()"
      ],
      "metadata": {
        "colab": {
          "base_uri": "https://localhost:8080/",
          "height": 472
        },
        "id": "qy5m1Fr58sKF",
        "outputId": "9ca1f9f4-a6e3-4c6c-d06e-1bd5656c0982"
      },
      "execution_count": null,
      "outputs": [
        {
          "output_type": "display_data",
          "data": {
            "text/plain": [
              "<Figure size 640x480 with 1 Axes>"
            ],
            "image/png": "[encoded data removed]"
          },
          "metadata": {}
        }
      ]
    },
    {
      "cell_type": "markdown",
      "source": [
        "University students are highest non default"
      ],
      "metadata": {
        "id": "gCAFwfYG7_IA"
      }
    },
    {
      "cell_type": "code",
      "source": [
        "#default payment by education\n",
        "g = sns.countplot(x=\"EDUCATION\", data=df, hue=\"default_payment\", palette=\"muted\")\n",
        "g.set_xticklabels([ 'Graduate', 'University', 'High School', 'Others', 'Others', 'Others'])\n",
        "plt.xlabel('Education')\n",
        "plt.ylabel('Count')\n",
        "plt.title('Default Payment by Education')\n",
        "plt.legend(['Not Default', 'Default'])\n",
        "plt.show()"
      ],
      "metadata": {
        "colab": {
          "base_uri": "https://localhost:8080/",
          "height": 472
        },
        "id": "EKlQ1iCY9Qja",
        "outputId": "9cef8fa7-ce7c-45c4-937a-47019d085e7a"
      },
      "execution_count": null,
      "outputs": [
        {
          "output_type": "display_data",
          "data": {
            "text/plain": [
              "<Figure size 640x480 with 1 Axes>"
            ],
            "image/png": "[encoded data removed]"
          },
          "metadata": {}
        }
      ]
    },
    {
      "cell_type": "code",
      "source": [
        "g = sns.countplot(x=\"MARRIAGE\", data=df, hue=\"default_payment\", palette=\"muted\")\n",
        "g.set_xticklabels([ 'Unknown', 'Married', 'Single', 'Other'])\n",
        "plt.xlabel('marriage')\n",
        "plt.ylabel('Count')\n",
        "plt.title('Default Payment by marriage')\n",
        "plt.legend(['Not Default', 'Default'])\n",
        "plt.show()"
      ],
      "metadata": {
        "colab": {
          "base_uri": "https://localhost:8080/",
          "height": 472
        },
        "id": "Apwe9RiD-Max",
        "outputId": "81181d4d-3491-4046-c64b-68ca5debe403"
      },
      "execution_count": null,
      "outputs": [
        {
          "output_type": "display_data",
          "data": {
            "text/plain": [
              "<Figure size 640x480 with 1 Axes>"
            ],
            "image/png": "[encoded data removed]"
          },
          "metadata": {}
        }
      ]
    },
    {
      "cell_type": "code",
      "source": [
        "# Define the column names with 'PAY_'\n",
        "pay_columns = ['PAY_' + str(x) for x in range(1, 7)]\n",
        "\n",
        "# Create a 2x3 subplot figure\n",
        "fig, axes = plt.subplots(2, 3, figsize=(18, 8))\n",
        "\n",
        "# Iterate over each pay status column\n",
        "for i, col in enumerate(pay_columns):\n",
        "    # Determine the subplot row and column for the current pay status column\n",
        "    row_idx, col_idx = divmod(i, 3)\n",
        "\n",
        "    # Get the value counts for the current pay status column\n",
        "    value_counts = df[col].value_counts()\n",
        "\n",
        "    # Get the value counts for the current pay status column for customers who defaulted\n",
        "    default_counts = df[col][df['default_payment'] == 1].value_counts()\n",
        "\n",
        "    # Create a bar plot of the value counts\n",
        "    axes[row_idx, col_idx].bar(value_counts.index, value_counts, align='center', color='blue')\n",
        "\n",
        "    # Create a bar plot of the value counts for customers who defaulted, with transparency\n",
        "    axes[row_idx, col_idx].bar(default_counts.index, default_counts, align='center', color='green', alpha=0.7)\n",
        "\n",
        "    # Set the title of the subplot to the name of the pay status column\n",
        "    axes[row_idx, col_idx].set_title(col)\n",
        "\n",
        "# Add axis labels and title to the entire figure\n",
        "fig.suptitle('Distribution of Payment Status by Default Payment')\n",
        "fig.text(0.5, 0.04, 'Payment Status', ha='center')\n",
        "fig.text(0.04, 0.5, 'Count', va='center', rotation='vertical')\n",
        "\n",
        "# Display the figure\n",
        "plt.show()\n",
        "\n"
      ],
      "metadata": {
        "colab": {
          "base_uri": "https://localhost:8080/",
          "height": 567
        },
        "id": "oViENpJm--JK",
        "outputId": "ad73e4c0-dcc9-4a98-cb14-97430d0de242"
      },
      "execution_count": null,
      "outputs": [
        {
          "output_type": "display_data",
          "data": {
            "text/plain": [
              "<Figure size 1800x800 with 6 Axes>"
            ],
            "image/png": "[encoded data removed]"
          },
          "metadata": {}
        }
      ]
    },
    {
      "cell_type": "markdown",
      "source": [
        "**Feature Engineering**"
      ],
      "metadata": {
        "id": "svggsGKE8R5l"
      }
    },
    {
      "cell_type": "code",
      "source": [
        "\n",
        "\n",
        "# Load the dataset\n",
        "test_df = pd.read_csv('/content/credit_card_dataset_test.csv')\n",
        "# train_df = pd.read_csv('/content/credit_card_dataset_train.csv')\n",
        "train_df = df.copy()\n",
        "\n"
      ],
      "metadata": {
        "id": "qFwJsLvWDG7R"
      },
      "execution_count": null,
      "outputs": []
    },
    {
      "cell_type": "code",
      "source": [
        "test_df.shape"
      ],
      "metadata": {
        "colab": {
          "base_uri": "https://localhost:8080/"
        },
        "id": "F2hFi3hb4TMG",
        "outputId": "171cdc84-00a3-4c12-b10e-45dcbd56c16c"
      },
      "execution_count": null,
      "outputs": [
        {
          "output_type": "execute_result",
          "data": {
            "text/plain": [
              "(3000, 24)"
            ]
          },
          "metadata": {},
          "execution_count": 69
        }
      ]
    },
    {
      "cell_type": "code",
      "source": [
        "X_train = train_df.drop('default_payment', axis=1)\n",
        "y_train = train_df['default_payment']\n"
      ],
      "metadata": {
        "id": "w70X_nsYDTOM"
      },
      "execution_count": null,
      "outputs": []
    },
    {
      "cell_type": "markdown",
      "source": [
        "Using SMOTE to account for class imbalance"
      ],
      "metadata": {
        "id": "wurpCujp8Xrm"
      }
    },
    {
      "cell_type": "code",
      "source": [
        "sm = SMOTE(random_state=42)\n",
        "X_train_resampled, y_train_resampled = sm.fit_resample(X_train, y_train)\n"
      ],
      "metadata": {
        "id": "hC-q-9u3DtB5"
      },
      "execution_count": null,
      "outputs": []
    },
    {
      "cell_type": "markdown",
      "source": [
        "Keeping a separate unsampled train set"
      ],
      "metadata": {
        "id": "7BcWbF5H8gBz"
      }
    },
    {
      "cell_type": "code",
      "source": [
        "X_train.columns = X_train.columns.map(str.lower)\n",
        "\n",
        "\n",
        "coln = ['limit_bal', 'age', 'bill_amt1', 'bill_amt2', 'bill_amt3', 'bill_amt4',       'bill_amt5', 'bill_amt6', 'pay_amt1', 'pay_amt2', 'pay_amt3',       'pay_amt4', 'pay_amt5', 'pay_amt6']\n",
        "\n",
        "scaler = StandardScaler()\n",
        "X_train[coln] = scaler.fit_transform(X_train[coln])\n",
        "# X_train[coln] = (X_train[coln]-np.mean(X_train[coln]))/np.std(X_train[coln])\n",
        "# replace values 5, 6, and 0 in EDUCATION with 4\n",
        "edu_vals = np.array([5, 6, 0])\n",
        "X_train['education'] = np.where(X_train['education'].isin(edu_vals), 4, X_train['education'])\n",
        "\n",
        "# replace 0 in MARRIAGE with 3\n",
        "X_train['marriage'] = np.where(X_train['marriage'] == 0, 3, X_train['marriage'])"
      ],
      "metadata": {
        "id": "fd5lCyomXuRw"
      },
      "execution_count": null,
      "outputs": []
    },
    {
      "cell_type": "markdown",
      "source": [
        "generated synthetic data using SMOTE"
      ],
      "metadata": {
        "id": "EtZLB5Ye8rFN"
      }
    },
    {
      "cell_type": "code",
      "source": [
        "print(\"Before resampling:\\n\", y_train.value_counts())\n",
        "print(\"\\nAfter resampling:\\n\", y_train_resampled.value_counts())\n"
      ],
      "metadata": {
        "colab": {
          "base_uri": "https://localhost:8080/"
        },
        "id": "iuIzZFLyDzdp",
        "outputId": "f0fa7710-611f-4360-9120-782385d17167"
      },
      "execution_count": null,
      "outputs": [
        {
          "output_type": "stream",
          "name": "stdout",
          "text": [
            "Before resampling:\n",
            " 0    1577\n",
            "1     423\n",
            "Name: default_payment, dtype: int64\n",
            "\n",
            "After resampling:\n",
            " 0    1577\n",
            "1    1577\n",
            "Name: default_payment, dtype: int64\n"
          ]
        }
      ]
    },
    {
      "cell_type": "code",
      "source": [
        "X_train_resampled.head()"
      ],
      "metadata": {
        "colab": {
          "base_uri": "https://localhost:8080/",
          "height": 299
        },
        "id": "C_iB1GXBXiXZ",
        "outputId": "f2007b5d-e912-4fd5-c50b-78a30c9d490f"
      },
      "execution_count": null,
      "outputs": [
        {
          "output_type": "execute_result",
          "data": {
            "text/plain": [
              "   LIMIT_BAL  SEX  EDUCATION  MARRIAGE  AGE  PAY_1  PAY_2  PAY_3  PAY_4  \\\n",
              "0      50000    2          2         2   23      0      0      0      0   \n",
              "1      20000    2          2         1   26      0      0      0      0   \n",
              "2     130000    1          1         1   29      1      2      0      0   \n",
              "3     290000    2          2         1   49     -1     -1     -1     -1   \n",
              "4      40000    2          2         2   25      2      0      0      0   \n",
              "\n",
              "   PAY_5  ...  BILL_AMT3  BILL_AMT4  BILL_AMT5  BILL_AMT6  PAY_AMT1  PAY_AMT2  \\\n",
              "0     -1  ...      14354       8713       1781       1615      1400      1000   \n",
              "1      0  ...      18058      18623      15692      15215      1600      1700   \n",
              "2      0  ...     130477      99119     101535      89883         5      6000   \n",
              "3     -1  ...        704       2135       1591       5392      2334       707   \n",
              "4      2  ...      27794      29333      29816      30577      1750      1772   \n",
              "\n",
              "   PAY_AMT3  PAY_AMT4  PAY_AMT5  PAY_AMT6  \n",
              "0       500      1781         0         0  \n",
              "1      1509      1000       670       740  \n",
              "2      5000      5000    100207      1622  \n",
              "3      2145      1599      5419      5039  \n",
              "4      2311      1100      1400         0  \n",
              "\n",
              "[5 rows x 23 columns]"
            ],
            "text/html": [
              "\n",
              "  <div id=\"df-d70cdea1-8382-4979-a91a-083e2e7d088c\">\n",
              "    <div class=\"colab-df-container\">\n",
              "      <div>\n",
              "<style scoped>\n",
              "    .dataframe tbody tr th:only-of-type {\n",
              "        vertical-align: middle;\n",
              "    }\n",
              "\n",
              "    .dataframe tbody tr th {\n",
              "        vertical-align: top;\n",
              "    }\n",
              "\n",
              "    .dataframe thead th {\n",
              "        text-align: right;\n",
              "    }\n",
              "</style>\n",
              "<table border=\"1\" class=\"dataframe\">\n",
              "  <thead>\n",
              "    <tr style=\"text-align: right;\">\n",
              "      <th></th>\n",
              "      <th>LIMIT_BAL</th>\n",
              "      <th>SEX</th>\n",
              "      <th>EDUCATION</th>\n",
              "      <th>MARRIAGE</th>\n",
              "      <th>AGE</th>\n",
              "      <th>PAY_1</th>\n",
              "      <th>PAY_2</th>\n",
              "      <th>PAY_3</th>\n",
              "      <th>PAY_4</th>\n",
              "      <th>PAY_5</th>\n",
              "      <th>...</th>\n",
              "      <th>BILL_AMT3</th>\n",
              "      <th>BILL_AMT4</th>\n",
              "      <th>BILL_AMT5</th>\n",
              "      <th>BILL_AMT6</th>\n",
              "      <th>PAY_AMT1</th>\n",
              "      <th>PAY_AMT2</th>\n",
              "      <th>PAY_AMT3</th>\n",
              "      <th>PAY_AMT4</th>\n",
              "      <th>PAY_AMT5</th>\n",
              "      <th>PAY_AMT6</th>\n",
              "    </tr>\n",
              "  </thead>\n",
              "  <tbody>\n",
              "    <tr>\n",
              "      <th>0</th>\n",
              "      <td>50000</td>\n",
              "      <td>2</td>\n",
              "      <td>2</td>\n",
              "      <td>2</td>\n",
              "      <td>23</td>\n",
              "      <td>0</td>\n",
              "      <td>0</td>\n",
              "      <td>0</td>\n",
              "      <td>0</td>\n",
              "      <td>-1</td>\n",
              "      <td>...</td>\n",
              "      <td>14354</td>\n",
              "      <td>8713</td>\n",
              "      <td>1781</td>\n",
              "      <td>1615</td>\n",
              "      <td>1400</td>\n",
              "      <td>1000</td>\n",
              "      <td>500</td>\n",
              "      <td>1781</td>\n",
              "      <td>0</td>\n",
              "      <td>0</td>\n",
              "    </tr>\n",
              "    <tr>\n",
              "      <th>1</th>\n",
              "      <td>20000</td>\n",
              "      <td>2</td>\n",
              "      <td>2</td>\n",
              "      <td>1</td>\n",
              "      <td>26</td>\n",
              "      <td>0</td>\n",
              "      <td>0</td>\n",
              "      <td>0</td>\n",
              "      <td>0</td>\n",
              "      <td>0</td>\n",
              "      <td>...</td>\n",
              "      <td>18058</td>\n",
              "      <td>18623</td>\n",
              "      <td>15692</td>\n",
              "      <td>15215</td>\n",
              "      <td>1600</td>\n",
              "      <td>1700</td>\n",
              "      <td>1509</td>\n",
              "      <td>1000</td>\n",
              "      <td>670</td>\n",
              "      <td>740</td>\n",
              "    </tr>\n",
              "    <tr>\n",
              "      <th>2</th>\n",
              "      <td>130000</td>\n",
              "      <td>1</td>\n",
              "      <td>1</td>\n",
              "      <td>1</td>\n",
              "      <td>29</td>\n",
              "      <td>1</td>\n",
              "      <td>2</td>\n",
              "      <td>0</td>\n",
              "      <td>0</td>\n",
              "      <td>0</td>\n",
              "      <td>...</td>\n",
              "      <td>130477</td>\n",
              "      <td>99119</td>\n",
              "      <td>101535</td>\n",
              "      <td>89883</td>\n",
              "      <td>5</td>\n",
              "      <td>6000</td>\n",
              "      <td>5000</td>\n",
              "      <td>5000</td>\n",
              "      <td>100207</td>\n",
              "      <td>1622</td>\n",
              "    </tr>\n",
              "    <tr>\n",
              "      <th>3</th>\n",
              "      <td>290000</td>\n",
              "      <td>2</td>\n",
              "      <td>2</td>\n",
              "      <td>1</td>\n",
              "      <td>49</td>\n",
              "      <td>-1</td>\n",
              "      <td>-1</td>\n",
              "      <td>-1</td>\n",
              "      <td>-1</td>\n",
              "      <td>-1</td>\n",
              "      <td>...</td>\n",
              "      <td>704</td>\n",
              "      <td>2135</td>\n",
              "      <td>1591</td>\n",
              "      <td>5392</td>\n",
              "      <td>2334</td>\n",
              "      <td>707</td>\n",
              "      <td>2145</td>\n",
              "      <td>1599</td>\n",
              "      <td>5419</td>\n",
              "      <td>5039</td>\n",
              "    </tr>\n",
              "    <tr>\n",
              "      <th>4</th>\n",
              "      <td>40000</td>\n",
              "      <td>2</td>\n",
              "      <td>2</td>\n",
              "      <td>2</td>\n",
              "      <td>25</td>\n",
              "      <td>2</td>\n",
              "      <td>0</td>\n",
              "      <td>0</td>\n",
              "      <td>0</td>\n",
              "      <td>2</td>\n",
              "      <td>...</td>\n",
              "      <td>27794</td>\n",
              "      <td>29333</td>\n",
              "      <td>29816</td>\n",
              "      <td>30577</td>\n",
              "      <td>1750</td>\n",
              "      <td>1772</td>\n",
              "      <td>2311</td>\n",
              "      <td>1100</td>\n",
              "      <td>1400</td>\n",
              "      <td>0</td>\n",
              "    </tr>\n",
              "  </tbody>\n",
              "</table>\n",
              "<p>5 rows × 23 columns</p>\n",
              "</div>\n",
              "      <button class=\"colab-df-convert\" onclick=\"convertToInteractive('df-d70cdea1-8382-4979-a91a-083e2e7d088c')\"\n",
              "              title=\"Convert this dataframe to an interactive table.\"\n",
              "              style=\"display:none;\">\n",
              "        \n",
              "  <svg xmlns=\"http://www.w3.org/2000/svg\" height=\"24px\"viewBox=\"0 0 24 24\"\n",
              "       width=\"24px\">\n",
              "    <path d=\"M0 0h24v24H0V0z\" fill=\"none\"/>\n",
              "    <path d=\"M18.56 5.44l.94 2.06.94-2.06 2.06-.94-2.06-.94-.94-2.06-.94 2.06-2.06.94zm-11 1L8.5 8.5l.94-2.06 2.06-.94-2.06-.94L8.5 2.5l-.94 2.06-2.06.94zm10 10l.94 2.06.94-2.06 2.06-.94-2.06-.94-.94-2.06-.94 2.06-2.06.94z\"/><path d=\"M17.41 7.96l-1.37-1.37c-.4-.4-.92-.59-1.43-.59-.52 0-1.04.2-1.43.59L10.3 9.45l-7.72 7.72c-.78.78-.78 2.05 0 2.83L4 21.41c.39.39.9.59 1.41.59.51 0 1.02-.2 1.41-.59l7.78-7.78 2.81-2.81c.8-.78.8-2.07 0-2.86zM5.41 20L4 18.59l7.72-7.72 1.47 1.35L5.41 20z\"/>\n",
              "  </svg>\n",
              "      </button>\n",
              "      \n",
              "  <style>\n",
              "    .colab-df-container {\n",
              "      display:flex;\n",
              "      flex-wrap:wrap;\n",
              "      gap: 12px;\n",
              "    }\n",
              "\n",
              "    .colab-df-convert {\n",
              "      background-color: #E8F0FE;\n",
              "      border: none;\n",
              "      border-radius: 50%;\n",
              "      cursor: pointer;\n",
              "      display: none;\n",
              "      fill: #1967D2;\n",
              "      height: 32px;\n",
              "      padding: 0 0 0 0;\n",
              "      width: 32px;\n",
              "    }\n",
              "\n",
              "    .colab-df-convert:hover {\n",
              "      background-color: #E2EBFA;\n",
              "      box-shadow: 0px 1px 2px rgba(60, 64, 67, 0.3), 0px 1px 3px 1px rgba(60, 64, 67, 0.15);\n",
              "      fill: #174EA6;\n",
              "    }\n",
              "\n",
              "    [theme=dark] .colab-df-convert {\n",
              "      background-color: #3B4455;\n",
              "      fill: #D2E3FC;\n",
              "    }\n",
              "\n",
              "    [theme=dark] .colab-df-convert:hover {\n",
              "      background-color: #434B5C;\n",
              "      box-shadow: 0px 1px 3px 1px rgba(0, 0, 0, 0.15);\n",
              "      filter: drop-shadow(0px 1px 2px rgba(0, 0, 0, 0.3));\n",
              "      fill: #FFFFFF;\n",
              "    }\n",
              "  </style>\n",
              "\n",
              "      <script>\n",
              "        const buttonEl =\n",
              "          document.querySelector('#df-d70cdea1-8382-4979-a91a-083e2e7d088c button.colab-df-convert');\n",
              "        buttonEl.style.display =\n",
              "          google.colab.kernel.accessAllowed ? 'block' : 'none';\n",
              "\n",
              "        async function convertToInteractive(key) {\n",
              "          const element = document.querySelector('#df-d70cdea1-8382-4979-a91a-083e2e7d088c');\n",
              "          const dataTable =\n",
              "            await google.colab.kernel.invokeFunction('convertToInteractive',\n",
              "                                                     [key], {});\n",
              "          if (!dataTable) return;\n",
              "\n",
              "          const docLinkHtml = 'Like what you see? Visit the ' +\n",
              "            '<a target=\"_blank\" href=https://colab.research.google.com/notebooks/data_table.ipynb>data table notebook</a>'\n",
              "            + ' to learn more about interactive tables.';\n",
              "          element.innerHTML = '';\n",
              "          dataTable['output_type'] = 'display_data';\n",
              "          await google.colab.output.renderOutput(dataTable, element);\n",
              "          const docLink = document.createElement('div');\n",
              "          docLink.innerHTML = docLinkHtml;\n",
              "          element.appendChild(docLink);\n",
              "        }\n",
              "      </script>\n",
              "    </div>\n",
              "  </div>\n",
              "  "
            ]
          },
          "metadata": {},
          "execution_count": 25
        }
      ]
    },
    {
      "cell_type": "markdown",
      "source": [
        "Looking into MARRIAGE data"
      ],
      "metadata": {
        "id": "-M3TGbJ88yst"
      }
    },
    {
      "cell_type": "code",
      "source": [
        "X_train_resampled['MARRIAGE'].value_counts()"
      ],
      "metadata": {
        "colab": {
          "base_uri": "https://localhost:8080/"
        },
        "id": "3jXWdjE0ADaX",
        "outputId": "4a4f45cf-b5fe-402e-f390-37f060627349"
      },
      "execution_count": null,
      "outputs": [
        {
          "output_type": "execute_result",
          "data": {
            "text/plain": [
              "1    1730\n",
              "2    1398\n",
              "3      21\n",
              "0       5\n",
              "Name: MARRIAGE, dtype: int64"
            ]
          },
          "metadata": {},
          "execution_count": 26
        }
      ]
    },
    {
      "cell_type": "markdown",
      "source": [
        "Looking into SEX data"
      ],
      "metadata": {
        "id": "3D1DnRHV83HD"
      }
    },
    {
      "cell_type": "code",
      "source": [
        "X_train_resampled['SEX'].value_counts()"
      ],
      "metadata": {
        "colab": {
          "base_uri": "https://localhost:8080/"
        },
        "id": "T7BNoIpVB4Ho",
        "outputId": "a7e3252c-7df9-4eac-f6a2-a956138e204e"
      },
      "execution_count": null,
      "outputs": [
        {
          "output_type": "execute_result",
          "data": {
            "text/plain": [
              "2    1607\n",
              "1    1547\n",
              "Name: SEX, dtype: int64"
            ]
          },
          "metadata": {},
          "execution_count": 27
        }
      ]
    },
    {
      "cell_type": "markdown",
      "source": [
        "Looking into EDUCATION data"
      ],
      "metadata": {
        "id": "76mFu7jQ85mR"
      }
    },
    {
      "cell_type": "code",
      "source": [
        "X_train_resampled['EDUCATION'].value_counts()"
      ],
      "metadata": {
        "colab": {
          "base_uri": "https://localhost:8080/"
        },
        "id": "PZ2P68JjCG9c",
        "outputId": "d234733d-152f-4e00-c4b7-33e0db016510"
      },
      "execution_count": null,
      "outputs": [
        {
          "output_type": "execute_result",
          "data": {
            "text/plain": [
              "2    1494\n",
              "1    1270\n",
              "3     355\n",
              "5      22\n",
              "4      10\n",
              "6       3\n",
              "Name: EDUCATION, dtype: int64"
            ]
          },
          "metadata": {},
          "execution_count": 28
        }
      ]
    },
    {
      "cell_type": "code",
      "source": [
        "X_train_resampled.head()"
      ],
      "metadata": {
        "colab": {
          "base_uri": "https://localhost:8080/",
          "height": 299
        },
        "id": "ug_g3pCXCJeQ",
        "outputId": "941b9eb6-dc6f-405c-ce34-4387d0c647fd"
      },
      "execution_count": null,
      "outputs": [
        {
          "output_type": "execute_result",
          "data": {
            "text/plain": [
              "   LIMIT_BAL  SEX  EDUCATION  MARRIAGE  AGE  PAY_1  PAY_2  PAY_3  PAY_4  \\\n",
              "0      50000    2          2         2   23      0      0      0      0   \n",
              "1      20000    2          2         1   26      0      0      0      0   \n",
              "2     130000    1          1         1   29      1      2      0      0   \n",
              "3     290000    2          2         1   49     -1     -1     -1     -1   \n",
              "4      40000    2          2         2   25      2      0      0      0   \n",
              "\n",
              "   PAY_5  ...  BILL_AMT3  BILL_AMT4  BILL_AMT5  BILL_AMT6  PAY_AMT1  PAY_AMT2  \\\n",
              "0     -1  ...      14354       8713       1781       1615      1400      1000   \n",
              "1      0  ...      18058      18623      15692      15215      1600      1700   \n",
              "2      0  ...     130477      99119     101535      89883         5      6000   \n",
              "3     -1  ...        704       2135       1591       5392      2334       707   \n",
              "4      2  ...      27794      29333      29816      30577      1750      1772   \n",
              "\n",
              "   PAY_AMT3  PAY_AMT4  PAY_AMT5  PAY_AMT6  \n",
              "0       500      1781         0         0  \n",
              "1      1509      1000       670       740  \n",
              "2      5000      5000    100207      1622  \n",
              "3      2145      1599      5419      5039  \n",
              "4      2311      1100      1400         0  \n",
              "\n",
              "[5 rows x 23 columns]"
            ],
            "text/html": [
              "\n",
              "  <div id=\"df-b16cc65d-e872-4f89-bd72-c3839475f2be\">\n",
              "    <div class=\"colab-df-container\">\n",
              "      <div>\n",
              "<style scoped>\n",
              "    .dataframe tbody tr th:only-of-type {\n",
              "        vertical-align: middle;\n",
              "    }\n",
              "\n",
              "    .dataframe tbody tr th {\n",
              "        vertical-align: top;\n",
              "    }\n",
              "\n",
              "    .dataframe thead th {\n",
              "        text-align: right;\n",
              "    }\n",
              "</style>\n",
              "<table border=\"1\" class=\"dataframe\">\n",
              "  <thead>\n",
              "    <tr style=\"text-align: right;\">\n",
              "      <th></th>\n",
              "      <th>LIMIT_BAL</th>\n",
              "      <th>SEX</th>\n",
              "      <th>EDUCATION</th>\n",
              "      <th>MARRIAGE</th>\n",
              "      <th>AGE</th>\n",
              "      <th>PAY_1</th>\n",
              "      <th>PAY_2</th>\n",
              "      <th>PAY_3</th>\n",
              "      <th>PAY_4</th>\n",
              "      <th>PAY_5</th>\n",
              "      <th>...</th>\n",
              "      <th>BILL_AMT3</th>\n",
              "      <th>BILL_AMT4</th>\n",
              "      <th>BILL_AMT5</th>\n",
              "      <th>BILL_AMT6</th>\n",
              "      <th>PAY_AMT1</th>\n",
              "      <th>PAY_AMT2</th>\n",
              "      <th>PAY_AMT3</th>\n",
              "      <th>PAY_AMT4</th>\n",
              "      <th>PAY_AMT5</th>\n",
              "      <th>PAY_AMT6</th>\n",
              "    </tr>\n",
              "  </thead>\n",
              "  <tbody>\n",
              "    <tr>\n",
              "      <th>0</th>\n",
              "      <td>50000</td>\n",
              "      <td>2</td>\n",
              "      <td>2</td>\n",
              "      <td>2</td>\n",
              "      <td>23</td>\n",
              "      <td>0</td>\n",
              "      <td>0</td>\n",
              "      <td>0</td>\n",
              "      <td>0</td>\n",
              "      <td>-1</td>\n",
              "      <td>...</td>\n",
              "      <td>14354</td>\n",
              "      <td>8713</td>\n",
              "      <td>1781</td>\n",
              "      <td>1615</td>\n",
              "      <td>1400</td>\n",
              "      <td>1000</td>\n",
              "      <td>500</td>\n",
              "      <td>1781</td>\n",
              "      <td>0</td>\n",
              "      <td>0</td>\n",
              "    </tr>\n",
              "    <tr>\n",
              "      <th>1</th>\n",
              "      <td>20000</td>\n",
              "      <td>2</td>\n",
              "      <td>2</td>\n",
              "      <td>1</td>\n",
              "      <td>26</td>\n",
              "      <td>0</td>\n",
              "      <td>0</td>\n",
              "      <td>0</td>\n",
              "      <td>0</td>\n",
              "      <td>0</td>\n",
              "      <td>...</td>\n",
              "      <td>18058</td>\n",
              "      <td>18623</td>\n",
              "      <td>15692</td>\n",
              "      <td>15215</td>\n",
              "      <td>1600</td>\n",
              "      <td>1700</td>\n",
              "      <td>1509</td>\n",
              "      <td>1000</td>\n",
              "      <td>670</td>\n",
              "      <td>740</td>\n",
              "    </tr>\n",
              "    <tr>\n",
              "      <th>2</th>\n",
              "      <td>130000</td>\n",
              "      <td>1</td>\n",
              "      <td>1</td>\n",
              "      <td>1</td>\n",
              "      <td>29</td>\n",
              "      <td>1</td>\n",
              "      <td>2</td>\n",
              "      <td>0</td>\n",
              "      <td>0</td>\n",
              "      <td>0</td>\n",
              "      <td>...</td>\n",
              "      <td>130477</td>\n",
              "      <td>99119</td>\n",
              "      <td>101535</td>\n",
              "      <td>89883</td>\n",
              "      <td>5</td>\n",
              "      <td>6000</td>\n",
              "      <td>5000</td>\n",
              "      <td>5000</td>\n",
              "      <td>100207</td>\n",
              "      <td>1622</td>\n",
              "    </tr>\n",
              "    <tr>\n",
              "      <th>3</th>\n",
              "      <td>290000</td>\n",
              "      <td>2</td>\n",
              "      <td>2</td>\n",
              "      <td>1</td>\n",
              "      <td>49</td>\n",
              "      <td>-1</td>\n",
              "      <td>-1</td>\n",
              "      <td>-1</td>\n",
              "      <td>-1</td>\n",
              "      <td>-1</td>\n",
              "      <td>...</td>\n",
              "      <td>704</td>\n",
              "      <td>2135</td>\n",
              "      <td>1591</td>\n",
              "      <td>5392</td>\n",
              "      <td>2334</td>\n",
              "      <td>707</td>\n",
              "      <td>2145</td>\n",
              "      <td>1599</td>\n",
              "      <td>5419</td>\n",
              "      <td>5039</td>\n",
              "    </tr>\n",
              "    <tr>\n",
              "      <th>4</th>\n",
              "      <td>40000</td>\n",
              "      <td>2</td>\n",
              "      <td>2</td>\n",
              "      <td>2</td>\n",
              "      <td>25</td>\n",
              "      <td>2</td>\n",
              "      <td>0</td>\n",
              "      <td>0</td>\n",
              "      <td>0</td>\n",
              "      <td>2</td>\n",
              "      <td>...</td>\n",
              "      <td>27794</td>\n",
              "      <td>29333</td>\n",
              "      <td>29816</td>\n",
              "      <td>30577</td>\n",
              "      <td>1750</td>\n",
              "      <td>1772</td>\n",
              "      <td>2311</td>\n",
              "      <td>1100</td>\n",
              "      <td>1400</td>\n",
              "      <td>0</td>\n",
              "    </tr>\n",
              "  </tbody>\n",
              "</table>\n",
              "<p>5 rows × 23 columns</p>\n",
              "</div>\n",
              "      <button class=\"colab-df-convert\" onclick=\"convertToInteractive('df-b16cc65d-e872-4f89-bd72-c3839475f2be')\"\n",
              "              title=\"Convert this dataframe to an interactive table.\"\n",
              "              style=\"display:none;\">\n",
              "        \n",
              "  <svg xmlns=\"http://www.w3.org/2000/svg\" height=\"24px\"viewBox=\"0 0 24 24\"\n",
              "       width=\"24px\">\n",
              "    <path d=\"M0 0h24v24H0V0z\" fill=\"none\"/>\n",
              "    <path d=\"M18.56 5.44l.94 2.06.94-2.06 2.06-.94-2.06-.94-.94-2.06-.94 2.06-2.06.94zm-11 1L8.5 8.5l.94-2.06 2.06-.94-2.06-.94L8.5 2.5l-.94 2.06-2.06.94zm10 10l.94 2.06.94-2.06 2.06-.94-2.06-.94-.94-2.06-.94 2.06-2.06.94z\"/><path d=\"M17.41 7.96l-1.37-1.37c-.4-.4-.92-.59-1.43-.59-.52 0-1.04.2-1.43.59L10.3 9.45l-7.72 7.72c-.78.78-.78 2.05 0 2.83L4 21.41c.39.39.9.59 1.41.59.51 0 1.02-.2 1.41-.59l7.78-7.78 2.81-2.81c.8-.78.8-2.07 0-2.86zM5.41 20L4 18.59l7.72-7.72 1.47 1.35L5.41 20z\"/>\n",
              "  </svg>\n",
              "      </button>\n",
              "      \n",
              "  <style>\n",
              "    .colab-df-container {\n",
              "      display:flex;\n",
              "      flex-wrap:wrap;\n",
              "      gap: 12px;\n",
              "    }\n",
              "\n",
              "    .colab-df-convert {\n",
              "      background-color: #E8F0FE;\n",
              "      border: none;\n",
              "      border-radius: 50%;\n",
              "      cursor: pointer;\n",
              "      display: none;\n",
              "      fill: #1967D2;\n",
              "      height: 32px;\n",
              "      padding: 0 0 0 0;\n",
              "      width: 32px;\n",
              "    }\n",
              "\n",
              "    .colab-df-convert:hover {\n",
              "      background-color: #E2EBFA;\n",
              "      box-shadow: 0px 1px 2px rgba(60, 64, 67, 0.3), 0px 1px 3px 1px rgba(60, 64, 67, 0.15);\n",
              "      fill: #174EA6;\n",
              "    }\n",
              "\n",
              "    [theme=dark] .colab-df-convert {\n",
              "      background-color: #3B4455;\n",
              "      fill: #D2E3FC;\n",
              "    }\n",
              "\n",
              "    [theme=dark] .colab-df-convert:hover {\n",
              "      background-color: #434B5C;\n",
              "      box-shadow: 0px 1px 3px 1px rgba(0, 0, 0, 0.15);\n",
              "      filter: drop-shadow(0px 1px 2px rgba(0, 0, 0, 0.3));\n",
              "      fill: #FFFFFF;\n",
              "    }\n",
              "  </style>\n",
              "\n",
              "      <script>\n",
              "        const buttonEl =\n",
              "          document.querySelector('#df-b16cc65d-e872-4f89-bd72-c3839475f2be button.colab-df-convert');\n",
              "        buttonEl.style.display =\n",
              "          google.colab.kernel.accessAllowed ? 'block' : 'none';\n",
              "\n",
              "        async function convertToInteractive(key) {\n",
              "          const element = document.querySelector('#df-b16cc65d-e872-4f89-bd72-c3839475f2be');\n",
              "          const dataTable =\n",
              "            await google.colab.kernel.invokeFunction('convertToInteractive',\n",
              "                                                     [key], {});\n",
              "          if (!dataTable) return;\n",
              "\n",
              "          const docLinkHtml = 'Like what you see? Visit the ' +\n",
              "            '<a target=\"_blank\" href=https://colab.research.google.com/notebooks/data_table.ipynb>data table notebook</a>'\n",
              "            + ' to learn more about interactive tables.';\n",
              "          element.innerHTML = '';\n",
              "          dataTable['output_type'] = 'display_data';\n",
              "          await google.colab.output.renderOutput(dataTable, element);\n",
              "          const docLink = document.createElement('div');\n",
              "          docLink.innerHTML = docLinkHtml;\n",
              "          element.appendChild(docLink);\n",
              "        }\n",
              "      </script>\n",
              "    </div>\n",
              "  </div>\n",
              "  "
            ]
          },
          "metadata": {},
          "execution_count": 29
        }
      ]
    },
    {
      "cell_type": "code",
      "source": [
        "X_train_resampled['PAY_6'].unique()"
      ],
      "metadata": {
        "colab": {
          "base_uri": "https://localhost:8080/"
        },
        "id": "-_O-EA6vUSE6",
        "outputId": "572147a4-186e-4d48-f408-f0290dd96b57"
      },
      "execution_count": null,
      "outputs": [
        {
          "output_type": "execute_result",
          "data": {
            "text/plain": [
              "array([ 2,  0, -1, -2,  3,  5,  4,  6,  7,  1])"
            ]
          },
          "metadata": {},
          "execution_count": 30
        }
      ]
    },
    {
      "cell_type": "markdown",
      "source": [
        "Converting feature names to lowercase for ease"
      ],
      "metadata": {
        "id": "SxHQNG-t9Ddv"
      }
    },
    {
      "cell_type": "code",
      "source": [
        "X_train_resampled.columns = X_train_resampled.columns.map(str.lower)"
      ],
      "metadata": {
        "id": "xJhmvOXEVfd6"
      },
      "execution_count": null,
      "outputs": []
    },
    {
      "cell_type": "code",
      "source": [
        "X_train_resampled.head()"
      ],
      "metadata": {
        "colab": {
          "base_uri": "https://localhost:8080/",
          "height": 299
        },
        "id": "7PyeF074axuW",
        "outputId": "ec69765b-04ff-49cf-8fea-cd9da002467b"
      },
      "execution_count": null,
      "outputs": [
        {
          "output_type": "execute_result",
          "data": {
            "text/plain": [
              "   limit_bal  sex  education  marriage  age  pay_1  pay_2  pay_3  pay_4  \\\n",
              "0      50000    2          2         2   23      0      0      0      0   \n",
              "1      20000    2          2         1   26      0      0      0      0   \n",
              "2     130000    1          1         1   29      1      2      0      0   \n",
              "3     290000    2          2         1   49     -1     -1     -1     -1   \n",
              "4      40000    2          2         2   25      2      0      0      0   \n",
              "\n",
              "   pay_5  ...  bill_amt3  bill_amt4  bill_amt5  bill_amt6  pay_amt1  pay_amt2  \\\n",
              "0     -1  ...      14354       8713       1781       1615      1400      1000   \n",
              "1      0  ...      18058      18623      15692      15215      1600      1700   \n",
              "2      0  ...     130477      99119     101535      89883         5      6000   \n",
              "3     -1  ...        704       2135       1591       5392      2334       707   \n",
              "4      2  ...      27794      29333      29816      30577      1750      1772   \n",
              "\n",
              "   pay_amt3  pay_amt4  pay_amt5  pay_amt6  \n",
              "0       500      1781         0         0  \n",
              "1      1509      1000       670       740  \n",
              "2      5000      5000    100207      1622  \n",
              "3      2145      1599      5419      5039  \n",
              "4      2311      1100      1400         0  \n",
              "\n",
              "[5 rows x 23 columns]"
            ],
            "text/html": [
              "\n",
              "  <div id=\"df-772488ce-a487-43f0-8109-37f13b01654a\">\n",
              "    <div class=\"colab-df-container\">\n",
              "      <div>\n",
              "<style scoped>\n",
              "    .dataframe tbody tr th:only-of-type {\n",
              "        vertical-align: middle;\n",
              "    }\n",
              "\n",
              "    .dataframe tbody tr th {\n",
              "        vertical-align: top;\n",
              "    }\n",
              "\n",
              "    .dataframe thead th {\n",
              "        text-align: right;\n",
              "    }\n",
              "</style>\n",
              "<table border=\"1\" class=\"dataframe\">\n",
              "  <thead>\n",
              "    <tr style=\"text-align: right;\">\n",
              "      <th></th>\n",
              "      <th>limit_bal</th>\n",
              "      <th>sex</th>\n",
              "      <th>education</th>\n",
              "      <th>marriage</th>\n",
              "      <th>age</th>\n",
              "      <th>pay_1</th>\n",
              "      <th>pay_2</th>\n",
              "      <th>pay_3</th>\n",
              "      <th>pay_4</th>\n",
              "      <th>pay_5</th>\n",
              "      <th>...</th>\n",
              "      <th>bill_amt3</th>\n",
              "      <th>bill_amt4</th>\n",
              "      <th>bill_amt5</th>\n",
              "      <th>bill_amt6</th>\n",
              "      <th>pay_amt1</th>\n",
              "      <th>pay_amt2</th>\n",
              "      <th>pay_amt3</th>\n",
              "      <th>pay_amt4</th>\n",
              "      <th>pay_amt5</th>\n",
              "      <th>pay_amt6</th>\n",
              "    </tr>\n",
              "  </thead>\n",
              "  <tbody>\n",
              "    <tr>\n",
              "      <th>0</th>\n",
              "      <td>50000</td>\n",
              "      <td>2</td>\n",
              "      <td>2</td>\n",
              "      <td>2</td>\n",
              "      <td>23</td>\n",
              "      <td>0</td>\n",
              "      <td>0</td>\n",
              "      <td>0</td>\n",
              "      <td>0</td>\n",
              "      <td>-1</td>\n",
              "      <td>...</td>\n",
              "      <td>14354</td>\n",
              "      <td>8713</td>\n",
              "      <td>1781</td>\n",
              "      <td>1615</td>\n",
              "      <td>1400</td>\n",
              "      <td>1000</td>\n",
              "      <td>500</td>\n",
              "      <td>1781</td>\n",
              "      <td>0</td>\n",
              "      <td>0</td>\n",
              "    </tr>\n",
              "    <tr>\n",
              "      <th>1</th>\n",
              "      <td>20000</td>\n",
              "      <td>2</td>\n",
              "      <td>2</td>\n",
              "      <td>1</td>\n",
              "      <td>26</td>\n",
              "      <td>0</td>\n",
              "      <td>0</td>\n",
              "      <td>0</td>\n",
              "      <td>0</td>\n",
              "      <td>0</td>\n",
              "      <td>...</td>\n",
              "      <td>18058</td>\n",
              "      <td>18623</td>\n",
              "      <td>15692</td>\n",
              "      <td>15215</td>\n",
              "      <td>1600</td>\n",
              "      <td>1700</td>\n",
              "      <td>1509</td>\n",
              "      <td>1000</td>\n",
              "      <td>670</td>\n",
              "      <td>740</td>\n",
              "    </tr>\n",
              "    <tr>\n",
              "      <th>2</th>\n",
              "      <td>130000</td>\n",
              "      <td>1</td>\n",
              "      <td>1</td>\n",
              "      <td>1</td>\n",
              "      <td>29</td>\n",
              "      <td>1</td>\n",
              "      <td>2</td>\n",
              "      <td>0</td>\n",
              "      <td>0</td>\n",
              "      <td>0</td>\n",
              "      <td>...</td>\n",
              "      <td>130477</td>\n",
              "      <td>99119</td>\n",
              "      <td>101535</td>\n",
              "      <td>89883</td>\n",
              "      <td>5</td>\n",
              "      <td>6000</td>\n",
              "      <td>5000</td>\n",
              "      <td>5000</td>\n",
              "      <td>100207</td>\n",
              "      <td>1622</td>\n",
              "    </tr>\n",
              "    <tr>\n",
              "      <th>3</th>\n",
              "      <td>290000</td>\n",
              "      <td>2</td>\n",
              "      <td>2</td>\n",
              "      <td>1</td>\n",
              "      <td>49</td>\n",
              "      <td>-1</td>\n",
              "      <td>-1</td>\n",
              "      <td>-1</td>\n",
              "      <td>-1</td>\n",
              "      <td>-1</td>\n",
              "      <td>...</td>\n",
              "      <td>704</td>\n",
              "      <td>2135</td>\n",
              "      <td>1591</td>\n",
              "      <td>5392</td>\n",
              "      <td>2334</td>\n",
              "      <td>707</td>\n",
              "      <td>2145</td>\n",
              "      <td>1599</td>\n",
              "      <td>5419</td>\n",
              "      <td>5039</td>\n",
              "    </tr>\n",
              "    <tr>\n",
              "      <th>4</th>\n",
              "      <td>40000</td>\n",
              "      <td>2</td>\n",
              "      <td>2</td>\n",
              "      <td>2</td>\n",
              "      <td>25</td>\n",
              "      <td>2</td>\n",
              "      <td>0</td>\n",
              "      <td>0</td>\n",
              "      <td>0</td>\n",
              "      <td>2</td>\n",
              "      <td>...</td>\n",
              "      <td>27794</td>\n",
              "      <td>29333</td>\n",
              "      <td>29816</td>\n",
              "      <td>30577</td>\n",
              "      <td>1750</td>\n",
              "      <td>1772</td>\n",
              "      <td>2311</td>\n",
              "      <td>1100</td>\n",
              "      <td>1400</td>\n",
              "      <td>0</td>\n",
              "    </tr>\n",
              "  </tbody>\n",
              "</table>\n",
              "<p>5 rows × 23 columns</p>\n",
              "</div>\n",
              "      <button class=\"colab-df-convert\" onclick=\"convertToInteractive('df-772488ce-a487-43f0-8109-37f13b01654a')\"\n",
              "              title=\"Convert this dataframe to an interactive table.\"\n",
              "              style=\"display:none;\">\n",
              "        \n",
              "  <svg xmlns=\"http://www.w3.org/2000/svg\" height=\"24px\"viewBox=\"0 0 24 24\"\n",
              "       width=\"24px\">\n",
              "    <path d=\"M0 0h24v24H0V0z\" fill=\"none\"/>\n",
              "    <path d=\"M18.56 5.44l.94 2.06.94-2.06 2.06-.94-2.06-.94-.94-2.06-.94 2.06-2.06.94zm-11 1L8.5 8.5l.94-2.06 2.06-.94-2.06-.94L8.5 2.5l-.94 2.06-2.06.94zm10 10l.94 2.06.94-2.06 2.06-.94-2.06-.94-.94-2.06-.94 2.06-2.06.94z\"/><path d=\"M17.41 7.96l-1.37-1.37c-.4-.4-.92-.59-1.43-.59-.52 0-1.04.2-1.43.59L10.3 9.45l-7.72 7.72c-.78.78-.78 2.05 0 2.83L4 21.41c.39.39.9.59 1.41.59.51 0 1.02-.2 1.41-.59l7.78-7.78 2.81-2.81c.8-.78.8-2.07 0-2.86zM5.41 20L4 18.59l7.72-7.72 1.47 1.35L5.41 20z\"/>\n",
              "  </svg>\n",
              "      </button>\n",
              "      \n",
              "  <style>\n",
              "    .colab-df-container {\n",
              "      display:flex;\n",
              "      flex-wrap:wrap;\n",
              "      gap: 12px;\n",
              "    }\n",
              "\n",
              "    .colab-df-convert {\n",
              "      background-color: #E8F0FE;\n",
              "      border: none;\n",
              "      border-radius: 50%;\n",
              "      cursor: pointer;\n",
              "      display: none;\n",
              "      fill: #1967D2;\n",
              "      height: 32px;\n",
              "      padding: 0 0 0 0;\n",
              "      width: 32px;\n",
              "    }\n",
              "\n",
              "    .colab-df-convert:hover {\n",
              "      background-color: #E2EBFA;\n",
              "      box-shadow: 0px 1px 2px rgba(60, 64, 67, 0.3), 0px 1px 3px 1px rgba(60, 64, 67, 0.15);\n",
              "      fill: #174EA6;\n",
              "    }\n",
              "\n",
              "    [theme=dark] .colab-df-convert {\n",
              "      background-color: #3B4455;\n",
              "      fill: #D2E3FC;\n",
              "    }\n",
              "\n",
              "    [theme=dark] .colab-df-convert:hover {\n",
              "      background-color: #434B5C;\n",
              "      box-shadow: 0px 1px 3px 1px rgba(0, 0, 0, 0.15);\n",
              "      filter: drop-shadow(0px 1px 2px rgba(0, 0, 0, 0.3));\n",
              "      fill: #FFFFFF;\n",
              "    }\n",
              "  </style>\n",
              "\n",
              "      <script>\n",
              "        const buttonEl =\n",
              "          document.querySelector('#df-772488ce-a487-43f0-8109-37f13b01654a button.colab-df-convert');\n",
              "        buttonEl.style.display =\n",
              "          google.colab.kernel.accessAllowed ? 'block' : 'none';\n",
              "\n",
              "        async function convertToInteractive(key) {\n",
              "          const element = document.querySelector('#df-772488ce-a487-43f0-8109-37f13b01654a');\n",
              "          const dataTable =\n",
              "            await google.colab.kernel.invokeFunction('convertToInteractive',\n",
              "                                                     [key], {});\n",
              "          if (!dataTable) return;\n",
              "\n",
              "          const docLinkHtml = 'Like what you see? Visit the ' +\n",
              "            '<a target=\"_blank\" href=https://colab.research.google.com/notebooks/data_table.ipynb>data table notebook</a>'\n",
              "            + ' to learn more about interactive tables.';\n",
              "          element.innerHTML = '';\n",
              "          dataTable['output_type'] = 'display_data';\n",
              "          await google.colab.output.renderOutput(dataTable, element);\n",
              "          const docLink = document.createElement('div');\n",
              "          docLink.innerHTML = docLinkHtml;\n",
              "          element.appendChild(docLink);\n",
              "        }\n",
              "      </script>\n",
              "    </div>\n",
              "  </div>\n",
              "  "
            ]
          },
          "metadata": {},
          "execution_count": 32
        }
      ]
    },
    {
      "cell_type": "markdown",
      "source": [
        "Standardise the data using train set"
      ],
      "metadata": {
        "id": "-5zkdTt69LWM"
      }
    },
    {
      "cell_type": "code",
      "source": [
        "\n",
        "\n",
        "coln = ['limit_bal', 'age', 'bill_amt1', 'bill_amt2', 'bill_amt3', 'bill_amt4','bill_amt5', 'bill_amt6', 'pay_amt1', 'pay_amt2', 'pay_amt3','pay_amt4', 'pay_amt5', 'pay_amt6']\n",
        "\n",
        "scaler1 = StandardScaler()\n",
        "X_train_resampled[coln] = scaler1.fit_transform(X_train_resampled[coln])\n",
        "# X_train_resampled[coln] = (X_train_resampled[coln]-np.mean(X_train_resampled[coln]))/np.std(X_train_resampled[coln])\n"
      ],
      "metadata": {
        "id": "8HwkOnOoa6nS"
      },
      "execution_count": null,
      "outputs": []
    },
    {
      "cell_type": "code",
      "source": [
        "X_train_resampled.head()"
      ],
      "metadata": {
        "colab": {
          "base_uri": "https://localhost:8080/",
          "height": 299
        },
        "id": "UdOJ0Io9bOEf",
        "outputId": "967920b8-0397-44a8-f5d6-2d4562bbc391"
      },
      "execution_count": null,
      "outputs": [
        {
          "output_type": "execute_result",
          "data": {
            "text/plain": [
              "   limit_bal  sex  education  marriage       age  pay_1  pay_2  pay_3  pay_4  \\\n",
              "0  -0.816343    2          2         2 -1.390351      0      0      0      0   \n",
              "1  -1.056919    2          2         1 -1.053142      0      0      0      0   \n",
              "2  -0.174806    1          1         1 -0.715934      1      2      0      0   \n",
              "3   1.108268    2          2         1  1.532119     -1     -1     -1     -1   \n",
              "4  -0.896535    2          2         2 -1.165545      2      0      0      0   \n",
              "\n",
              "   pay_5  ...  bill_amt3  bill_amt4  bill_amt5  bill_amt6  pay_amt1  pay_amt2  \\\n",
              "0     -1  ...  -0.465994  -0.548490  -0.651068  -0.632881 -0.255344 -0.214016   \n",
              "1      0  ...  -0.407838  -0.381724  -0.405910  -0.392583 -0.237693 -0.170538   \n",
              "2      0  ...   1.357232   0.972868   1.106928   0.926720 -0.378460  0.096538   \n",
              "3     -1  ...  -0.680310  -0.659185  -0.654416  -0.566145 -0.172913 -0.232214   \n",
              "4      2  ...  -0.254975  -0.201495  -0.156998  -0.121153 -0.224454 -0.166066   \n",
              "\n",
              "   pay_amt3  pay_amt4  pay_amt5  pay_amt6  \n",
              "0 -0.317712 -0.187910 -0.288467 -0.292115  \n",
              "1 -0.228648 -0.259813 -0.236705 -0.240665  \n",
              "2  0.079502  0.108445  7.453170 -0.179342  \n",
              "3 -0.172508 -0.204666  0.130186  0.058231  \n",
              "4 -0.157856 -0.250606 -0.180308 -0.292115  \n",
              "\n",
              "[5 rows x 23 columns]"
            ],
            "text/html": [
              "\n",
              "  <div id=\"df-851ecfdb-5e1a-4e6e-9f3a-8a00d5d51b4e\">\n",
              "    <div class=\"colab-df-container\">\n",
              "      <div>\n",
              "<style scoped>\n",
              "    .dataframe tbody tr th:only-of-type {\n",
              "        vertical-align: middle;\n",
              "    }\n",
              "\n",
              "    .dataframe tbody tr th {\n",
              "        vertical-align: top;\n",
              "    }\n",
              "\n",
              "    .dataframe thead th {\n",
              "        text-align: right;\n",
              "    }\n",
              "</style>\n",
              "<table border=\"1\" class=\"dataframe\">\n",
              "  <thead>\n",
              "    <tr style=\"text-align: right;\">\n",
              "      <th></th>\n",
              "      <th>limit_bal</th>\n",
              "      <th>sex</th>\n",
              "      <th>education</th>\n",
              "      <th>marriage</th>\n",
              "      <th>age</th>\n",
              "      <th>pay_1</th>\n",
              "      <th>pay_2</th>\n",
              "      <th>pay_3</th>\n",
              "      <th>pay_4</th>\n",
              "      <th>pay_5</th>\n",
              "      <th>...</th>\n",
              "      <th>bill_amt3</th>\n",
              "      <th>bill_amt4</th>\n",
              "      <th>bill_amt5</th>\n",
              "      <th>bill_amt6</th>\n",
              "      <th>pay_amt1</th>\n",
              "      <th>pay_amt2</th>\n",
              "      <th>pay_amt3</th>\n",
              "      <th>pay_amt4</th>\n",
              "      <th>pay_amt5</th>\n",
              "      <th>pay_amt6</th>\n",
              "    </tr>\n",
              "  </thead>\n",
              "  <tbody>\n",
              "    <tr>\n",
              "      <th>0</th>\n",
              "      <td>-0.816343</td>\n",
              "      <td>2</td>\n",
              "      <td>2</td>\n",
              "      <td>2</td>\n",
              "      <td>-1.390351</td>\n",
              "      <td>0</td>\n",
              "      <td>0</td>\n",
              "      <td>0</td>\n",
              "      <td>0</td>\n",
              "      <td>-1</td>\n",
              "      <td>...</td>\n",
              "      <td>-0.465994</td>\n",
              "      <td>-0.548490</td>\n",
              "      <td>-0.651068</td>\n",
              "      <td>-0.632881</td>\n",
              "      <td>-0.255344</td>\n",
              "      <td>-0.214016</td>\n",
              "      <td>-0.317712</td>\n",
              "      <td>-0.187910</td>\n",
              "      <td>-0.288467</td>\n",
              "      <td>-0.292115</td>\n",
              "    </tr>\n",
              "    <tr>\n",
              "      <th>1</th>\n",
              "      <td>-1.056919</td>\n",
              "      <td>2</td>\n",
              "      <td>2</td>\n",
              "      <td>1</td>\n",
              "      <td>-1.053142</td>\n",
              "      <td>0</td>\n",
              "      <td>0</td>\n",
              "      <td>0</td>\n",
              "      <td>0</td>\n",
              "      <td>0</td>\n",
              "      <td>...</td>\n",
              "      <td>-0.407838</td>\n",
              "      <td>-0.381724</td>\n",
              "      <td>-0.405910</td>\n",
              "      <td>-0.392583</td>\n",
              "      <td>-0.237693</td>\n",
              "      <td>-0.170538</td>\n",
              "      <td>-0.228648</td>\n",
              "      <td>-0.259813</td>\n",
              "      <td>-0.236705</td>\n",
              "      <td>-0.240665</td>\n",
              "    </tr>\n",
              "    <tr>\n",
              "      <th>2</th>\n",
              "      <td>-0.174806</td>\n",
              "      <td>1</td>\n",
              "      <td>1</td>\n",
              "      <td>1</td>\n",
              "      <td>-0.715934</td>\n",
              "      <td>1</td>\n",
              "      <td>2</td>\n",
              "      <td>0</td>\n",
              "      <td>0</td>\n",
              "      <td>0</td>\n",
              "      <td>...</td>\n",
              "      <td>1.357232</td>\n",
              "      <td>0.972868</td>\n",
              "      <td>1.106928</td>\n",
              "      <td>0.926720</td>\n",
              "      <td>-0.378460</td>\n",
              "      <td>0.096538</td>\n",
              "      <td>0.079502</td>\n",
              "      <td>0.108445</td>\n",
              "      <td>7.453170</td>\n",
              "      <td>-0.179342</td>\n",
              "    </tr>\n",
              "    <tr>\n",
              "      <th>3</th>\n",
              "      <td>1.108268</td>\n",
              "      <td>2</td>\n",
              "      <td>2</td>\n",
              "      <td>1</td>\n",
              "      <td>1.532119</td>\n",
              "      <td>-1</td>\n",
              "      <td>-1</td>\n",
              "      <td>-1</td>\n",
              "      <td>-1</td>\n",
              "      <td>-1</td>\n",
              "      <td>...</td>\n",
              "      <td>-0.680310</td>\n",
              "      <td>-0.659185</td>\n",
              "      <td>-0.654416</td>\n",
              "      <td>-0.566145</td>\n",
              "      <td>-0.172913</td>\n",
              "      <td>-0.232214</td>\n",
              "      <td>-0.172508</td>\n",
              "      <td>-0.204666</td>\n",
              "      <td>0.130186</td>\n",
              "      <td>0.058231</td>\n",
              "    </tr>\n",
              "    <tr>\n",
              "      <th>4</th>\n",
              "      <td>-0.896535</td>\n",
              "      <td>2</td>\n",
              "      <td>2</td>\n",
              "      <td>2</td>\n",
              "      <td>-1.165545</td>\n",
              "      <td>2</td>\n",
              "      <td>0</td>\n",
              "      <td>0</td>\n",
              "      <td>0</td>\n",
              "      <td>2</td>\n",
              "      <td>...</td>\n",
              "      <td>-0.254975</td>\n",
              "      <td>-0.201495</td>\n",
              "      <td>-0.156998</td>\n",
              "      <td>-0.121153</td>\n",
              "      <td>-0.224454</td>\n",
              "      <td>-0.166066</td>\n",
              "      <td>-0.157856</td>\n",
              "      <td>-0.250606</td>\n",
              "      <td>-0.180308</td>\n",
              "      <td>-0.292115</td>\n",
              "    </tr>\n",
              "  </tbody>\n",
              "</table>\n",
              "<p>5 rows × 23 columns</p>\n",
              "</div>\n",
              "      <button class=\"colab-df-convert\" onclick=\"convertToInteractive('df-851ecfdb-5e1a-4e6e-9f3a-8a00d5d51b4e')\"\n",
              "              title=\"Convert this dataframe to an interactive table.\"\n",
              "              style=\"display:none;\">\n",
              "        \n",
              "  <svg xmlns=\"http://www.w3.org/2000/svg\" height=\"24px\"viewBox=\"0 0 24 24\"\n",
              "       width=\"24px\">\n",
              "    <path d=\"M0 0h24v24H0V0z\" fill=\"none\"/>\n",
              "    <path d=\"M18.56 5.44l.94 2.06.94-2.06 2.06-.94-2.06-.94-.94-2.06-.94 2.06-2.06.94zm-11 1L8.5 8.5l.94-2.06 2.06-.94-2.06-.94L8.5 2.5l-.94 2.06-2.06.94zm10 10l.94 2.06.94-2.06 2.06-.94-2.06-.94-.94-2.06-.94 2.06-2.06.94z\"/><path d=\"M17.41 7.96l-1.37-1.37c-.4-.4-.92-.59-1.43-.59-.52 0-1.04.2-1.43.59L10.3 9.45l-7.72 7.72c-.78.78-.78 2.05 0 2.83L4 21.41c.39.39.9.59 1.41.59.51 0 1.02-.2 1.41-.59l7.78-7.78 2.81-2.81c.8-.78.8-2.07 0-2.86zM5.41 20L4 18.59l7.72-7.72 1.47 1.35L5.41 20z\"/>\n",
              "  </svg>\n",
              "      </button>\n",
              "      \n",
              "  <style>\n",
              "    .colab-df-container {\n",
              "      display:flex;\n",
              "      flex-wrap:wrap;\n",
              "      gap: 12px;\n",
              "    }\n",
              "\n",
              "    .colab-df-convert {\n",
              "      background-color: #E8F0FE;\n",
              "      border: none;\n",
              "      border-radius: 50%;\n",
              "      cursor: pointer;\n",
              "      display: none;\n",
              "      fill: #1967D2;\n",
              "      height: 32px;\n",
              "      padding: 0 0 0 0;\n",
              "      width: 32px;\n",
              "    }\n",
              "\n",
              "    .colab-df-convert:hover {\n",
              "      background-color: #E2EBFA;\n",
              "      box-shadow: 0px 1px 2px rgba(60, 64, 67, 0.3), 0px 1px 3px 1px rgba(60, 64, 67, 0.15);\n",
              "      fill: #174EA6;\n",
              "    }\n",
              "\n",
              "    [theme=dark] .colab-df-convert {\n",
              "      background-color: #3B4455;\n",
              "      fill: #D2E3FC;\n",
              "    }\n",
              "\n",
              "    [theme=dark] .colab-df-convert:hover {\n",
              "      background-color: #434B5C;\n",
              "      box-shadow: 0px 1px 3px 1px rgba(0, 0, 0, 0.15);\n",
              "      filter: drop-shadow(0px 1px 2px rgba(0, 0, 0, 0.3));\n",
              "      fill: #FFFFFF;\n",
              "    }\n",
              "  </style>\n",
              "\n",
              "      <script>\n",
              "        const buttonEl =\n",
              "          document.querySelector('#df-851ecfdb-5e1a-4e6e-9f3a-8a00d5d51b4e button.colab-df-convert');\n",
              "        buttonEl.style.display =\n",
              "          google.colab.kernel.accessAllowed ? 'block' : 'none';\n",
              "\n",
              "        async function convertToInteractive(key) {\n",
              "          const element = document.querySelector('#df-851ecfdb-5e1a-4e6e-9f3a-8a00d5d51b4e');\n",
              "          const dataTable =\n",
              "            await google.colab.kernel.invokeFunction('convertToInteractive',\n",
              "                                                     [key], {});\n",
              "          if (!dataTable) return;\n",
              "\n",
              "          const docLinkHtml = 'Like what you see? Visit the ' +\n",
              "            '<a target=\"_blank\" href=https://colab.research.google.com/notebooks/data_table.ipynb>data table notebook</a>'\n",
              "            + ' to learn more about interactive tables.';\n",
              "          element.innerHTML = '';\n",
              "          dataTable['output_type'] = 'display_data';\n",
              "          await google.colab.output.renderOutput(dataTable, element);\n",
              "          const docLink = document.createElement('div');\n",
              "          docLink.innerHTML = docLinkHtml;\n",
              "          element.appendChild(docLink);\n",
              "        }\n",
              "      </script>\n",
              "    </div>\n",
              "  </div>\n",
              "  "
            ]
          },
          "metadata": {},
          "execution_count": 34
        }
      ]
    },
    {
      "cell_type": "markdown",
      "source": [
        "Replace values 5, 6, and 0 in EDUCATION with 4\n"
      ],
      "metadata": {
        "id": "7HSbaYq99S5D"
      }
    },
    {
      "cell_type": "code",
      "source": [
        "# replace values 5, 6, and 0 in EDUCATION with 4\n",
        "edu_vals = np.array([5, 6, 0])\n",
        "X_train_resampled['education'] = np.where(X_train_resampled['education'].isin(edu_vals), 4, X_train_resampled['education'])\n",
        "\n",
        "# count the values in EDUCATION\n",
        "edu_counts = X_train_resampled['education'].value_counts()\n",
        "print(edu_counts)\n"
      ],
      "metadata": {
        "colab": {
          "base_uri": "https://localhost:8080/"
        },
        "id": "EOyL1d5xlx_d",
        "outputId": "ed5a00e5-54b2-45f0-f9ac-a75317c7deb6"
      },
      "execution_count": null,
      "outputs": [
        {
          "output_type": "stream",
          "name": "stdout",
          "text": [
            "2    1494\n",
            "1    1270\n",
            "3     355\n",
            "4      35\n",
            "Name: education, dtype: int64\n"
          ]
        }
      ]
    },
    {
      "cell_type": "markdown",
      "source": [
        "replace 0 in MARRIAGE with 3"
      ],
      "metadata": {
        "id": "vxREQAQ-9ZyC"
      }
    },
    {
      "cell_type": "code",
      "source": [
        "# replace 0 in MARRIAGE with 3\n",
        "X_train_resampled['marriage'] = np.where(X_train_resampled['marriage'] == 0, 3, X_train_resampled['marriage'])\n",
        "\n",
        "# count the values in MARRIAGE\n",
        "marriage_counts = X_train_resampled['marriage'].value_counts()\n",
        "print(marriage_counts)\n"
      ],
      "metadata": {
        "colab": {
          "base_uri": "https://localhost:8080/"
        },
        "id": "VHB0n08qmGYG",
        "outputId": "1fd83d08-e79e-4157-b1b9-4cb10216eedb"
      },
      "execution_count": null,
      "outputs": [
        {
          "output_type": "stream",
          "name": "stdout",
          "text": [
            "1    1730\n",
            "2    1398\n",
            "3      26\n",
            "Name: marriage, dtype: int64\n"
          ]
        }
      ]
    },
    {
      "cell_type": "code",
      "source": [
        "X_train_resampled_copy = X_train_resampled.copy()\n"
      ],
      "metadata": {
        "id": "HDu0ge6wgBMN"
      },
      "execution_count": null,
      "outputs": []
    },
    {
      "cell_type": "markdown",
      "source": [
        "Do necessary feature engineering on test set"
      ],
      "metadata": {
        "id": "gjzfSLqt9i3E"
      }
    },
    {
      "cell_type": "code",
      "source": [
        "\n",
        "\n",
        "test_df = test_df.rename(columns={'default payment next month': 'default_payment',\n",
        "                        'PAY_0': 'PAY_1'})\n",
        "test_df.columns = test_df.columns.map(str.lower)\n",
        "col_to_norm = ['limit_bal', 'age', 'bill_amt1', 'bill_amt2', 'bill_amt3', 'bill_amt4', 'bill_amt5', 'bill_amt6', 'pay_amt1', 'pay_amt2', 'pay_amt3',       'pay_amt4', 'pay_amt5', 'pay_amt6']\n",
        "\n",
        "\n",
        "\n",
        "X_test = test_df.drop('default_payment', axis=1)\n",
        "y_test = test_df['default_payment']\n"
      ],
      "metadata": {
        "id": "xF53-Z2Td_SR"
      },
      "execution_count": null,
      "outputs": []
    },
    {
      "cell_type": "code",
      "source": [
        "\n",
        "\n",
        "# replace values 5, 6, and 0 in EDUCATION with 4\n",
        "edu_vals = np.array([5, 6, 0])\n",
        "X_test['education'] = np.where(X_test['education'].isin(edu_vals), 4, X_test['education'])\n",
        "\n",
        "# count the values in EDUCATION\n",
        "edu_counts = X_test['education'].value_counts()\n",
        "print(edu_counts)\n",
        "\n",
        "\n",
        "\n",
        "# replace 0 in MARRIAGE with 3\n",
        "X_test['marriage'] = np.where(X_test['marriage'] == 0, 3, X_test['marriage'])\n",
        "\n",
        "# count the values in MARRIAGE\n",
        "marriage_counts = X_test['marriage'].value_counts()\n",
        "print(marriage_counts)\n"
      ],
      "metadata": {
        "colab": {
          "base_uri": "https://localhost:8080/"
        },
        "id": "3umkfvpvfdot",
        "outputId": "7a26a147-3be9-4a47-a35b-a4bf0ae162dc"
      },
      "execution_count": null,
      "outputs": [
        {
          "output_type": "stream",
          "name": "stdout",
          "text": [
            "2    1434\n",
            "1    1065\n",
            "3     453\n",
            "4      48\n",
            "Name: education, dtype: int64\n",
            "2    1624\n",
            "1    1331\n",
            "3      45\n",
            "Name: marriage, dtype: int64\n"
          ]
        }
      ]
    },
    {
      "cell_type": "code",
      "source": [
        "X_test_nosample = X_test.copy()"
      ],
      "metadata": {
        "id": "_d7kOvGbZAp5"
      },
      "execution_count": null,
      "outputs": []
    },
    {
      "cell_type": "markdown",
      "source": [
        "Standardise test set using train set parameters"
      ],
      "metadata": {
        "id": "SkXfTn_a9rHD"
      }
    },
    {
      "cell_type": "code",
      "source": [
        "# X_test_nosample[col_to_norm] = (X_test[col_to_norm]-np.mean(X_train[col_to_norm]))/np.std(X_train[col_to_norm])\n",
        "# X_test[col_to_norm] = (X_test[col_to_norm]-np.mean(X_train_resampled[col_to_norm]))/np.std(X_train_resampled[col_to_norm])\n",
        "\n",
        "X_test_nosample[col_to_norm] = scaler.transform(X_test_nosample[col_to_norm])\n",
        "X_test[col_to_norm] = scaler1.transform(X_test[col_to_norm])"
      ],
      "metadata": {
        "id": "qM489_rYWV-d"
      },
      "execution_count": null,
      "outputs": []
    },
    {
      "cell_type": "code",
      "source": [
        "X_test.head()"
      ],
      "metadata": {
        "colab": {
          "base_uri": "https://localhost:8080/",
          "height": 299
        },
        "id": "2jukKOAPYFao",
        "outputId": "8faf8a13-c731-4489-bd8b-25c7e0f7e0b2"
      },
      "execution_count": null,
      "outputs": [
        {
          "output_type": "execute_result",
          "data": {
            "text/plain": [
              "   limit_bal  sex  education  marriage       age  pay_1  pay_2  pay_3  pay_4  \\\n",
              "0  -0.976727    1          2         1 -1.165545     -1     -1     -2     -1   \n",
              "1  -0.816343    2          3         1  1.756924     -1     -1     -1     -1   \n",
              "2   1.429036    1          1         2  0.970106      0      0      0      0   \n",
              "3   2.471534    2          3         1  0.745300      0      0      0     -2   \n",
              "4   1.348844    1          2         2 -0.715934      0      0      0      0   \n",
              "\n",
              "   pay_5  ...  bill_amt3  bill_amt4  bill_amt5  bill_amt6  pay_amt1  pay_amt2  \\\n",
              "0      2  ...  -0.691364  -0.258946  -0.217499  -0.207484 -0.256314 -0.276126   \n",
              "1     -2  ...  -0.599043  -0.695113  -0.682455  -0.661416 -0.352425  0.089084   \n",
              "2      0  ...   6.214704   6.106068   5.850261   4.539399  1.298041  0.593423   \n",
              "3     -1  ...  -0.135319  -0.695113  -0.653923  -0.594363 -0.237693 -0.214016   \n",
              "4      0  ...   4.411779   4.727664   4.562895   4.667092  0.649275  0.500257   \n",
              "\n",
              "   pay_amt3  pay_amt4  pay_amt5  pay_amt6  \n",
              "0  1.926016 -0.259813 -0.288467  1.048573  \n",
              "1 -0.361847 -0.351877 -0.288467 -0.292115  \n",
              "2  0.697390  1.029090  0.252328  0.194574  \n",
              "3 -0.361847 -0.202825  0.004721 -0.225786  \n",
              "4  0.688563  0.615076  0.552547  0.405935  \n",
              "\n",
              "[5 rows x 23 columns]"
            ],
            "text/html": [
              "\n",
              "  <div id=\"df-dfef3e84-78b3-4a52-8d03-603ff58c970b\">\n",
              "    <div class=\"colab-df-container\">\n",
              "      <div>\n",
              "<style scoped>\n",
              "    .dataframe tbody tr th:only-of-type {\n",
              "        vertical-align: middle;\n",
              "    }\n",
              "\n",
              "    .dataframe tbody tr th {\n",
              "        vertical-align: top;\n",
              "    }\n",
              "\n",
              "    .dataframe thead th {\n",
              "        text-align: right;\n",
              "    }\n",
              "</style>\n",
              "<table border=\"1\" class=\"dataframe\">\n",
              "  <thead>\n",
              "    <tr style=\"text-align: right;\">\n",
              "      <th></th>\n",
              "      <th>limit_bal</th>\n",
              "      <th>sex</th>\n",
              "      <th>education</th>\n",
              "      <th>marriage</th>\n",
              "      <th>age</th>\n",
              "      <th>pay_1</th>\n",
              "      <th>pay_2</th>\n",
              "      <th>pay_3</th>\n",
              "      <th>pay_4</th>\n",
              "      <th>pay_5</th>\n",
              "      <th>...</th>\n",
              "      <th>bill_amt3</th>\n",
              "      <th>bill_amt4</th>\n",
              "      <th>bill_amt5</th>\n",
              "      <th>bill_amt6</th>\n",
              "      <th>pay_amt1</th>\n",
              "      <th>pay_amt2</th>\n",
              "      <th>pay_amt3</th>\n",
              "      <th>pay_amt4</th>\n",
              "      <th>pay_amt5</th>\n",
              "      <th>pay_amt6</th>\n",
              "    </tr>\n",
              "  </thead>\n",
              "  <tbody>\n",
              "    <tr>\n",
              "      <th>0</th>\n",
              "      <td>-0.976727</td>\n",
              "      <td>1</td>\n",
              "      <td>2</td>\n",
              "      <td>1</td>\n",
              "      <td>-1.165545</td>\n",
              "      <td>-1</td>\n",
              "      <td>-1</td>\n",
              "      <td>-2</td>\n",
              "      <td>-1</td>\n",
              "      <td>2</td>\n",
              "      <td>...</td>\n",
              "      <td>-0.691364</td>\n",
              "      <td>-0.258946</td>\n",
              "      <td>-0.217499</td>\n",
              "      <td>-0.207484</td>\n",
              "      <td>-0.256314</td>\n",
              "      <td>-0.276126</td>\n",
              "      <td>1.926016</td>\n",
              "      <td>-0.259813</td>\n",
              "      <td>-0.288467</td>\n",
              "      <td>1.048573</td>\n",
              "    </tr>\n",
              "    <tr>\n",
              "      <th>1</th>\n",
              "      <td>-0.816343</td>\n",
              "      <td>2</td>\n",
              "      <td>3</td>\n",
              "      <td>1</td>\n",
              "      <td>1.756924</td>\n",
              "      <td>-1</td>\n",
              "      <td>-1</td>\n",
              "      <td>-1</td>\n",
              "      <td>-1</td>\n",
              "      <td>-2</td>\n",
              "      <td>...</td>\n",
              "      <td>-0.599043</td>\n",
              "      <td>-0.695113</td>\n",
              "      <td>-0.682455</td>\n",
              "      <td>-0.661416</td>\n",
              "      <td>-0.352425</td>\n",
              "      <td>0.089084</td>\n",
              "      <td>-0.361847</td>\n",
              "      <td>-0.351877</td>\n",
              "      <td>-0.288467</td>\n",
              "      <td>-0.292115</td>\n",
              "    </tr>\n",
              "    <tr>\n",
              "      <th>2</th>\n",
              "      <td>1.429036</td>\n",
              "      <td>1</td>\n",
              "      <td>1</td>\n",
              "      <td>2</td>\n",
              "      <td>0.970106</td>\n",
              "      <td>0</td>\n",
              "      <td>0</td>\n",
              "      <td>0</td>\n",
              "      <td>0</td>\n",
              "      <td>0</td>\n",
              "      <td>...</td>\n",
              "      <td>6.214704</td>\n",
              "      <td>6.106068</td>\n",
              "      <td>5.850261</td>\n",
              "      <td>4.539399</td>\n",
              "      <td>1.298041</td>\n",
              "      <td>0.593423</td>\n",
              "      <td>0.697390</td>\n",
              "      <td>1.029090</td>\n",
              "      <td>0.252328</td>\n",
              "      <td>0.194574</td>\n",
              "    </tr>\n",
              "    <tr>\n",
              "      <th>3</th>\n",
              "      <td>2.471534</td>\n",
              "      <td>2</td>\n",
              "      <td>3</td>\n",
              "      <td>1</td>\n",
              "      <td>0.745300</td>\n",
              "      <td>0</td>\n",
              "      <td>0</td>\n",
              "      <td>0</td>\n",
              "      <td>-2</td>\n",
              "      <td>-1</td>\n",
              "      <td>...</td>\n",
              "      <td>-0.135319</td>\n",
              "      <td>-0.695113</td>\n",
              "      <td>-0.653923</td>\n",
              "      <td>-0.594363</td>\n",
              "      <td>-0.237693</td>\n",
              "      <td>-0.214016</td>\n",
              "      <td>-0.361847</td>\n",
              "      <td>-0.202825</td>\n",
              "      <td>0.004721</td>\n",
              "      <td>-0.225786</td>\n",
              "    </tr>\n",
              "    <tr>\n",
              "      <th>4</th>\n",
              "      <td>1.348844</td>\n",
              "      <td>1</td>\n",
              "      <td>2</td>\n",
              "      <td>2</td>\n",
              "      <td>-0.715934</td>\n",
              "      <td>0</td>\n",
              "      <td>0</td>\n",
              "      <td>0</td>\n",
              "      <td>0</td>\n",
              "      <td>0</td>\n",
              "      <td>...</td>\n",
              "      <td>4.411779</td>\n",
              "      <td>4.727664</td>\n",
              "      <td>4.562895</td>\n",
              "      <td>4.667092</td>\n",
              "      <td>0.649275</td>\n",
              "      <td>0.500257</td>\n",
              "      <td>0.688563</td>\n",
              "      <td>0.615076</td>\n",
              "      <td>0.552547</td>\n",
              "      <td>0.405935</td>\n",
              "    </tr>\n",
              "  </tbody>\n",
              "</table>\n",
              "<p>5 rows × 23 columns</p>\n",
              "</div>\n",
              "      <button class=\"colab-df-convert\" onclick=\"convertToInteractive('df-dfef3e84-78b3-4a52-8d03-603ff58c970b')\"\n",
              "              title=\"Convert this dataframe to an interactive table.\"\n",
              "              style=\"display:none;\">\n",
              "        \n",
              "  <svg xmlns=\"http://www.w3.org/2000/svg\" height=\"24px\"viewBox=\"0 0 24 24\"\n",
              "       width=\"24px\">\n",
              "    <path d=\"M0 0h24v24H0V0z\" fill=\"none\"/>\n",
              "    <path d=\"M18.56 5.44l.94 2.06.94-2.06 2.06-.94-2.06-.94-.94-2.06-.94 2.06-2.06.94zm-11 1L8.5 8.5l.94-2.06 2.06-.94-2.06-.94L8.5 2.5l-.94 2.06-2.06.94zm10 10l.94 2.06.94-2.06 2.06-.94-2.06-.94-.94-2.06-.94 2.06-2.06.94z\"/><path d=\"M17.41 7.96l-1.37-1.37c-.4-.4-.92-.59-1.43-.59-.52 0-1.04.2-1.43.59L10.3 9.45l-7.72 7.72c-.78.78-.78 2.05 0 2.83L4 21.41c.39.39.9.59 1.41.59.51 0 1.02-.2 1.41-.59l7.78-7.78 2.81-2.81c.8-.78.8-2.07 0-2.86zM5.41 20L4 18.59l7.72-7.72 1.47 1.35L5.41 20z\"/>\n",
              "  </svg>\n",
              "      </button>\n",
              "      \n",
              "  <style>\n",
              "    .colab-df-container {\n",
              "      display:flex;\n",
              "      flex-wrap:wrap;\n",
              "      gap: 12px;\n",
              "    }\n",
              "\n",
              "    .colab-df-convert {\n",
              "      background-color: #E8F0FE;\n",
              "      border: none;\n",
              "      border-radius: 50%;\n",
              "      cursor: pointer;\n",
              "      display: none;\n",
              "      fill: #1967D2;\n",
              "      height: 32px;\n",
              "      padding: 0 0 0 0;\n",
              "      width: 32px;\n",
              "    }\n",
              "\n",
              "    .colab-df-convert:hover {\n",
              "      background-color: #E2EBFA;\n",
              "      box-shadow: 0px 1px 2px rgba(60, 64, 67, 0.3), 0px 1px 3px 1px rgba(60, 64, 67, 0.15);\n",
              "      fill: #174EA6;\n",
              "    }\n",
              "\n",
              "    [theme=dark] .colab-df-convert {\n",
              "      background-color: #3B4455;\n",
              "      fill: #D2E3FC;\n",
              "    }\n",
              "\n",
              "    [theme=dark] .colab-df-convert:hover {\n",
              "      background-color: #434B5C;\n",
              "      box-shadow: 0px 1px 3px 1px rgba(0, 0, 0, 0.15);\n",
              "      filter: drop-shadow(0px 1px 2px rgba(0, 0, 0, 0.3));\n",
              "      fill: #FFFFFF;\n",
              "    }\n",
              "  </style>\n",
              "\n",
              "      <script>\n",
              "        const buttonEl =\n",
              "          document.querySelector('#df-dfef3e84-78b3-4a52-8d03-603ff58c970b button.colab-df-convert');\n",
              "        buttonEl.style.display =\n",
              "          google.colab.kernel.accessAllowed ? 'block' : 'none';\n",
              "\n",
              "        async function convertToInteractive(key) {\n",
              "          const element = document.querySelector('#df-dfef3e84-78b3-4a52-8d03-603ff58c970b');\n",
              "          const dataTable =\n",
              "            await google.colab.kernel.invokeFunction('convertToInteractive',\n",
              "                                                     [key], {});\n",
              "          if (!dataTable) return;\n",
              "\n",
              "          const docLinkHtml = 'Like what you see? Visit the ' +\n",
              "            '<a target=\"_blank\" href=https://colab.research.google.com/notebooks/data_table.ipynb>data table notebook</a>'\n",
              "            + ' to learn more about interactive tables.';\n",
              "          element.innerHTML = '';\n",
              "          dataTable['output_type'] = 'display_data';\n",
              "          await google.colab.output.renderOutput(dataTable, element);\n",
              "          const docLink = document.createElement('div');\n",
              "          docLink.innerHTML = docLinkHtml;\n",
              "          element.appendChild(docLink);\n",
              "        }\n",
              "      </script>\n",
              "    </div>\n",
              "  </div>\n",
              "  "
            ]
          },
          "metadata": {},
          "execution_count": 42
        }
      ]
    },
    {
      "cell_type": "markdown",
      "source": [
        "# **Code for sampled (SMOTE) training data.**"
      ],
      "metadata": {
        "id": "_x3XK1brp-kz"
      }
    },
    {
      "cell_type": "code",
      "source": [
        "#Default payment by sex\n",
        "sns.countplot(x='sex', data=X_train_resampled, hue= y_train_resampled, palette='muted')\n",
        "plt.xlabel('Sex')\n",
        "plt.ylabel('Count')\n",
        "plt.title('Default Payment by Sex')\n",
        "plt.legend(['Not Default', 'Default'])\n",
        "plt.xticks([0, 1], ['Male', 'Female'])\n",
        "plt.show()"
      ],
      "metadata": {
        "colab": {
          "base_uri": "https://localhost:8080/",
          "height": 472
        },
        "id": "GV3RCfYx--V1",
        "outputId": "0f995d15-1c49-478d-9548-885ba6a7f1b9"
      },
      "execution_count": null,
      "outputs": [
        {
          "output_type": "display_data",
          "data": {
            "text/plain": [
              "<Figure size 640x480 with 1 Axes>"
            ],
            "image/png": "[encoded data removed]"
          },
          "metadata": {}
        }
      ]
    },
    {
      "cell_type": "code",
      "source": [
        "#default payment by education\n",
        "g = sns.countplot(x=\"education\", data=X_train_resampled, hue= y_train_resampled , palette=\"muted\")\n",
        "g.set_xticklabels([ 'Graduate', 'University', 'High School', 'Others'])\n",
        "plt.xlabel('Education')\n",
        "plt.ylabel('Count')\n",
        "plt.title('Default Payment by Education')\n",
        "plt.legend(['Not Default', 'Default'])\n",
        "plt.show()"
      ],
      "metadata": {
        "colab": {
          "base_uri": "https://localhost:8080/",
          "height": 472
        },
        "id": "kkTfHZ-L_VXn",
        "outputId": "cd66c954-6e70-4b7f-9bb4-28dba7d41098"
      },
      "execution_count": null,
      "outputs": [
        {
          "output_type": "display_data",
          "data": {
            "text/plain": [
              "<Figure size 640x480 with 1 Axes>"
            ],
            "image/png": "[encoded data removed]"
          },
          "metadata": {}
        }
      ]
    },
    {
      "cell_type": "code",
      "source": [
        "g = sns.countplot(x=\"marriage\", data=X_train_resampled, hue= y_train_resampled, palette=\"muted\")\n",
        "g.set_xticklabels([ 'Married', 'Single', 'Other'])\n",
        "plt.xlabel('marriage')\n",
        "plt.ylabel('Count')\n",
        "plt.title('Default Payment by marriage')\n",
        "plt.legend(['Not Default', 'Default'])\n",
        "plt.show()"
      ],
      "metadata": {
        "colab": {
          "base_uri": "https://localhost:8080/",
          "height": 472
        },
        "id": "PG318Cj6_wXd",
        "outputId": "0a0d831a-09b9-4431-ad09-3882cb7d4375"
      },
      "execution_count": null,
      "outputs": [
        {
          "output_type": "display_data",
          "data": {
            "text/plain": [
              "<Figure size 640x480 with 1 Axes>"
            ],
            "image/png": "[encoded data removed]"
          },
          "metadata": {}
        }
      ]
    },
    {
      "cell_type": "code",
      "source": [
        "#Baseline and trivial without using SMOTE train set.\n",
        "\n",
        "\n",
        "\n",
        "# Trivial system: predict class assignments at random\n",
        "trivial_model = DummyClassifier(strategy='stratified', random_state=1)\n",
        "from sklearn.model_selection import cross_val_score\n",
        "\n",
        "# Trivial system cross-validation\n",
        "\n",
        "trivial_acc_cv = cross_val_score(trivial_model, X_train_resampled, y_train_resampled, cv=5, scoring='accuracy')\n",
        "f1_mean = trivial_acc_cv.mean()\n",
        "f1_std = trivial_acc_cv.std()\n",
        "\n",
        "\n",
        "trivial_model.fit(X_train_resampled, y_train_resampled)\n",
        "y_pred_trivial = trivial_model.predict(X_test)\n",
        "\n",
        "# Calculate evaluation metrics for the trivial system\n",
        "trivial_acc = accuracy_score(y_test, y_pred_trivial)\n",
        "trivial_f1 = f1_score(y_test, y_pred_trivial)\n",
        "trivial_conf_matrix = confusion_matrix(y_test, y_pred_trivial)\n",
        "\n",
        "# Baseline system: nearest means classifier\n",
        "# Baseline system cross-validation\n",
        "baseline_model = NearestCentroid()\n",
        "baseline_acc_cv = cross_val_score(baseline_model, X_train_resampled, y_train_resampled, cv=5, scoring='accuracy')\n",
        "f1_mean1 = baseline_acc_cv.mean()\n",
        "f1_std1 = baseline_acc_cv.std()\n",
        "\n",
        "\n",
        "\n",
        "baseline_model.fit(X_train_resampled, y_train_resampled)\n",
        "y_pred_baseline = baseline_model.predict(X_test)\n",
        "\n",
        "# Calculate evaluation metrics for the baseline system\n",
        "baseline_acc = accuracy_score(y_test, y_pred_baseline)\n",
        "baseline_f1 = f1_score(y_test, y_pred_baseline)\n",
        "baseline_conf_matrix = confusion_matrix(y_test, y_pred_baseline)\n",
        "\n",
        "# Print the evaluation metrics for both systems\n",
        "# Print the cross-validation results\n",
        "print(\"Cross-Validation Results:\")\n",
        "print(\"Accuracy Score - Mean:\", f1_mean, \"Std:\", f1_std)\n",
        "print('Trivial System Evaluation Metrics:')\n",
        "print(f'Accuracy: {trivial_acc:.4f}')\n",
        "print(f'F1 Score: {trivial_f1:.4f}')\n",
        "print(f'Confusion Matrix:\\n{trivial_conf_matrix}\\n')\n",
        "sns.set(font_scale=1.4) # Adjust font size\n",
        "sns.heatmap(trivial_conf_matrix, annot=True, fmt='g', cmap='Blues')\n",
        "\n",
        "plt.xlabel('Predicted')\n",
        "plt.ylabel('True')\n",
        "plt.show()\n",
        "\n",
        "\n",
        "print('Baseline System Evaluation Metrics:')\n",
        "# Print the cross-validation results\n",
        "print(\"Cross-Validation Results:\")\n",
        "print(\"Accuracy Score - Mean:\", f1_mean1, \"Std:\", f1_std1)\n",
        "print(f'Accuracy: {baseline_acc:.4f}')\n",
        "print(f'F1 Score: {baseline_f1:.4f}')\n",
        "print(f'Confusion Matrix:\\n{baseline_conf_matrix}')\n",
        "sns.set(font_scale=1.4) # Adjust font size\n",
        "sns.heatmap(baseline_conf_matrix, annot=True, fmt='g', cmap='Blues')\n",
        "\n",
        "plt.xlabel('Predicted')\n",
        "plt.ylabel('True')\n",
        "plt.show()\n"
      ],
      "metadata": {
        "colab": {
          "base_uri": "https://localhost:8080/",
          "height": 1000
        },
        "id": "qDM8h1e_Uk8G",
        "outputId": "ac000399-d268-456e-f9f1-0c4c8c21f06c"
      },
      "execution_count": null,
      "outputs": [
        {
          "output_type": "stream",
          "name": "stdout",
          "text": [
            "Cross-Validation Results:\n",
            "Accuracy Score - Mean: 0.49810228158881087 Std: 0.011817739717076349\n",
            "Trivial System Evaluation Metrics:\n",
            "Accuracy: 0.5113\n",
            "F1 Score: 0.3188\n",
            "Confusion Matrix:\n",
            "[[1191 1145]\n",
            " [ 321  343]]\n",
            "\n"
          ]
        },
        {
          "output_type": "display_data",
          "data": {
            "text/plain": [
              "<Figure size 640x480 with 2 Axes>"
            ],
            "image/png": "[encoded data removed]"
          },
          "metadata": {}
        },
        {
          "output_type": "stream",
          "name": "stdout",
          "text": [
            "Baseline System Evaluation Metrics:\n",
            "Cross-Validation Results:\n",
            "Accuracy Score - Mean: 0.6556853570799689 Std: 0.025830021491562084\n",
            "Accuracy: 0.6423\n",
            "F1 Score: 0.4373\n",
            "Confusion Matrix:\n",
            "[[1510  826]\n",
            " [ 247  417]]\n"
          ]
        },
        {
          "output_type": "display_data",
          "data": {
            "text/plain": [
              "<Figure size 640x480 with 2 Axes>"
            ],
            "image/png": "[encoded data removed]"
          },
          "metadata": {}
        }
      ]
    },
    {
      "cell_type": "markdown",
      "source": [
        "Logistic Classifier"
      ],
      "metadata": {
        "id": "9iV7VnHd4_by"
      }
    },
    {
      "cell_type": "code",
      "source": [
        "\n",
        "\n",
        "from sklearn.model_selection import cross_val_score\n",
        "\n",
        "logmodel = LogisticRegression(random_state=1)\n",
        "# logmodel.fit(X_train_new,y_train_new)\n",
        "scores = cross_val_score(logmodel, X_train_resampled, y_train_resampled, cv=5, scoring='accuracy')\n",
        "# Calculate the mean and standard deviation of the F1 scores\n",
        "f1_mean = scores.mean()\n",
        "f1_std = scores.std()\n",
        "\n",
        "# Print the cross-validation results\n",
        "print(\"Cross-Validation Results:\")\n",
        "print(\"Accuracy Score - Mean:\", f1_mean, \"Std:\", f1_std)\n",
        "\n",
        "best_model = LogisticRegression(random_state=1, C=0.1)\n",
        "best_model.fit(X_train_resampled, y_train_resampled)\n",
        "y_pred = best_model.predict(X_test)\n",
        "f1 = f1_score(y_test, y_pred)\n",
        "acc = accuracy_score(y_test, y_pred)\n",
        "print(\"Test-set F1 score:\", f1)\n",
        "print(\"Test-set accuracy:\", acc)\n",
        "cm = confusion_matrix(y_test, y_pred)\n",
        "sns.set(font_scale=1.4) # Adjust font size\n",
        "sns.heatmap(cm, annot=True, fmt='g', cmap='Blues')\n",
        "\n",
        "plt.xlabel('Predicted')\n",
        "plt.ylabel('True')\n",
        "plt.show()\n",
        "\n",
        "\n",
        "\n",
        "\n"
      ],
      "metadata": {
        "colab": {
          "base_uri": "https://localhost:8080/",
          "height": 537
        },
        "id": "OJ5q1eU8dic0",
        "outputId": "0d4c6579-cc47-4a4d-bef8-0335fe2498a4"
      },
      "execution_count": null,
      "outputs": [
        {
          "output_type": "stream",
          "name": "stdout",
          "text": [
            "Cross-Validation Results:\n",
            "Accuracy Score - Mean: 0.7387563202777149 Std: 0.054990873716533446\n",
            "Test-set F1 score: 0.4385026737967915\n",
            "Test-set accuracy: 0.685\n"
          ]
        },
        {
          "output_type": "display_data",
          "data": {
            "text/plain": [
              "<Figure size 640x480 with 2 Axes>"
            ],
            "image/png": "[encoded data removed]"
          },
          "metadata": {}
        }
      ]
    },
    {
      "cell_type": "markdown",
      "source": [
        "XGBOOST"
      ],
      "metadata": {
        "id": "28KkLEls5C3h"
      }
    },
    {
      "cell_type": "code",
      "source": [
        "from sklearn.model_selection import cross_val_score\n",
        "\n",
        "# Define the best-fit model\n",
        "best_model = XGBClassifier(learning_rate=0.1, max_depth=5, n_estimators=100, random_state=1)\n",
        "\n",
        "# Perform 5-fold cross-validation on the training set\n",
        "scores = cross_val_score(best_model, X_train_resampled, y_train_resampled, cv=5, scoring='accuracy')\n",
        "\n",
        "# Calculate the mean and standard deviation of the F1 scores\n",
        "f1_mean = scores.mean()\n",
        "f1_std = scores.std()\n",
        "\n",
        "# Print the cross-validation results\n",
        "print(\"Cross-Validation Results:\")\n",
        "print(\"Accuracy Score - Mean:\", f1_mean, \"Std:\", f1_std)\n",
        "\n",
        "# Retrain the model on the full training set\n",
        "best_model.fit(X_train_resampled, y_train_resampled)\n",
        "\n",
        "# Evaluate the final model on the test set\n",
        "y_pred = best_model.predict(X_test)\n",
        "f1 = f1_score(y_test, y_pred)\n",
        "acc = accuracy_score(y_test, y_pred)\n",
        "\n",
        "print(\"Test-set F1 score:\", f1)\n",
        "print(\"Test-set accuracy:\", acc)\n",
        "cm = confusion_matrix(y_test, y_pred)\n",
        "# Print the confusion matrix\n",
        "print(\"Confusion Matrix:\")\n",
        "sns.set(font_scale=1.4) # Adjust font size\n",
        "sns.heatmap(cm, annot=True, fmt='g', cmap='Blues')\n",
        "plt.xlabel('Predicted')\n",
        "plt.ylabel('True')\n",
        "plt.show()"
      ],
      "metadata": {
        "colab": {
          "base_uri": "https://localhost:8080/",
          "height": 555
        },
        "id": "RmZGxvvNg746",
        "outputId": "a4f71300-0c07-44e6-cbd7-b8a4a26bc944"
      },
      "execution_count": null,
      "outputs": [
        {
          "output_type": "stream",
          "name": "stdout",
          "text": [
            "Cross-Validation Results:\n",
            "Accuracy Score - Mean: 0.8341931426559002 Std: 0.06293141849082952\n",
            "Test-set F1 score: 0.46165301563663436\n",
            "Test-set accuracy: 0.759\n",
            "Confusion Matrix:\n"
          ]
        },
        {
          "output_type": "display_data",
          "data": {
            "text/plain": [
              "<Figure size 640x480 with 2 Axes>"
            ],
            "image/png": "[encoded data removed]"
          },
          "metadata": {}
        }
      ]
    },
    {
      "cell_type": "markdown",
      "source": [
        "SVM"
      ],
      "metadata": {
        "id": "myrx6bAu5FsH"
      }
    },
    {
      "cell_type": "code",
      "source": [
        "from sklearn.model_selection import cross_val_score\n",
        "\n",
        "svm = SVC(kernel='rbf', random_state=0)\n",
        "scores = cross_val_score(svm, X_train_resampled, y_train_resampled, cv=5, scoring='accuracy')\n",
        "f1_mean = scores.mean()\n",
        "f1_std = scores.std()\n",
        "\n",
        "# Print the cross-validation results\n",
        "print(\"Cross-Validation Results:\")\n",
        "print(\"Accuracy Score - Mean:\", f1_mean, \"Std:\", f1_std)\n",
        "\n",
        "best_model = SVC(kernel='rbf', random_state=0, C=1, gamma=0.1)\n",
        "best_model.fit(X_train_resampled, y_train_resampled)\n",
        "y_pred = best_model.predict(X_test)\n",
        "f1 = f1_score(y_test, y_pred)\n",
        "acc = accuracy_score(y_test, y_pred)\n",
        "print(\"Test-set F1 score:\", f1)\n",
        "print(\"Test-set accuracy:\", acc)\n",
        "cm = confusion_matrix(y_test, y_pred)\n",
        "sns.set(font_scale=1.4) # Adjust font size\n",
        "sns.heatmap(cm, annot=True, fmt='g', cmap='Blues')\n",
        "\n",
        "plt.xlabel('Predicted')\n",
        "plt.ylabel('True')\n",
        "plt.show()\n"
      ],
      "metadata": {
        "id": "VbO4srR_zFPl",
        "colab": {
          "base_uri": "https://localhost:8080/",
          "height": 537
        },
        "outputId": "9279d91d-c234-4b55-a330-5c318b54ebfe"
      },
      "execution_count": null,
      "outputs": [
        {
          "output_type": "stream",
          "name": "stdout",
          "text": [
            "Cross-Validation Results:\n",
            "Accuracy Score - Mean: 0.7866374864790079 Std: 0.058668069207553485\n",
            "Test-set F1 score: 0.4526527871054399\n",
            "Test-set accuracy: 0.7283333333333334\n"
          ]
        },
        {
          "output_type": "display_data",
          "data": {
            "text/plain": [
              "<Figure size 640x480 with 2 Axes>"
            ],
            "image/png": "[encoded data removed]"
          },
          "metadata": {}
        }
      ]
    },
    {
      "cell_type": "code",
      "source": [
        "num_support_vectors = np.sum(best_model.n_support_)\n",
        "num_misclassified = np.sum(y_pred != y_test)\n",
        "dof = num_support_vectors + num_misclassified\n",
        "print(\"Degrees of freedom:\", dof)"
      ],
      "metadata": {
        "colab": {
          "base_uri": "https://localhost:8080/"
        },
        "id": "RLZe8cOXwpXE",
        "outputId": "04a07780-483d-4ce9-c012-d5c6b5ced5dc"
      },
      "execution_count": null,
      "outputs": [
        {
          "output_type": "stream",
          "name": "stdout",
          "text": [
            "Degrees of freedom: 2695\n"
          ]
        }
      ]
    },
    {
      "cell_type": "markdown",
      "source": [
        "PCA and LDA"
      ],
      "metadata": {
        "id": "IkaOGHGz5IAa"
      }
    },
    {
      "cell_type": "code",
      "source": [
        "# Apply PCA to reduce the dimensionality of the data\n",
        "pca = PCA(n_components=2)\n",
        "X_train_pca = pca.fit_transform(X_train_resampled)\n",
        "X_test_pca = pca.transform(X_test)\n",
        "\n",
        "\n",
        "# Apply LDA to reduce the dimensionality of the data\n",
        "lda = LinearDiscriminantAnalysis(n_components=1)\n",
        "X_train_lda = lda.fit_transform(X_train_resampled, y_train_resampled)\n",
        "X_test_lda = lda.transform(X_test)\n",
        "\n",
        "from sklearn.model_selection import GridSearchCV\n",
        "\n",
        "# Define the parameter grid for SVM\n",
        "param_grid = {'C': [0.1, 1, 10, 100],\n",
        "              'gamma': [0.1, 1, 10, 100]}\n",
        "\n",
        "# Perform grid search on PCA-based SVM\n",
        "svm_pca_gs = GridSearchCV(estimator=SVC(kernel='rbf', random_state=0),\n",
        "                          param_grid=param_grid,\n",
        "                          cv=5,\n",
        "                          scoring='accuracy')\n",
        "svm_pca_gs.fit(X_train_pca, y_train_resampled)\n",
        "print(\"Best parameters for PCA-based SVM:\", svm_pca_gs.best_params_)\n",
        "\n",
        "# Perform grid search on LDA-based SVM\n",
        "svm_lda_gs = GridSearchCV(estimator=SVC(kernel='rbf', random_state=0),\n",
        "                          param_grid=param_grid,\n",
        "                          cv=5,\n",
        "                          scoring='accuracy')\n",
        "svm_lda_gs.fit(X_train_lda, y_train_resampled)\n",
        "print(\"Best parameters for LDA-based SVM:\", svm_lda_gs.best_params_)\n",
        "\n",
        "# Evaluate the best models using cross-validation\n",
        "pca_scores = cross_val_score(svm_pca_gs.best_estimator_, X_train_pca, y_train_resampled, cv=5, scoring='accuracy')\n",
        "f1_mean_pca = pca_scores.mean()\n",
        "f1_std_pca = pca_scores.std()\n",
        "\n",
        "lda_scores = cross_val_score(svm_lda_gs.best_estimator_, X_train_lda, y_train_resampled, cv=5, scoring='accuracy')\n",
        "f1_mean_lda = lda_scores.mean()\n",
        "f1_std_lda = lda_scores.std()\n",
        "\n",
        "print(\"PCA-based SVM - Mean Accuracy:\", f1_mean_pca, \"Std:\", f1_std_pca)\n",
        "print(\"LDA-based SVM - Mean Accuracy:\", f1_mean_lda, \"Std:\", f1_std_lda)\n",
        "\n",
        "# Select the best model and fit it to the training data\n",
        "if f1_mean_pca > f1_mean_lda:\n",
        "    best_svm = svm_pca_gs.best_estimator_\n",
        "    X_train_best = X_train_pca\n",
        "    X_test_best = X_test_pca\n",
        "else:\n",
        "    best_svm = svm_lda_gs.best_estimator_\n",
        "    X_train_best = X_train_lda\n",
        "    X_test_best = X_test_lda\n",
        "\n",
        "best_svm.fit(X_train_best, y_train_resampled)\n",
        "\n",
        "# Compute and print the F1-score, accuracy, and confusion matrix for the best classifier\n",
        "y_pred_best = best_svm.predict(X_test_best)\n",
        "f1_best = f1_score(y_test, y_pred_best)\n",
        "acc_best = accuracy_score(y_test, y_pred_best)\n",
        "cm_best = confusion_matrix(y_test, y_pred_best)\n",
        "\n",
        "print(\"Best Classifier:\\nF1-score: {}\\nAccuracy: {}\\nConfusion Matrix:\\n{}\".format(f1_best, acc_best, cm_best))\n",
        "sns.set(font_scale=1.4) # Adjust font size\n",
        "sns.heatmap(cm_best, annot=True, fmt='g', cmap='Blues')\n",
        "\n",
        "plt.xlabel('Predicted')\n",
        "plt.ylabel('True')\n",
        "plt.show()\n",
        "\n",
        "\n"
      ],
      "metadata": {
        "colab": {
          "base_uri": "https://localhost:8080/",
          "height": 642
        },
        "id": "_mv6DkaEkEc-",
        "outputId": "23ab307e-73d6-47a8-ed5e-726c24a05fac"
      },
      "execution_count": null,
      "outputs": [
        {
          "output_type": "stream",
          "name": "stdout",
          "text": [
            "Best parameters for PCA-based SVM: {'C': 1, 'gamma': 10}\n",
            "Best parameters for LDA-based SVM: {'C': 0.1, 'gamma': 0.1}\n",
            "PCA-based SVM - Mean Accuracy: 0.7124362941161674 Std: 0.02714697328586225\n",
            "LDA-based SVM - Mean Accuracy: 0.7441501270344376 Std: 0.05687715383422542\n",
            "Best Classifier:\n",
            "F1-score: 0.43208279430789126\n",
            "Accuracy: 0.7073333333333334\n",
            "Confusion Matrix:\n",
            "[[1788  548]\n",
            " [ 330  334]]\n"
          ]
        },
        {
          "output_type": "display_data",
          "data": {
            "text/plain": [
              "<Figure size 640x480 with 2 Axes>"
            ],
            "image/png": "[encoded data removed]"
          },
          "metadata": {}
        }
      ]
    },
    {
      "cell_type": "markdown",
      "source": [
        "Grid Search on XGBOOST"
      ],
      "metadata": {
        "id": "XyXXA3eT5K6L"
      }
    },
    {
      "cell_type": "code",
      "source": [
        "param_grid_xgb = {'n_estimators': [50, 100, 150, 200], 'max_depth': [3, 5, 7, 10], 'min_child_weight': [2, 3, 4, 5]}\n",
        "xgb = XGBClassifier()\n",
        "grid_search_xgb = GridSearchCV(estimator=xgb, param_grid=param_grid_xgb, scoring='accuracy', cv=5, n_jobs=-1)\n",
        "grid_search_xgb.fit(X_train_resampled, y_train_resampled)\n",
        "\n",
        "best_accuracy = grid_search_xgb.best_score_\n",
        "print('Accuracy on Cross Validation set:', best_accuracy)\n",
        "\n",
        "y_pred_xgb = grid_search_xgb.predict(X_test)\n",
        "f1 = f1_score(y_test, y_pred_xgb)\n",
        "acc = accuracy_score(y_test, y_pred_xgb)\n",
        "\n",
        "print('F1 Score:', f1)\n",
        "print('Accuracy:', acc)\n",
        "print('Confusion Matrix:\\n', confusion_matrix(y_test, y_pred_xgb))\n"
      ],
      "metadata": {
        "colab": {
          "base_uri": "https://localhost:8080/"
        },
        "id": "7J7Q5JKr4s9u",
        "outputId": "08655206-a0e7-4c79-bd3c-7d1e3c05efb4"
      },
      "execution_count": null,
      "outputs": [
        {
          "output_type": "stream",
          "name": "stdout",
          "text": [
            "Accuracy on Cross Validation set: 0.8630432923301387\n",
            "F1 Score: 0.44339622641509435\n",
            "Accuracy: 0.764\n",
            "Confusion Matrix:\n",
            " [[2010  326]\n",
            " [ 382  282]]\n"
          ]
        }
      ]
    },
    {
      "cell_type": "code",
      "source": [
        "grid_search_xgb"
      ],
      "metadata": {
        "colab": {
          "base_uri": "https://localhost:8080/",
          "height": 313
        },
        "id": "OhQP2tHCqoaD",
        "outputId": "739c624e-ad67-49bc-b6b4-67c795649cac"
      },
      "execution_count": null,
      "outputs": [
        {
          "output_type": "execute_result",
          "data": {
            "text/plain": [
              "GridSearchCV(cv=5,\n",
              "             estimator=XGBClassifier(base_score=None, booster=None,\n",
              "                                     callbacks=None, colsample_bylevel=None,\n",
              "                                     colsample_bynode=None,\n",
              "                                     colsample_bytree=None,\n",
              "                                     early_stopping_rounds=None,\n",
              "                                     enable_categorical=False, eval_metric=None,\n",
              "                                     feature_types=None, gamma=None,\n",
              "                                     gpu_id=None, grow_policy=None,\n",
              "                                     importance_type=None,\n",
              "                                     interaction_constraints=None,\n",
              "                                     learning_rate=None,...\n",
              "                                     max_cat_to_onehot=None,\n",
              "                                     max_delta_step=None, max_depth=None,\n",
              "                                     max_leaves=None, min_child_weight=None,\n",
              "                                     missing=nan, monotone_constraints=None,\n",
              "                                     n_estimators=100, n_jobs=None,\n",
              "                                     num_parallel_tree=None, predictor=None,\n",
              "                                     random_state=None, ...),\n",
              "             n_jobs=-1,\n",
              "             param_grid={'max_depth': [3, 5, 7, 10],\n",
              "                         'min_child_weight': [2, 3, 4, 5],\n",
              "                         'n_estimators': [50, 100, 150, 200]},\n",
              "             scoring='accuracy')"
            ],
            "text/html": [
              "<style>#sk-container-id-1 {color: black;background-color: white;}#sk-container-id-1 pre{padding: 0;}#sk-container-id-1 div.sk-toggleable {background-color: white;}#sk-container-id-1 label.sk-toggleable__label {cursor: pointer;display: block;width: 100%;margin-bottom: 0;padding: 0.3em;box-sizing: border-box;text-align: center;}#sk-container-id-1 label.sk-toggleable__label-arrow:before {content: \"▸\";float: left;margin-right: 0.25em;color: #696969;}#sk-container-id-1 label.sk-toggleable__label-arrow:hover:before {color: black;}#sk-container-id-1 div.sk-estimator:hover label.sk-toggleable__label-arrow:before {color: black;}#sk-container-id-1 div.sk-toggleable__content {max-height: 0;max-width: 0;overflow: hidden;text-align: left;background-color: #f0f8ff;}#sk-container-id-1 div.sk-toggleable__content pre {margin: 0.2em;color: black;border-radius: 0.25em;background-color: #f0f8ff;}#sk-container-id-1 input.sk-toggleable__control:checked~div.sk-toggleable__content {max-height: 200px;max-width: 100%;overflow: auto;}#sk-container-id-1 input.sk-toggleable__control:checked~label.sk-toggleable__label-arrow:before {content: \"▾\";}#sk-container-id-1 div.sk-estimator input.sk-toggleable__control:checked~label.sk-toggleable__label {background-color: #d4ebff;}#sk-container-id-1 div.sk-label input.sk-toggleable__control:checked~label.sk-toggleable__label {background-color: #d4ebff;}#sk-container-id-1 input.sk-hidden--visually {border: 0;clip: rect(1px 1px 1px 1px);clip: rect(1px, 1px, 1px, 1px);height: 1px;margin: -1px;overflow: hidden;padding: 0;position: absolute;width: 1px;}#sk-container-id-1 div.sk-estimator {font-family: monospace;background-color: #f0f8ff;border: 1px dotted black;border-radius: 0.25em;box-sizing: border-box;margin-bottom: 0.5em;}#sk-container-id-1 div.sk-estimator:hover {background-color: #d4ebff;}#sk-container-id-1 div.sk-parallel-item::after {content: \"\";width: 100%;border-bottom: 1px solid gray;flex-grow: 1;}#sk-container-id-1 div.sk-label:hover label.sk-toggleable__label {background-color: #d4ebff;}#sk-container-id-1 div.sk-serial::before {content: \"\";position: absolute;border-left: 1px solid gray;box-sizing: border-box;top: 0;bottom: 0;left: 50%;z-index: 0;}#sk-container-id-1 div.sk-serial {display: flex;flex-direction: column;align-items: center;background-color: white;padding-right: 0.2em;padding-left: 0.2em;position: relative;}#sk-container-id-1 div.sk-item {position: relative;z-index: 1;}#sk-container-id-1 div.sk-parallel {display: flex;align-items: stretch;justify-content: center;background-color: white;position: relative;}#sk-container-id-1 div.sk-item::before, #sk-container-id-1 div.sk-parallel-item::before {content: \"\";position: absolute;border-left: 1px solid gray;box-sizing: border-box;top: 0;bottom: 0;left: 50%;z-index: -1;}#sk-container-id-1 div.sk-parallel-item {display: flex;flex-direction: column;z-index: 1;position: relative;background-color: white;}#sk-container-id-1 div.sk-parallel-item:first-child::after {align-self: flex-end;width: 50%;}#sk-container-id-1 div.sk-parallel-item:last-child::after {align-self: flex-start;width: 50%;}#sk-container-id-1 div.sk-parallel-item:only-child::after {width: 0;}#sk-container-id-1 div.sk-dashed-wrapped {border: 1px dashed gray;margin: 0 0.4em 0.5em 0.4em;box-sizing: border-box;padding-bottom: 0.4em;background-color: white;}#sk-container-id-1 div.sk-label label {font-family: monospace;font-weight: bold;display: inline-block;line-height: 1.2em;}#sk-container-id-1 div.sk-label-container {text-align: center;}#sk-container-id-1 div.sk-container {/* jupyter's `normalize.less` sets `[hidden] { display: none; }` but bootstrap.min.css set `[hidden] { display: none !important; }` so we also need the `!important` here to be able to override the default hidden behavior on the sphinx rendered scikit-learn.org. See: https://github.com/scikit-learn/scikit-learn/issues/21755 */display: inline-block !important;position: relative;}#sk-container-id-1 div.sk-text-repr-fallback {display: none;}</style><div id=\"sk-container-id-1\" class=\"sk-top-container\"><div class=\"sk-text-repr-fallback\"><pre>GridSearchCV(cv=5,\n",
              "             estimator=XGBClassifier(base_score=None, booster=None,\n",
              "                                     callbacks=None, colsample_bylevel=None,\n",
              "                                     colsample_bynode=None,\n",
              "                                     colsample_bytree=None,\n",
              "                                     early_stopping_rounds=None,\n",
              "                                     enable_categorical=False, eval_metric=None,\n",
              "                                     feature_types=None, gamma=None,\n",
              "                                     gpu_id=None, grow_policy=None,\n",
              "                                     importance_type=None,\n",
              "                                     interaction_constraints=None,\n",
              "                                     learning_rate=None,...\n",
              "                                     max_cat_to_onehot=None,\n",
              "                                     max_delta_step=None, max_depth=None,\n",
              "                                     max_leaves=None, min_child_weight=None,\n",
              "                                     missing=nan, monotone_constraints=None,\n",
              "                                     n_estimators=100, n_jobs=None,\n",
              "                                     num_parallel_tree=None, predictor=None,\n",
              "                                     random_state=None, ...),\n",
              "             n_jobs=-1,\n",
              "             param_grid={&#x27;max_depth&#x27;: [3, 5, 7, 10],\n",
              "                         &#x27;min_child_weight&#x27;: [2, 3, 4, 5],\n",
              "                         &#x27;n_estimators&#x27;: [50, 100, 150, 200]},\n",
              "             scoring=&#x27;accuracy&#x27;)</pre><b>In a Jupyter environment, please rerun this cell to show the HTML representation or trust the notebook. <br />On GitHub, the HTML representation is unable to render, please try loading this page with nbviewer.org.</b></div><div class=\"sk-container\" hidden><div class=\"sk-item sk-dashed-wrapped\"><div class=\"sk-label-container\"><div class=\"sk-label sk-toggleable\"><input class=\"sk-toggleable__control sk-hidden--visually\" id=\"sk-estimator-id-1\" type=\"checkbox\" ><label for=\"sk-estimator-id-1\" class=\"sk-toggleable__label sk-toggleable__label-arrow\">GridSearchCV</label><div class=\"sk-toggleable__content\"><pre>GridSearchCV(cv=5,\n",
              "             estimator=XGBClassifier(base_score=None, booster=None,\n",
              "                                     callbacks=None, colsample_bylevel=None,\n",
              "                                     colsample_bynode=None,\n",
              "                                     colsample_bytree=None,\n",
              "                                     early_stopping_rounds=None,\n",
              "                                     enable_categorical=False, eval_metric=None,\n",
              "                                     feature_types=None, gamma=None,\n",
              "                                     gpu_id=None, grow_policy=None,\n",
              "                                     importance_type=None,\n",
              "                                     interaction_constraints=None,\n",
              "                                     learning_rate=None,...\n",
              "                                     max_cat_to_onehot=None,\n",
              "                                     max_delta_step=None, max_depth=None,\n",
              "                                     max_leaves=None, min_child_weight=None,\n",
              "                                     missing=nan, monotone_constraints=None,\n",
              "                                     n_estimators=100, n_jobs=None,\n",
              "                                     num_parallel_tree=None, predictor=None,\n",
              "                                     random_state=None, ...),\n",
              "             n_jobs=-1,\n",
              "             param_grid={&#x27;max_depth&#x27;: [3, 5, 7, 10],\n",
              "                         &#x27;min_child_weight&#x27;: [2, 3, 4, 5],\n",
              "                         &#x27;n_estimators&#x27;: [50, 100, 150, 200]},\n",
              "             scoring=&#x27;accuracy&#x27;)</pre></div></div></div><div class=\"sk-parallel\"><div class=\"sk-parallel-item\"><div class=\"sk-item\"><div class=\"sk-label-container\"><div class=\"sk-label sk-toggleable\"><input class=\"sk-toggleable__control sk-hidden--visually\" id=\"sk-estimator-id-2\" type=\"checkbox\" ><label for=\"sk-estimator-id-2\" class=\"sk-toggleable__label sk-toggleable__label-arrow\">estimator: XGBClassifier</label><div class=\"sk-toggleable__content\"><pre>XGBClassifier(base_score=None, booster=None, callbacks=None,\n",
              "              colsample_bylevel=None, colsample_bynode=None,\n",
              "              colsample_bytree=None, early_stopping_rounds=None,\n",
              "              enable_categorical=False, eval_metric=None, feature_types=None,\n",
              "              gamma=None, gpu_id=None, grow_policy=None, importance_type=None,\n",
              "              interaction_constraints=None, learning_rate=None, max_bin=None,\n",
              "              max_cat_threshold=None, max_cat_to_onehot=None,\n",
              "              max_delta_step=None, max_depth=None, max_leaves=None,\n",
              "              min_child_weight=None, missing=nan, monotone_constraints=None,\n",
              "              n_estimators=100, n_jobs=None, num_parallel_tree=None,\n",
              "              predictor=None, random_state=None, ...)</pre></div></div></div><div class=\"sk-serial\"><div class=\"sk-item\"><div class=\"sk-estimator sk-toggleable\"><input class=\"sk-toggleable__control sk-hidden--visually\" id=\"sk-estimator-id-3\" type=\"checkbox\" ><label for=\"sk-estimator-id-3\" class=\"sk-toggleable__label sk-toggleable__label-arrow\">XGBClassifier</label><div class=\"sk-toggleable__content\"><pre>XGBClassifier(base_score=None, booster=None, callbacks=None,\n",
              "              colsample_bylevel=None, colsample_bynode=None,\n",
              "              colsample_bytree=None, early_stopping_rounds=None,\n",
              "              enable_categorical=False, eval_metric=None, feature_types=None,\n",
              "              gamma=None, gpu_id=None, grow_policy=None, importance_type=None,\n",
              "              interaction_constraints=None, learning_rate=None, max_bin=None,\n",
              "              max_cat_threshold=None, max_cat_to_onehot=None,\n",
              "              max_delta_step=None, max_depth=None, max_leaves=None,\n",
              "              min_child_weight=None, missing=nan, monotone_constraints=None,\n",
              "              n_estimators=100, n_jobs=None, num_parallel_tree=None,\n",
              "              predictor=None, random_state=None, ...)</pre></div></div></div></div></div></div></div></div></div></div>"
            ]
          },
          "metadata": {},
          "execution_count": 73
        }
      ]
    },
    {
      "cell_type": "markdown",
      "source": [
        "# **# Code for data without SMOTE.**"
      ],
      "metadata": {
        "id": "oXoGEW_uqahT"
      }
    },
    {
      "cell_type": "code",
      "source": [
        "#Baseline and trivial without using SMOTE train set.\n",
        "\n",
        "\n",
        "\n",
        "# Trivial system: predict class assignments at random\n",
        "trivial_model = DummyClassifier(strategy='stratified', random_state=1)\n",
        "from sklearn.model_selection import cross_val_score\n",
        "\n",
        "# Trivial system cross-validation\n",
        "\n",
        "trivial_acc_cv = cross_val_score(trivial_model, X_train, y_train, cv=5, scoring='accuracy')\n",
        "f1_mean = trivial_acc_cv.mean()\n",
        "f1_std = trivial_acc_cv.std()\n",
        "\n",
        "\n",
        "trivial_model.fit(X_train, y_train)\n",
        "y_pred_trivial = trivial_model.predict(X_test_nosample)\n",
        "\n",
        "# Calculate evaluation metrics for the trivial system\n",
        "trivial_acc = accuracy_score(y_test, y_pred_trivial)\n",
        "trivial_f1 = f1_score(y_test, y_pred_trivial)\n",
        "trivial_conf_matrix = confusion_matrix(y_test, y_pred_trivial)\n",
        "\n",
        "# Baseline system: nearest means classifier\n",
        "# Baseline system cross-validation\n",
        "baseline_model = NearestCentroid()\n",
        "baseline_acc_cv = cross_val_score(baseline_model, X_train, y_train, cv=5, scoring='accuracy')\n",
        "f1_mean1 = baseline_acc_cv.mean()\n",
        "f1_std1 = baseline_acc_cv.std()\n",
        "\n",
        "\n",
        "\n",
        "baseline_model.fit(X_train, y_train)\n",
        "y_pred_baseline = baseline_model.predict(X_test_nosample)\n",
        "\n",
        "# Calculate evaluation metrics for the baseline system\n",
        "baseline_acc = accuracy_score(y_test, y_pred_baseline)\n",
        "baseline_f1 = f1_score(y_test, y_pred_baseline)\n",
        "baseline_conf_matrix = confusion_matrix(y_test, y_pred_baseline)\n",
        "\n",
        "# Print the evaluation metrics for both systems\n",
        "# Print the cross-validation results\n",
        "print(\"Cross-Validation Results:\")\n",
        "print(\"Accuracy Score - Mean:\", f1_mean, \"Std:\", f1_std)\n",
        "print('Trivial System Evaluation Metrics:')\n",
        "print(f'Accuracy: {trivial_acc:.4f}')\n",
        "print(f'F1 Score: {trivial_f1:.4f}')\n",
        "print(f'Confusion Matrix:\\n{trivial_conf_matrix}\\n')\n",
        "sns.set(font_scale=1.4) # Adjust font size\n",
        "sns.heatmap(trivial_conf_matrix, annot=True, fmt='g', cmap='Blues')\n",
        "\n",
        "plt.xlabel('Predicted')\n",
        "plt.ylabel('True')\n",
        "plt.show()\n",
        "\n",
        "\n",
        "print('Baseline System Evaluation Metrics:')\n",
        "# Print the cross-validation results\n",
        "print(\"Cross-Validation Results:\")\n",
        "print(\"Accuracy Score - Mean:\", f1_mean1, \"Std:\", f1_std1)\n",
        "print(f'Accuracy: {baseline_acc:.4f}')\n",
        "print(f'F1 Score: {baseline_f1:.4f}')\n",
        "print(f'Confusion Matrix:\\n{baseline_conf_matrix}')\n",
        "sns.set(font_scale=1.4) # Adjust font size\n",
        "sns.heatmap(baseline_conf_matrix, annot=True, fmt='g', cmap='Blues')\n",
        "\n",
        "plt.xlabel('Predicted')\n",
        "plt.ylabel('True')\n",
        "plt.show()\n"
      ],
      "metadata": {
        "colab": {
          "base_uri": "https://localhost:8080/",
          "height": 1000
        },
        "id": "PP8qgoHYmJtX",
        "outputId": "397880b8-db52-4873-f6ed-f50146430c74"
      },
      "execution_count": null,
      "outputs": [
        {
          "output_type": "stream",
          "name": "stdout",
          "text": [
            "Cross-Validation Results:\n",
            "Accuracy Score - Mean: 0.655 Std: 0.017818529681205467\n",
            "Trivial System Evaluation Metrics:\n",
            "Accuracy: 0.6553\n",
            "F1 Score: 0.2009\n",
            "Confusion Matrix:\n",
            "[[1836  500]\n",
            " [ 534  130]]\n",
            "\n"
          ]
        },
        {
          "output_type": "display_data",
          "data": {
            "text/plain": [
              "<Figure size 640x480 with 2 Axes>"
            ],
            "image/png": "[encoded data removed]"
          },
          "metadata": {}
        },
        {
          "output_type": "stream",
          "name": "stdout",
          "text": [
            "Baseline System Evaluation Metrics:\n",
            "Cross-Validation Results:\n",
            "Accuracy Score - Mean: 0.6420000000000001 Std: 0.01798610574860495\n",
            "Accuracy: 0.6507\n",
            "F1 Score: 0.4366\n",
            "Confusion Matrix:\n",
            "[[1546  790]\n",
            " [ 258  406]]\n"
          ]
        },
        {
          "output_type": "display_data",
          "data": {
            "text/plain": [
              "<Figure size 640x480 with 2 Axes>"
            ],
            "image/png": "[encoded data removed]"
          },
          "metadata": {}
        }
      ]
    },
    {
      "cell_type": "markdown",
      "source": [
        "Logistic Classifier"
      ],
      "metadata": {
        "id": "NvuFAZQMrG4x"
      }
    },
    {
      "cell_type": "code",
      "source": [
        "logmodel1 = LogisticRegression(random_state=1)\n",
        "# logmodel.fit(X_train_new,y_train_new)\n",
        "scores = cross_val_score(logmodel1, X_train, y_train, cv=5, scoring='accuracy')\n",
        "# Calculate the mean and standard deviation of the F1 scores\n",
        "f1_mean = scores.mean()\n",
        "f1_std = scores.std()\n",
        "\n",
        "# Print the cross-validation results\n",
        "print(\"Cross-Validation Results:\")\n",
        "print(\"Accuracy Score - Mean:\", f1_mean, \"Std:\", f1_std)\n",
        "\n",
        "best_model = LogisticRegression(random_state=1, C=0.1)\n",
        "best_model.fit(X_train, y_train)\n",
        "y_pred = best_model.predict(X_test_nosample)\n",
        "f1 = f1_score(y_test, y_pred)\n",
        "acc = accuracy_score(y_test, y_pred)\n",
        "print(\"Test-set F1 score:\", f1)\n",
        "print(\"Test-set accuracy:\", acc)\n",
        "cm = confusion_matrix(y_test, y_pred)\n",
        "sns.set(font_scale=1.4) # Adjust font size\n",
        "sns.heatmap(cm, annot=True, fmt='g', cmap='Blues')\n",
        "\n",
        "plt.xlabel('Predicted')\n",
        "plt.ylabel('True')\n",
        "plt.show()"
      ],
      "metadata": {
        "colab": {
          "base_uri": "https://localhost:8080/",
          "height": 537
        },
        "id": "_RNvG8Ppq9qF",
        "outputId": "7bd6f65a-ef17-4b4c-ed6e-0b0310299bff"
      },
      "execution_count": null,
      "outputs": [
        {
          "output_type": "stream",
          "name": "stdout",
          "text": [
            "Cross-Validation Results:\n",
            "Accuracy Score - Mean: 0.8055 Std: 0.009924716620639606\n",
            "Test-set F1 score: 0.3127962085308057\n",
            "Test-set accuracy: 0.8066666666666666\n"
          ]
        },
        {
          "output_type": "display_data",
          "data": {
            "text/plain": [
              "<Figure size 640x480 with 2 Axes>"
            ],
            "image/png": "[encoded data removed]"
          },
          "metadata": {}
        }
      ]
    },
    {
      "cell_type": "markdown",
      "source": [
        "XGBOOST"
      ],
      "metadata": {
        "id": "iTv8v4b1rGEH"
      }
    },
    {
      "cell_type": "code",
      "source": [
        "from sklearn.model_selection import cross_val_score\n",
        "\n",
        "# Define the best-fit model\n",
        "best_model = XGBClassifier(learning_rate=0.1, max_depth=5, n_estimators=100, random_state=1)\n",
        "\n",
        "# Perform 5-fold cross-validation on the training set\n",
        "scores = cross_val_score(best_model, X_train, y_train, cv=5, scoring='accuracy')\n",
        "\n",
        "# Calculate the mean and standard deviation of the F1 scores\n",
        "f1_mean = scores.mean()\n",
        "f1_std = scores.std()\n",
        "\n",
        "# Print the cross-validation results\n",
        "print(\"Cross-Validation Results:\")\n",
        "print(\"Accuracy Score - Mean:\", f1_mean, \"Std:\", f1_std)\n",
        "\n",
        "# Retrain the model on the full training set\n",
        "best_model.fit(X_train, y_train)\n",
        "\n",
        "# Evaluate the final model on the test set\n",
        "y_pred = best_model.predict(X_test_nosample)\n",
        "f1 = f1_score(y_test, y_pred)\n",
        "acc = accuracy_score(y_test, y_pred)\n",
        "cm = confusion_matrix(y_test, y_pred)\n",
        "print(\"Test-set F1 score:\", f1)\n",
        "print(\"Test-set accuracy:\", acc)\n",
        "\n",
        "# Print the confusion matrix\n",
        "print(\"Confusion Matrix:\")\n",
        "sns.set(font_scale=1.4) # Adjust font size\n",
        "sns.heatmap(cm, annot=True, fmt='g', cmap='Blues')\n",
        "plt.xlabel('Predicted')\n",
        "plt.ylabel('True')\n",
        "plt.show()"
      ],
      "metadata": {
        "colab": {
          "base_uri": "https://localhost:8080/",
          "height": 555
        },
        "id": "tyRn6CwLrcRE",
        "outputId": "49f97c18-9d25-4062-ff5e-0ca53b2a0b0a"
      },
      "execution_count": null,
      "outputs": [
        {
          "output_type": "stream",
          "name": "stdout",
          "text": [
            "Cross-Validation Results:\n",
            "Accuracy Score - Mean: 0.808 Std: 0.013076696830622014\n",
            "Test-set F1 score: 0.4453125\n",
            "Test-set accuracy: 0.8106666666666666\n",
            "Confusion Matrix:\n"
          ]
        },
        {
          "output_type": "display_data",
          "data": {
            "text/plain": [
              "<Figure size 640x480 with 2 Axes>"
            ],
            "image/png": "[encoded data removed]"
          },
          "metadata": {}
        }
      ]
    },
    {
      "cell_type": "markdown",
      "source": [
        "SVM"
      ],
      "metadata": {
        "id": "VF1PamUQuf33"
      }
    },
    {
      "cell_type": "code",
      "source": [
        "svm = SVC(kernel='rbf', random_state=0)\n",
        "scores = cross_val_score(svm, X_train, y_train, cv=5, scoring='accuracy')\n",
        "f1_mean = scores.mean()\n",
        "f1_std = scores.std()\n",
        "\n",
        "# Print the cross-validation results\n",
        "print(\"Cross-Validation Results:\")\n",
        "print(\"Accuracy Score - Mean:\", f1_mean, \"Std:\", f1_std)\n",
        "\n",
        "best_model = SVC(kernel='rbf', random_state=0, C=1, gamma=0.1)\n",
        "best_model.fit(X_train, y_train)\n",
        "y_pred = best_model.predict(X_test_nosample)\n",
        "f1 = f1_score(y_test, y_pred)\n",
        "acc = accuracy_score(y_test, y_pred)\n",
        "print(\"Test-set F1 score:\", f1)\n",
        "print(\"Test-set accuracy:\", acc)\n",
        "cm = confusion_matrix(y_test, y_pred)\n",
        "sns.set(font_scale=1.4) # Adjust font size\n",
        "sns.heatmap(cm, annot=True, fmt='g', cmap='Blues')\n",
        "\n",
        "plt.xlabel('Predicted')\n",
        "plt.ylabel('True')\n",
        "plt.show()"
      ],
      "metadata": {
        "colab": {
          "base_uri": "https://localhost:8080/",
          "height": 537
        },
        "id": "tMLepOD3t_Y7",
        "outputId": "0921b7a6-5ac6-4734-94d1-cc785d3d82be"
      },
      "execution_count": null,
      "outputs": [
        {
          "output_type": "stream",
          "name": "stdout",
          "text": [
            "Cross-Validation Results:\n",
            "Accuracy Score - Mean: 0.8110000000000002 Std: 0.015779733838059504\n",
            "Test-set F1 score: 0.37393162393162394\n",
            "Test-set accuracy: 0.8046666666666666\n"
          ]
        },
        {
          "output_type": "display_data",
          "data": {
            "text/plain": [
              "<Figure size 640x480 with 2 Axes>"
            ],
            "image/png": "[encoded data removed]"
          },
          "metadata": {}
        }
      ]
    },
    {
      "cell_type": "markdown",
      "source": [
        "PCA and LDA"
      ],
      "metadata": {
        "id": "JHoF6uF5uilP"
      }
    },
    {
      "cell_type": "code",
      "source": [
        "# Apply PCA to reduce the dimensionality of the data\n",
        "pca = PCA(n_components=2)\n",
        "X_train_pca = pca.fit_transform(X_train)\n",
        "X_test_pca = pca.transform(X_test_nosample)\n",
        "\n",
        "\n",
        "# Apply LDA to reduce the dimensionality of the data\n",
        "lda = LinearDiscriminantAnalysis(n_components=1)\n",
        "X_train_lda = lda.fit_transform(X_train, y_train)\n",
        "X_test_lda = lda.transform(X_test_nosample)\n",
        "\n",
        "# Define the parameter grid for SVM\n",
        "param_grid = {'C': [0.1, 1, 10, 100],\n",
        "              'gamma': [0.1, 1, 10, 100]}\n",
        "\n",
        "# Perform grid search on PCA-based SVM\n",
        "svm_pca_gs = GridSearchCV(estimator=SVC(kernel='rbf', random_state=0),\n",
        "                          param_grid=param_grid,\n",
        "                          cv=5,\n",
        "                          scoring='accuracy')\n",
        "svm_pca_gs.fit(X_train_pca, y_train)\n",
        "print(\"Best parameters for PCA-based SVM:\", svm_pca_gs.best_params_)\n",
        "\n",
        "# Perform grid search on LDA-based SVM\n",
        "svm_lda_gs = GridSearchCV(estimator=SVC(kernel='rbf', random_state=0),\n",
        "                          param_grid=param_grid,\n",
        "                          cv=5,\n",
        "                          scoring='accuracy')\n",
        "svm_lda_gs.fit(X_train_lda, y_train)\n",
        "print(\"Best parameters for LDA-based SVM:\", svm_lda_gs.best_params_)\n",
        "\n",
        "# Evaluate the best models using cross-validation\n",
        "pca_scores = cross_val_score(svm_pca_gs.best_estimator_, X_train_pca, y_train, cv=5, scoring='accuracy')\n",
        "f1_mean_pca = pca_scores.mean()\n",
        "f1_std_pca = pca_scores.std()\n",
        "\n",
        "lda_scores = cross_val_score(svm_lda_gs.best_estimator_, X_train_lda, y_train, cv=5, scoring='accuracy')\n",
        "f1_mean_lda = lda_scores.mean()\n",
        "f1_std_lda = lda_scores.std()\n",
        "\n",
        "print(\"PCA-based SVM - Mean Accuracy:\", f1_mean_pca, \"Std:\", f1_std_pca)\n",
        "print(\"LDA-based SVM - Mean Accuracy:\", f1_mean_lda, \"Std:\", f1_std_lda)\n",
        "\n",
        "# Select the best model and fit it to the training data\n",
        "if f1_mean_pca > f1_mean_lda:\n",
        "    best_svm = svm_pca_gs.best_estimator_\n",
        "    X_train_best = X_train_pca\n",
        "    X_test_best = X_test_pca\n",
        "else:\n",
        "    best_svm = svm_lda_gs.best_estimator_\n",
        "    X_train_best = X_train_lda\n",
        "    X_test_best = X_test_lda\n",
        "\n",
        "best_svm.fit(X_train_best, y_train)\n",
        "\n",
        "# Compute and print the F1-score, accuracy, and confusion matrix for the best classifier\n",
        "y_pred_best = best_svm.predict(X_test_best)\n",
        "f1_best = f1_score(y_test, y_pred_best)\n",
        "acc_best = accuracy_score(y_test, y_pred_best)\n",
        "cm_best = confusion_matrix(y_test, y_pred_best)\n",
        "\n",
        "print(\"Best Classifier:\\nF1-score: {}\\nAccuracy: {}\\nConfusion Matrix:\\n{}\".format(f1_best, acc_best, cm_best))\n",
        "sns.set(font_scale=1.4) # Adjust font size\n",
        "sns.heatmap(cm_best, annot=True, fmt='g', cmap='Blues')\n",
        "\n",
        "plt.xlabel('Predicted')\n",
        "plt.ylabel('True')\n",
        "plt.show()\n",
        "\n",
        "\n",
        "\n",
        "\n"
      ],
      "metadata": {
        "colab": {
          "base_uri": "https://localhost:8080/",
          "height": 642
        },
        "id": "HWjoRQrBuIaV",
        "outputId": "3015cef1-cb58-476a-9dcb-31e0b703f3ac"
      },
      "execution_count": null,
      "outputs": [
        {
          "output_type": "stream",
          "name": "stdout",
          "text": [
            "Best parameters for PCA-based SVM: {'C': 1, 'gamma': 0.1}\n",
            "Best parameters for LDA-based SVM: {'C': 100, 'gamma': 1}\n",
            "PCA-based SVM - Mean Accuracy: 0.8109999999999999 Std: 0.013838352503098039\n",
            "LDA-based SVM - Mean Accuracy: 0.8210000000000001 Std: 0.005147815070493479\n",
            "Best Classifier:\n",
            "F1-score: 0.4405113077679449\n",
            "Accuracy: 0.8103333333333333\n",
            "Confusion Matrix:\n",
            "[[2207  129]\n",
            " [ 440  224]]\n"
          ]
        },
        {
          "output_type": "display_data",
          "data": {
            "text/plain": [
              "<Figure size 640x480 with 2 Axes>"
            ],
            "image/png": "[encoded data removed]"
          },
          "metadata": {}
        }
      ]
    },
    {
      "cell_type": "markdown",
      "source": [
        "# **Featue Selection Performance**"
      ],
      "metadata": {
        "id": "hMo5FWtKv1aE"
      }
    },
    {
      "cell_type": "code",
      "source": [
        "\n",
        "X_train_copy = X_train_resampled.drop(['pay_4', 'pay_5', 'pay_6', 'bill_amt4', 'bill_amt5', 'bill_amt6'], axis=1)\n",
        "X_test_copy = X_test.drop(['pay_4', 'pay_5', 'pay_6', 'bill_amt4', 'bill_amt5', 'bill_amt6'], axis=1)\n",
        "\n",
        "logmodel2 = LogisticRegression(random_state=1)\n",
        "# logmodel.fit(X_train_new,y_train_new)\n",
        "scores = cross_val_score(logmodel2, X_train_copy, y_train_resampled, cv=5, scoring='accuracy')\n",
        "# Calculate the mean and standard deviation of the F1 scores\n",
        "f1_mean = scores.mean()\n",
        "f1_std = scores.std()\n",
        "\n",
        "# Print the cross-validation results\n",
        "print(\"Cross-Validation Results:\")\n",
        "print(\"Accuracy Score - Mean:\", f1_mean, \"Std:\", f1_std)\n",
        "\n",
        "best_model = LogisticRegression(random_state=1, C=0.1)\n",
        "best_model.fit(X_train_copy, y_train_resampled)\n",
        "y_pred = best_model.predict(X_test_copy)\n",
        "f1 = f1_score(y_test, y_pred)\n",
        "acc = accuracy_score(y_test, y_pred)\n",
        "print(\"Test-set F1 score:\", f1)\n",
        "print(\"Test-set accuracy:\", acc)\n",
        "cm = confusion_matrix(y_test, y_pred)\n",
        "sns.set(font_scale=1.4) # Adjust font size\n",
        "sns.heatmap(cm, annot=True, fmt='g', cmap='Blues')\n",
        "\n",
        "plt.xlabel('Predicted')\n",
        "plt.ylabel('True')\n",
        "plt.show()"
      ],
      "metadata": {
        "colab": {
          "base_uri": "https://localhost:8080/",
          "height": 537
        },
        "id": "OV-qXXVYuZMk",
        "outputId": "5e81226a-2f4c-4840-bd07-264b1b2342e9"
      },
      "execution_count": null,
      "outputs": [
        {
          "output_type": "stream",
          "name": "stdout",
          "text": [
            "Cross-Validation Results:\n",
            "Accuracy Score - Mean: 0.7374915100747114 Std: 0.05950918035773082\n",
            "Test-set F1 score: 0.43969102792632203\n",
            "Test-set accuracy: 0.6856666666666666\n"
          ]
        },
        {
          "output_type": "display_data",
          "data": {
            "text/plain": [
              "<Figure size 640x480 with 2 Axes>"
            ],
            "image/png": "[encoded data removed]"
          },
          "metadata": {}
        }
      ]
    },
    {
      "cell_type": "code",
      "source": [
        "# Define the best-fit model\n",
        "best_model = XGBClassifier(learning_rate=0.1, max_depth=5, n_estimators=100, random_state=1)\n",
        "\n",
        "# Perform 5-fold cross-validation on the training set\n",
        "scores = cross_val_score(best_model, X_train_copy, y_train_resampled, cv=5, scoring='accuracy')\n",
        "\n",
        "# Calculate the mean and standard deviation of the F1 scores\n",
        "f1_mean = scores.mean()\n",
        "f1_std = scores.std()\n",
        "\n",
        "# Print the cross-validation results\n",
        "print(\"Cross-Validation Results:\")\n",
        "print(\"Accuracy Score - Mean:\", f1_mean, \"Std:\", f1_std)\n",
        "\n",
        "# Retrain the model on the full training set\n",
        "best_model.fit(X_train_copy, y_train_resampled)\n",
        "\n",
        "# Evaluate the final model on the test set\n",
        "y_pred = best_model.predict(X_test_copy)\n",
        "f1 = f1_score(y_test, y_pred)\n",
        "acc = accuracy_score(y_test, y_pred)\n",
        "cm = confusion_matrix(y_test, y_pred)\n",
        "print(\"Test-set F1 score:\", f1)\n",
        "print(\"Test-set accuracy:\", acc)\n",
        "\n",
        "# Print the confusion matrix\n",
        "print(\"Confusion Matrix:\")\n",
        "sns.set(font_scale=1.4) # Adjust font size\n",
        "sns.heatmap(cm, annot=True, fmt='g', cmap='Blues')\n",
        "plt.xlabel('Predicted')\n",
        "plt.ylabel('True')\n",
        "plt.show()"
      ],
      "metadata": {
        "colab": {
          "base_uri": "https://localhost:8080/",
          "height": 555
        },
        "id": "iWBCi8ktwgsk",
        "outputId": "a7b1365d-ac32-4e96-d9c9-e4ba66355692"
      },
      "execution_count": null,
      "outputs": [
        {
          "output_type": "stream",
          "name": "stdout",
          "text": [
            "Cross-Validation Results:\n",
            "Accuracy Score - Mean: 0.8269021205946722 Std: 0.07592129783007592\n",
            "Test-set F1 score: 0.45331325301204817\n",
            "Test-set accuracy: 0.758\n",
            "Confusion Matrix:\n"
          ]
        },
        {
          "output_type": "display_data",
          "data": {
            "text/plain": [
              "<Figure size 640x480 with 2 Axes>"
            ],
            "image/png": "[encoded data removed]"
          },
          "metadata": {}
        }
      ]
    },
    {
      "cell_type": "code",
      "source": [
        "\n",
        "svm = SVC(kernel='rbf', random_state=0)\n",
        "scores = cross_val_score(svm, X_train_copy, y_train_resampled, cv=5, scoring='accuracy')\n",
        "f1_mean = scores.mean()\n",
        "f1_std = scores.std()\n",
        "\n",
        "# Print the cross-validation results\n",
        "print(\"Cross-Validation Results:\")\n",
        "print(\"Accuracy Score - Mean:\", f1_mean, \"Std:\", f1_std)\n",
        "\n",
        "best_model = SVC(kernel='rbf', random_state=0, C=1, gamma=0.1)\n",
        "best_model.fit(X_train_copy, y_train_resampled)\n",
        "y_pred = best_model.predict(X_test_copy)\n",
        "f1 = f1_score(y_test, y_pred)\n",
        "acc = accuracy_score(y_test, y_pred)\n",
        "print(\"Test-set F1 score:\", f1)\n",
        "print(\"Test-set accuracy:\", acc)\n",
        "cm = confusion_matrix(y_test, y_pred)\n",
        "sns.set(font_scale=1.4) # Adjust font size\n",
        "sns.heatmap(cm, annot=True, fmt='g', cmap='Blues')\n",
        "\n",
        "plt.xlabel('Predicted')\n",
        "plt.ylabel('True')\n",
        "plt.show()\n",
        "\n",
        "\n",
        "\n",
        "\n",
        "\n",
        "\n"
      ],
      "metadata": {
        "colab": {
          "base_uri": "https://localhost:8080/",
          "height": 537
        },
        "id": "uv2LtHZdzlxu",
        "outputId": "cea96421-128f-485a-a1f0-b25fec5871d0"
      },
      "execution_count": null,
      "outputs": [
        {
          "output_type": "stream",
          "name": "stdout",
          "text": [
            "Cross-Validation Results:\n",
            "Accuracy Score - Mean: 0.7821965637813498 Std: 0.05548515330795261\n",
            "Test-set F1 score: 0.4601186552406064\n",
            "Test-set accuracy: 0.727\n"
          ]
        },
        {
          "output_type": "display_data",
          "data": {
            "text/plain": [
              "<Figure size 640x480 with 2 Axes>"
            ],
            "image/png": "[encoded data removed]"
          },
          "metadata": {}
        }
      ]
    },
    {
      "cell_type": "code",
      "source": [
        "# Apply PCA to reduce the dimensionality of the data\n",
        "pca = PCA(n_components=2)\n",
        "X_train_pca = pca.fit_transform(X_train_copy)\n",
        "X_test_pca = pca.transform(X_test_copy)\n",
        "\n",
        "\n",
        "# Apply LDA to reduce the dimensionality of the data\n",
        "lda = LinearDiscriminantAnalysis(n_components=1)\n",
        "X_train_lda = lda.fit_transform(X_train_copy, y_train_resampled)\n",
        "X_test_lda = lda.transform(X_test_copy)\n",
        "\n",
        "from sklearn.model_selection import GridSearchCV\n",
        "\n",
        "# Define the parameter grid for SVM\n",
        "param_grid = {'C': [0.1, 1, 10, 100],\n",
        "              'gamma': [0.1, 1, 10, 100]}\n",
        "\n",
        "# Perform grid search on PCA-based SVM\n",
        "svm_pca_gs = GridSearchCV(estimator=SVC(kernel='rbf', random_state=0),\n",
        "                          param_grid=param_grid,\n",
        "                          cv=5,\n",
        "                          scoring='accuracy')\n",
        "svm_pca_gs.fit(X_train_pca, y_train_resampled)\n",
        "print(\"Best parameters for PCA-based SVM:\", svm_pca_gs.best_params_)\n",
        "\n",
        "# Perform grid search on LDA-based SVM\n",
        "svm_lda_gs = GridSearchCV(estimator=SVC(kernel='rbf', random_state=0),\n",
        "                          param_grid=param_grid,\n",
        "                          cv=5,\n",
        "                          scoring='accuracy')\n",
        "svm_lda_gs.fit(X_train_lda, y_train_resampled)\n",
        "print(\"Best parameters for LDA-based SVM:\", svm_lda_gs.best_params_)\n",
        "\n",
        "# Evaluate the best models using cross-validation\n",
        "pca_scores = cross_val_score(svm_pca_gs.best_estimator_, X_train_pca, y_train_resampled, cv=5, scoring='accuracy')\n",
        "f1_mean_pca = pca_scores.mean()\n",
        "f1_std_pca = pca_scores.std()\n",
        "\n",
        "lda_scores = cross_val_score(svm_lda_gs.best_estimator_, X_train_lda, y_train_resampled, cv=5, scoring='accuracy')\n",
        "f1_mean_lda = lda_scores.mean()\n",
        "f1_std_lda = lda_scores.std()\n",
        "\n",
        "print(\"PCA-based SVM - Mean Accuracy:\", f1_mean_pca, \"Std:\", f1_std_pca)\n",
        "print(\"LDA-based SVM - Mean Accuracy:\", f1_mean_lda, \"Std:\", f1_std_lda)\n",
        "\n",
        "# Select the best model and fit it to the training data\n",
        "if f1_mean_pca > f1_mean_lda:\n",
        "    best_svm = svm_pca_gs.best_estimator_\n",
        "    X_train_best = X_train_pca\n",
        "    X_test_best = X_test_pca\n",
        "else:\n",
        "    best_svm = svm_lda_gs.best_estimator_\n",
        "    X_train_best = X_train_lda\n",
        "    X_test_best = X_test_lda\n",
        "\n",
        "best_svm.fit(X_train_best, y_train_resampled)\n",
        "\n",
        "# Compute and print the F1-score, accuracy, and confusion matrix for the best classifier\n",
        "y_pred_best = best_svm.predict(X_test_best)\n",
        "f1_best = f1_score(y_test, y_pred_best)\n",
        "acc_best = accuracy_score(y_test, y_pred_best)\n",
        "cm_best = confusion_matrix(y_test, y_pred_best)\n",
        "\n",
        "print(\"Best Classifier:\\nF1-score: {}\\nAccuracy: {}\\nConfusion Matrix:\\n{}\".format(f1_best, acc_best, cm_best))\n",
        "sns.set(font_scale=1.4) # Adjust font size\n",
        "sns.heatmap(cm_best, annot=True, fmt='g', cmap='Blues')\n",
        "\n",
        "plt.xlabel('Predicted')\n",
        "plt.ylabel('True')\n",
        "plt.show()"
      ],
      "metadata": {
        "colab": {
          "base_uri": "https://localhost:8080/",
          "height": 642
        },
        "id": "4qSJIBoWzpO_",
        "outputId": "c0b6b830-5ba5-4efd-9622-0233ad1ab22e"
      },
      "execution_count": null,
      "outputs": [
        {
          "output_type": "stream",
          "name": "stdout",
          "text": [
            "Best parameters for PCA-based SVM: {'C': 10, 'gamma': 10}\n",
            "Best parameters for LDA-based SVM: {'C': 10, 'gamma': 0.1}\n",
            "PCA-based SVM - Mean Accuracy: 0.7162352526853318 Std: 0.028383509431049263\n",
            "LDA-based SVM - Mean Accuracy: 0.7371755590773024 Std: 0.05974028294990264\n",
            "Best Classifier:\n",
            "F1-score: 0.42680546519193235\n",
            "Accuracy: 0.7063333333333334\n",
            "Confusion Matrix:\n",
            "[[1791  545]\n",
            " [ 336  328]]\n"
          ]
        },
        {
          "output_type": "display_data",
          "data": {
            "text/plain": [
              "<Figure size 640x480 with 2 Axes>"
            ],
            "image/png": "[encoded data removed]"
          },
          "metadata": {}
        }
      ]
    },
    {
      "cell_type": "markdown",
      "source": [
        "We see that Customers who are female, have higher levels of education, are single, and fall within the age range of 30-40 years old are more likely to make payments on time."
      ],
      "metadata": {
        "id": "3vtHIx5C9zbp"
      }
    }
  ]
}